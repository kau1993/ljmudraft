{
 "cells": [
  {
   "cell_type": "markdown",
   "metadata": {},
   "source": [
    "# Comparative Study of Different Machine Learning Algorithms on P2P Loan Lending Organization’s Dataset to Predict the Loan Defaulters"
   ]
  },
  {
   "cell_type": "markdown",
   "metadata": {},
   "source": [
    "## Importing the required libraries"
   ]
  },
  {
   "cell_type": "code",
   "execution_count": 1,
   "metadata": {
    "ExecuteTime": {
     "end_time": "2021-08-23T05:15:21.047116Z",
     "start_time": "2021-08-23T05:15:13.710718Z"
    }
   },
   "outputs": [],
   "source": [
    "import pandas as pd\n",
    "import numpy as np\n",
    "\n",
    "\n",
    "import catboost \n",
    "import xgboost\n",
    "import optuna\n",
    "\n",
    "from sklearn import metrics\n",
    "from sklearn.ensemble import RandomForestClassifier, GradientBoostingClassifier, AdaBoostClassifier, BaggingClassifier\n",
    "from sklearn.kernel_ridge import KernelRidge\n",
    "from sklearn.linear_model import Ridge, RidgeCV\n",
    "from sklearn.linear_model import ElasticNet, ElasticNetCV\n",
    "from sklearn.svm import SVR\n",
    "from mlxtend.regressor import StackingCVRegressor\n",
    "import lightgbm as lgb\n",
    "from lightgbm import LGBMClassifier\n",
    "from xgboost import XGBClassifier\n",
    "\n",
    "# Stats\n",
    "from scipy.stats import skew, norm\n",
    "from scipy.special import boxcox1p\n",
    "from scipy.stats import boxcox_normmax\n",
    "import matplotlib.pyplot as plt \n",
    "\n",
    "# Misc\n",
    "from sklearn.model_selection import GridSearchCV\n",
    "from sklearn.model_selection import KFold, cross_val_score\n",
    "from sklearn.metrics import mean_squared_error\n",
    "from sklearn.preprocessing import OneHotEncoder\n",
    "from sklearn.preprocessing import LabelEncoder\n",
    "from sklearn.pipeline import make_pipeline\n",
    "from sklearn.preprocessing import scale\n",
    "from sklearn.preprocessing import StandardScaler\n",
    "from sklearn.preprocessing import RobustScaler\n",
    "from sklearn.decomposition import PCA\n",
    "from sklearn.metrics import plot_confusion_matrix\n",
    "\n",
    "import sklearn\n",
    "#tensorflow\n",
    "import tensorflow as tf\n",
    "from tensorflow.keras.models import Sequential, Model\n",
    "from tensorflow.keras.layers import Dense, Dropout, BatchNormalization\n",
    "from tensorflow.keras.optimizers import Adam\n",
    "from tensorflow.keras.metrics import AUC\n",
    "\n",
    "pd.set_option('display.max_columns', None)\n",
    "\n",
    "# Ignore useless warnings\n",
    "import warnings\n",
    "warnings.filterwarnings(action=\"ignore\")\n",
    "\n",
    "#plotting\n",
    "import matplotlib.pyplot as plt\n",
    "import matplotlib\n",
    "import seaborn as sns\n",
    "import re"
   ]
  },
  {
   "cell_type": "code",
   "execution_count": 2,
   "metadata": {
    "ExecuteTime": {
     "end_time": "2021-08-23T05:15:21.063074Z",
     "start_time": "2021-08-23T05:15:21.048087Z"
    }
   },
   "outputs": [],
   "source": [
    "plt.rcParams['figure.dpi'] = 100\n",
    "plt.rcParams['savefig.dpi'] = 100\n",
    "\n",
    "sns.set(rc={\"figure.dpi\":100, 'savefig.dpi':100})\n",
    "sns.set_context('notebook')\n",
    "sns.set_style(\"ticks\")"
   ]
  },
  {
   "cell_type": "code",
   "execution_count": null,
   "metadata": {},
   "outputs": [],
   "source": []
  },
  {
   "cell_type": "code",
   "execution_count": 3,
   "metadata": {
    "ExecuteTime": {
     "end_time": "2021-08-23T05:15:24.325346Z",
     "start_time": "2021-08-23T05:15:21.064073Z"
    }
   },
   "outputs": [],
   "source": [
    "data = pd.read_csv('data_completely_cleaned.csv', low_memory=False)\n",
    "pd.set_option('display.max_columns', None)"
   ]
  },
  {
   "cell_type": "code",
   "execution_count": 4,
   "metadata": {
    "ExecuteTime": {
     "end_time": "2021-08-23T05:15:24.451010Z",
     "start_time": "2021-08-23T05:15:24.326338Z"
    }
   },
   "outputs": [
    {
     "data": {
      "text/html": [
       "<div>\n",
       "<style scoped>\n",
       "    .dataframe tbody tr th:only-of-type {\n",
       "        vertical-align: middle;\n",
       "    }\n",
       "\n",
       "    .dataframe tbody tr th {\n",
       "        vertical-align: top;\n",
       "    }\n",
       "\n",
       "    .dataframe thead th {\n",
       "        text-align: right;\n",
       "    }\n",
       "</style>\n",
       "<table border=\"1\" class=\"dataframe\">\n",
       "  <thead>\n",
       "    <tr style=\"text-align: right;\">\n",
       "      <th></th>\n",
       "      <th>Unnamed: 0</th>\n",
       "      <th>BidsPortfolioManager</th>\n",
       "      <th>BidsApi</th>\n",
       "      <th>BidsManual</th>\n",
       "      <th>NewCreditCustomer</th>\n",
       "      <th>Amount</th>\n",
       "      <th>Interest</th>\n",
       "      <th>MonthlyPayment</th>\n",
       "      <th>IncomeFromPrincipalEmployer</th>\n",
       "      <th>IncomeFromPension</th>\n",
       "      <th>IncomeFromFamilyAllowance</th>\n",
       "      <th>IncomeFromSocialWelfare</th>\n",
       "      <th>IncomeFromLeavePay</th>\n",
       "      <th>IncomeFromChildSupport</th>\n",
       "      <th>IncomeOther</th>\n",
       "      <th>IncomeTotal</th>\n",
       "      <th>ExistingLiabilities</th>\n",
       "      <th>LiabilitiesTotal</th>\n",
       "      <th>RefinanceLiabilities</th>\n",
       "      <th>DebtToIncome</th>\n",
       "      <th>FreeCash</th>\n",
       "      <th>ActiveScheduleFirstPaymentReached</th>\n",
       "      <th>PlannedInterestTillDate</th>\n",
       "      <th>Restructured</th>\n",
       "      <th>PrincipalPaymentsMade</th>\n",
       "      <th>PrincipalBalance</th>\n",
       "      <th>AmountOfPreviousLoansBeforeLoan</th>\n",
       "      <th>PreviousRepaymentsBeforeLoan</th>\n",
       "      <th>NrOfScheduledPayments</th>\n",
       "      <th>IsDefault</th>\n",
       "      <th>ApplicationSignedHour_1</th>\n",
       "      <th>ApplicationSignedHour_2</th>\n",
       "      <th>ApplicationSignedHour_3</th>\n",
       "      <th>ApplicationSignedHour_4</th>\n",
       "      <th>ApplicationSignedHour_5</th>\n",
       "      <th>ApplicationSignedHour_6</th>\n",
       "      <th>ApplicationSignedHour_7</th>\n",
       "      <th>ApplicationSignedHour_8</th>\n",
       "      <th>ApplicationSignedHour_9</th>\n",
       "      <th>ApplicationSignedHour_10</th>\n",
       "      <th>ApplicationSignedHour_11</th>\n",
       "      <th>ApplicationSignedHour_12</th>\n",
       "      <th>ApplicationSignedHour_13</th>\n",
       "      <th>ApplicationSignedHour_14</th>\n",
       "      <th>ApplicationSignedHour_15</th>\n",
       "      <th>ApplicationSignedHour_16</th>\n",
       "      <th>ApplicationSignedHour_17</th>\n",
       "      <th>ApplicationSignedHour_18</th>\n",
       "      <th>ApplicationSignedHour_19</th>\n",
       "      <th>ApplicationSignedHour_20</th>\n",
       "      <th>ApplicationSignedHour_21</th>\n",
       "      <th>ApplicationSignedHour_22</th>\n",
       "      <th>ApplicationSignedHour_23</th>\n",
       "      <th>ApplicationSignedWeekday_2</th>\n",
       "      <th>ApplicationSignedWeekday_3</th>\n",
       "      <th>ApplicationSignedWeekday_4</th>\n",
       "      <th>ApplicationSignedWeekday_5</th>\n",
       "      <th>ApplicationSignedWeekday_6</th>\n",
       "      <th>ApplicationSignedWeekday_7</th>\n",
       "      <th>VerificationType_20</th>\n",
       "      <th>VerificationType_30</th>\n",
       "      <th>VerificationType_40</th>\n",
       "      <th>LanguageCode_2</th>\n",
       "      <th>LanguageCode_3</th>\n",
       "      <th>LanguageCode_4</th>\n",
       "      <th>LanguageCode_5</th>\n",
       "      <th>LanguageCode_6</th>\n",
       "      <th>LanguageCode_7</th>\n",
       "      <th>LanguageCode_9</th>\n",
       "      <th>LanguageCode_10</th>\n",
       "      <th>LanguageCode_13</th>\n",
       "      <th>LanguageCode_15</th>\n",
       "      <th>LanguageCode_21</th>\n",
       "      <th>LanguageCode_22</th>\n",
       "      <th>Gender_10</th>\n",
       "      <th>Gender_20</th>\n",
       "      <th>Country_ES</th>\n",
       "      <th>Country_FI</th>\n",
       "      <th>Country_SK</th>\n",
       "      <th>LoanDuration_2</th>\n",
       "      <th>LoanDuration_3</th>\n",
       "      <th>LoanDuration_4</th>\n",
       "      <th>LoanDuration_5</th>\n",
       "      <th>LoanDuration_6</th>\n",
       "      <th>LoanDuration_7</th>\n",
       "      <th>LoanDuration_8</th>\n",
       "      <th>LoanDuration_9</th>\n",
       "      <th>LoanDuration_10</th>\n",
       "      <th>LoanDuration_11</th>\n",
       "      <th>LoanDuration_12</th>\n",
       "      <th>LoanDuration_13</th>\n",
       "      <th>LoanDuration_14</th>\n",
       "      <th>LoanDuration_15</th>\n",
       "      <th>LoanDuration_16</th>\n",
       "      <th>LoanDuration_17</th>\n",
       "      <th>LoanDuration_18</th>\n",
       "      <th>LoanDuration_19</th>\n",
       "      <th>LoanDuration_20</th>\n",
       "      <th>LoanDuration_21</th>\n",
       "      <th>LoanDuration_22</th>\n",
       "      <th>LoanDuration_24</th>\n",
       "      <th>LoanDuration_27</th>\n",
       "      <th>LoanDuration_30</th>\n",
       "      <th>LoanDuration_36</th>\n",
       "      <th>LoanDuration_38</th>\n",
       "      <th>LoanDuration_42</th>\n",
       "      <th>LoanDuration_48</th>\n",
       "      <th>LoanDuration_52</th>\n",
       "      <th>LoanDuration_54</th>\n",
       "      <th>LoanDuration_60</th>\n",
       "      <th>UseOfLoan_1</th>\n",
       "      <th>UseOfLoan_2</th>\n",
       "      <th>UseOfLoan_3</th>\n",
       "      <th>UseOfLoan_4</th>\n",
       "      <th>UseOfLoan_5</th>\n",
       "      <th>UseOfLoan_6</th>\n",
       "      <th>UseOfLoan_7</th>\n",
       "      <th>UseOfLoan_8</th>\n",
       "      <th>Education_20</th>\n",
       "      <th>Education_30</th>\n",
       "      <th>Education_40</th>\n",
       "      <th>Education_50</th>\n",
       "      <th>MaritalStatus_20</th>\n",
       "      <th>MaritalStatus_30</th>\n",
       "      <th>MaritalStatus_40</th>\n",
       "      <th>MaritalStatus_50</th>\n",
       "      <th>EmploymentStatus_20</th>\n",
       "      <th>EmploymentStatus_30</th>\n",
       "      <th>EmploymentStatus_40</th>\n",
       "      <th>EmploymentStatus_50</th>\n",
       "      <th>EmploymentStatus_60</th>\n",
       "      <th>EmploymentDurationCurrentEmployer_Other</th>\n",
       "      <th>EmploymentDurationCurrentEmployer_Retiree</th>\n",
       "      <th>EmploymentDurationCurrentEmployer_TrialPeriod</th>\n",
       "      <th>EmploymentDurationCurrentEmployer_UpTo1Year</th>\n",
       "      <th>EmploymentDurationCurrentEmployer_UpTo2Years</th>\n",
       "      <th>EmploymentDurationCurrentEmployer_UpTo3Years</th>\n",
       "      <th>EmploymentDurationCurrentEmployer_UpTo4Years</th>\n",
       "      <th>EmploymentDurationCurrentEmployer_UpTo5Years</th>\n",
       "      <th>OccupationArea_20</th>\n",
       "      <th>OccupationArea_30</th>\n",
       "      <th>OccupationArea_40</th>\n",
       "      <th>OccupationArea_50</th>\n",
       "      <th>OccupationArea_60</th>\n",
       "      <th>OccupationArea_70</th>\n",
       "      <th>OccupationArea_80</th>\n",
       "      <th>OccupationArea_90</th>\n",
       "      <th>OccupationArea_100</th>\n",
       "      <th>OccupationArea_110</th>\n",
       "      <th>OccupationArea_120</th>\n",
       "      <th>OccupationArea_130</th>\n",
       "      <th>OccupationArea_140</th>\n",
       "      <th>OccupationArea_150</th>\n",
       "      <th>OccupationArea_160</th>\n",
       "      <th>OccupationArea_170</th>\n",
       "      <th>OccupationArea_180</th>\n",
       "      <th>OccupationArea_190</th>\n",
       "      <th>HomeOwnershipType_10</th>\n",
       "      <th>HomeOwnershipType_20</th>\n",
       "      <th>HomeOwnershipType_30</th>\n",
       "      <th>HomeOwnershipType_40</th>\n",
       "      <th>HomeOwnershipType_50</th>\n",
       "      <th>HomeOwnershipType_60</th>\n",
       "      <th>HomeOwnershipType_70</th>\n",
       "      <th>HomeOwnershipType_80</th>\n",
       "      <th>HomeOwnershipType_90</th>\n",
       "      <th>HomeOwnershipType_100</th>\n",
       "      <th>Rating_AA</th>\n",
       "      <th>Rating_B</th>\n",
       "      <th>Rating_C</th>\n",
       "      <th>Rating_D</th>\n",
       "      <th>Rating_E</th>\n",
       "      <th>Rating_F</th>\n",
       "      <th>Rating_HR</th>\n",
       "      <th>Status_Repaid</th>\n",
       "      <th>CreditScoreEeMini_5000</th>\n",
       "      <th>CreditScoreEeMini_6000</th>\n",
       "      <th>CreditScoreEeMini_7000</th>\n",
       "      <th>CreditScoreEeMini_8000</th>\n",
       "      <th>CreditScoreEeMini_9000</th>\n",
       "      <th>CreditScoreEeMini_10000</th>\n",
       "      <th>PreviousEarlyRepaymentsCountBeforeLoan_1</th>\n",
       "      <th>PreviousEarlyRepaymentsCountBeforeLoan_2</th>\n",
       "      <th>PreviousEarlyRepaymentsCountBeforeLoan_3</th>\n",
       "      <th>PreviousEarlyRepaymentsCountBeforeLoan_4</th>\n",
       "      <th>PreviousEarlyRepaymentsCountBeforeLoan_5</th>\n",
       "      <th>PreviousEarlyRepaymentsCountBeforeLoan_6</th>\n",
       "      <th>PreviousEarlyRepaymentsCountBeforeLoan_7</th>\n",
       "      <th>PreviousEarlyRepaymentsCountBeforeLoan_8</th>\n",
       "      <th>PreviousEarlyRepaymentsCountBeforeLoan_9</th>\n",
       "      <th>PreviousEarlyRepaymentsCountBeforeLoan_11</th>\n",
       "      <th>ActiveLateLastPaymentCategory_121150</th>\n",
       "      <th>ActiveLateLastPaymentCategory_151180</th>\n",
       "      <th>ActiveLateLastPaymentCategory_1630</th>\n",
       "      <th>ActiveLateLastPaymentCategory_180</th>\n",
       "      <th>ActiveLateLastPaymentCategory_3160</th>\n",
       "      <th>ActiveLateLastPaymentCategory_6190</th>\n",
       "      <th>ActiveLateLastPaymentCategory_815</th>\n",
       "      <th>ActiveLateLastPaymentCategory_91120</th>\n",
       "      <th>MonthlyPaymentDay_1</th>\n",
       "      <th>MonthlyPaymentDay_2</th>\n",
       "      <th>MonthlyPaymentDay_3</th>\n",
       "      <th>MonthlyPaymentDay_4</th>\n",
       "      <th>MonthlyPaymentDay_5</th>\n",
       "      <th>MonthlyPaymentDay_6</th>\n",
       "      <th>MonthlyPaymentDay_7</th>\n",
       "      <th>MonthlyPaymentDay_8</th>\n",
       "      <th>MonthlyPaymentDay_9</th>\n",
       "      <th>MonthlyPaymentDay_10</th>\n",
       "      <th>MonthlyPaymentDay_11</th>\n",
       "      <th>MonthlyPaymentDay_12</th>\n",
       "      <th>MonthlyPaymentDay_13</th>\n",
       "      <th>MonthlyPaymentDay_14</th>\n",
       "      <th>MonthlyPaymentDay_15</th>\n",
       "      <th>MonthlyPaymentDay_16</th>\n",
       "      <th>MonthlyPaymentDay_17</th>\n",
       "      <th>MonthlyPaymentDay_18</th>\n",
       "      <th>MonthlyPaymentDay_19</th>\n",
       "      <th>MonthlyPaymentDay_20</th>\n",
       "      <th>MonthlyPaymentDay_21</th>\n",
       "      <th>MonthlyPaymentDay_22</th>\n",
       "      <th>MonthlyPaymentDay_23</th>\n",
       "      <th>MonthlyPaymentDay_24</th>\n",
       "      <th>MonthlyPaymentDay_25</th>\n",
       "      <th>MonthlyPaymentDay_26</th>\n",
       "      <th>MonthlyPaymentDay_27</th>\n",
       "      <th>MonthlyPaymentDay_28</th>\n",
       "      <th>Age_range__2025</th>\n",
       "      <th>Age_range__2530</th>\n",
       "      <th>Age_range__3035</th>\n",
       "      <th>Age_range__3540</th>\n",
       "      <th>Age_range__4045</th>\n",
       "      <th>Age_range__4550</th>\n",
       "      <th>Age_range__5055</th>\n",
       "      <th>Age_range__5560</th>\n",
       "      <th>Age_range__6065</th>\n",
       "      <th>Age_range__6570</th>\n",
       "      <th>Age_range__7075</th>\n",
       "      <th>Age_range__7580</th>\n",
       "      <th>LoanYear_2010</th>\n",
       "      <th>LoanYear_2011</th>\n",
       "      <th>LoanYear_2012</th>\n",
       "      <th>LoanYear_2013</th>\n",
       "      <th>LoanYear_2014</th>\n",
       "      <th>LoanYear_2015</th>\n",
       "      <th>LoanYear_2016</th>\n",
       "      <th>LoanYear_2017</th>\n",
       "      <th>LoanYear_2018</th>\n",
       "      <th>LoanYear_2019</th>\n",
       "      <th>LoanYear_2020</th>\n",
       "      <th>LoanYear_2021</th>\n",
       "      <th>LoanMonth_2</th>\n",
       "      <th>LoanMonth_3</th>\n",
       "      <th>LoanMonth_4</th>\n",
       "      <th>LoanMonth_5</th>\n",
       "      <th>LoanMonth_6</th>\n",
       "      <th>LoanMonth_7</th>\n",
       "      <th>LoanMonth_8</th>\n",
       "      <th>LoanMonth_9</th>\n",
       "      <th>LoanMonth_10</th>\n",
       "      <th>LoanMonth_11</th>\n",
       "      <th>LoanMonth_12</th>\n",
       "      <th>LoanDay_2</th>\n",
       "      <th>LoanDay_3</th>\n",
       "      <th>LoanDay_4</th>\n",
       "      <th>LoanDay_5</th>\n",
       "      <th>LoanDay_6</th>\n",
       "      <th>LoanDay_7</th>\n",
       "      <th>LoanDay_8</th>\n",
       "      <th>LoanDay_9</th>\n",
       "      <th>LoanDay_10</th>\n",
       "      <th>LoanDay_11</th>\n",
       "      <th>LoanDay_12</th>\n",
       "      <th>LoanDay_13</th>\n",
       "      <th>LoanDay_14</th>\n",
       "      <th>LoanDay_15</th>\n",
       "      <th>LoanDay_16</th>\n",
       "      <th>LoanDay_17</th>\n",
       "      <th>LoanDay_18</th>\n",
       "      <th>LoanDay_19</th>\n",
       "      <th>LoanDay_20</th>\n",
       "      <th>LoanDay_21</th>\n",
       "      <th>LoanDay_22</th>\n",
       "      <th>LoanDay_23</th>\n",
       "      <th>LoanDay_24</th>\n",
       "      <th>LoanDay_25</th>\n",
       "      <th>LoanDay_26</th>\n",
       "      <th>LoanDay_27</th>\n",
       "      <th>LoanDay_28</th>\n",
       "      <th>LoanDay_29</th>\n",
       "      <th>LoanDay_30</th>\n",
       "      <th>LoanDay_31</th>\n",
       "      <th>LoanDayName_Monday</th>\n",
       "      <th>LoanDayName_Saturday</th>\n",
       "      <th>LoanDayName_Sunday</th>\n",
       "      <th>LoanDayName_Thursday</th>\n",
       "      <th>LoanDayName_Tuesday</th>\n",
       "      <th>LoanDayName_Wednesday</th>\n",
       "    </tr>\n",
       "  </thead>\n",
       "  <tbody>\n",
       "    <tr>\n",
       "      <th>0</th>\n",
       "      <td>0</td>\n",
       "      <td>1.234129</td>\n",
       "      <td>3.440284</td>\n",
       "      <td>6.962269</td>\n",
       "      <td>True</td>\n",
       "      <td>3.058898</td>\n",
       "      <td>-0.915776</td>\n",
       "      <td>1.260881</td>\n",
       "      <td>0.055785</td>\n",
       "      <td>-0.131338</td>\n",
       "      <td>-0.154303</td>\n",
       "      <td>-0.068712</td>\n",
       "      <td>-0.04367</td>\n",
       "      <td>-0.086687</td>\n",
       "      <td>1.117390</td>\n",
       "      <td>-0.096380</td>\n",
       "      <td>1.190894</td>\n",
       "      <td>0.008754</td>\n",
       "      <td>2.957238</td>\n",
       "      <td>1.081847</td>\n",
       "      <td>0.286483</td>\n",
       "      <td>True</td>\n",
       "      <td>4.828582</td>\n",
       "      <td>False</td>\n",
       "      <td>3.244520</td>\n",
       "      <td>-0.700881</td>\n",
       "      <td>-0.594793</td>\n",
       "      <td>-0.363475</td>\n",
       "      <td>0.384448</td>\n",
       "      <td>1</td>\n",
       "      <td>0</td>\n",
       "      <td>0</td>\n",
       "      <td>0</td>\n",
       "      <td>0</td>\n",
       "      <td>0</td>\n",
       "      <td>0</td>\n",
       "      <td>0</td>\n",
       "      <td>0</td>\n",
       "      <td>0</td>\n",
       "      <td>0</td>\n",
       "      <td>0</td>\n",
       "      <td>0</td>\n",
       "      <td>0</td>\n",
       "      <td>0</td>\n",
       "      <td>0</td>\n",
       "      <td>0</td>\n",
       "      <td>0</td>\n",
       "      <td>0</td>\n",
       "      <td>0</td>\n",
       "      <td>0</td>\n",
       "      <td>0</td>\n",
       "      <td>1</td>\n",
       "      <td>0</td>\n",
       "      <td>0</td>\n",
       "      <td>1</td>\n",
       "      <td>0</td>\n",
       "      <td>0</td>\n",
       "      <td>0</td>\n",
       "      <td>0</td>\n",
       "      <td>0</td>\n",
       "      <td>0</td>\n",
       "      <td>1</td>\n",
       "      <td>0</td>\n",
       "      <td>0</td>\n",
       "      <td>0</td>\n",
       "      <td>0</td>\n",
       "      <td>0</td>\n",
       "      <td>0</td>\n",
       "      <td>0</td>\n",
       "      <td>0</td>\n",
       "      <td>0</td>\n",
       "      <td>0</td>\n",
       "      <td>0</td>\n",
       "      <td>0</td>\n",
       "      <td>0</td>\n",
       "      <td>0</td>\n",
       "      <td>0</td>\n",
       "      <td>0</td>\n",
       "      <td>0</td>\n",
       "      <td>0</td>\n",
       "      <td>0</td>\n",
       "      <td>0</td>\n",
       "      <td>0</td>\n",
       "      <td>0</td>\n",
       "      <td>0</td>\n",
       "      <td>0</td>\n",
       "      <td>0</td>\n",
       "      <td>0</td>\n",
       "      <td>0</td>\n",
       "      <td>0</td>\n",
       "      <td>0</td>\n",
       "      <td>0</td>\n",
       "      <td>0</td>\n",
       "      <td>0</td>\n",
       "      <td>0</td>\n",
       "      <td>0</td>\n",
       "      <td>0</td>\n",
       "      <td>0</td>\n",
       "      <td>0</td>\n",
       "      <td>0</td>\n",
       "      <td>0</td>\n",
       "      <td>0</td>\n",
       "      <td>0</td>\n",
       "      <td>0</td>\n",
       "      <td>0</td>\n",
       "      <td>0</td>\n",
       "      <td>0</td>\n",
       "      <td>0</td>\n",
       "      <td>0</td>\n",
       "      <td>1</td>\n",
       "      <td>0</td>\n",
       "      <td>0</td>\n",
       "      <td>1</td>\n",
       "      <td>0</td>\n",
       "      <td>0</td>\n",
       "      <td>0</td>\n",
       "      <td>0</td>\n",
       "      <td>0</td>\n",
       "      <td>0</td>\n",
       "      <td>0</td>\n",
       "      <td>1</td>\n",
       "      <td>0</td>\n",
       "      <td>0</td>\n",
       "      <td>0</td>\n",
       "      <td>1</td>\n",
       "      <td>0</td>\n",
       "      <td>0</td>\n",
       "      <td>0</td>\n",
       "      <td>0</td>\n",
       "      <td>1</td>\n",
       "      <td>0</td>\n",
       "      <td>0</td>\n",
       "      <td>0</td>\n",
       "      <td>0</td>\n",
       "      <td>0</td>\n",
       "      <td>0</td>\n",
       "      <td>1</td>\n",
       "      <td>0</td>\n",
       "      <td>0</td>\n",
       "      <td>0</td>\n",
       "      <td>0</td>\n",
       "      <td>0</td>\n",
       "      <td>0</td>\n",
       "      <td>0</td>\n",
       "      <td>0</td>\n",
       "      <td>1</td>\n",
       "      <td>0</td>\n",
       "      <td>0</td>\n",
       "      <td>0</td>\n",
       "      <td>0</td>\n",
       "      <td>0</td>\n",
       "      <td>0</td>\n",
       "      <td>0</td>\n",
       "      <td>0</td>\n",
       "      <td>0</td>\n",
       "      <td>0</td>\n",
       "      <td>0</td>\n",
       "      <td>0</td>\n",
       "      <td>0</td>\n",
       "      <td>0</td>\n",
       "      <td>0</td>\n",
       "      <td>0</td>\n",
       "      <td>0</td>\n",
       "      <td>0</td>\n",
       "      <td>1</td>\n",
       "      <td>0</td>\n",
       "      <td>0</td>\n",
       "      <td>0</td>\n",
       "      <td>0</td>\n",
       "      <td>0</td>\n",
       "      <td>0</td>\n",
       "      <td>0</td>\n",
       "      <td>0</td>\n",
       "      <td>0</td>\n",
       "      <td>1</td>\n",
       "      <td>0</td>\n",
       "      <td>0</td>\n",
       "      <td>0</td>\n",
       "      <td>0</td>\n",
       "      <td>0</td>\n",
       "      <td>1</td>\n",
       "      <td>0</td>\n",
       "      <td>0</td>\n",
       "      <td>0</td>\n",
       "      <td>0</td>\n",
       "      <td>0</td>\n",
       "      <td>0</td>\n",
       "      <td>0</td>\n",
       "      <td>0</td>\n",
       "      <td>0</td>\n",
       "      <td>0</td>\n",
       "      <td>0</td>\n",
       "      <td>0</td>\n",
       "      <td>0</td>\n",
       "      <td>1</td>\n",
       "      <td>0</td>\n",
       "      <td>0</td>\n",
       "      <td>0</td>\n",
       "      <td>0</td>\n",
       "      <td>0</td>\n",
       "      <td>0</td>\n",
       "      <td>0</td>\n",
       "      <td>0</td>\n",
       "      <td>0</td>\n",
       "      <td>0</td>\n",
       "      <td>0</td>\n",
       "      <td>0</td>\n",
       "      <td>0</td>\n",
       "      <td>0</td>\n",
       "      <td>0</td>\n",
       "      <td>0</td>\n",
       "      <td>0</td>\n",
       "      <td>0</td>\n",
       "      <td>0</td>\n",
       "      <td>0</td>\n",
       "      <td>0</td>\n",
       "      <td>0</td>\n",
       "      <td>0</td>\n",
       "      <td>1</td>\n",
       "      <td>0</td>\n",
       "      <td>0</td>\n",
       "      <td>0</td>\n",
       "      <td>0</td>\n",
       "      <td>0</td>\n",
       "      <td>0</td>\n",
       "      <td>0</td>\n",
       "      <td>0</td>\n",
       "      <td>0</td>\n",
       "      <td>0</td>\n",
       "      <td>0</td>\n",
       "      <td>0</td>\n",
       "      <td>1</td>\n",
       "      <td>0</td>\n",
       "      <td>0</td>\n",
       "      <td>0</td>\n",
       "      <td>0</td>\n",
       "      <td>0</td>\n",
       "      <td>0</td>\n",
       "      <td>0</td>\n",
       "      <td>0</td>\n",
       "      <td>0</td>\n",
       "      <td>0</td>\n",
       "      <td>0</td>\n",
       "      <td>0</td>\n",
       "      <td>0</td>\n",
       "      <td>1</td>\n",
       "      <td>0</td>\n",
       "      <td>0</td>\n",
       "      <td>0</td>\n",
       "      <td>0</td>\n",
       "      <td>0</td>\n",
       "      <td>0</td>\n",
       "      <td>0</td>\n",
       "      <td>0</td>\n",
       "      <td>0</td>\n",
       "      <td>0</td>\n",
       "      <td>0</td>\n",
       "      <td>0</td>\n",
       "      <td>0</td>\n",
       "      <td>0</td>\n",
       "      <td>0</td>\n",
       "      <td>0</td>\n",
       "      <td>0</td>\n",
       "      <td>0</td>\n",
       "      <td>0</td>\n",
       "      <td>0</td>\n",
       "      <td>0</td>\n",
       "      <td>0</td>\n",
       "      <td>0</td>\n",
       "      <td>0</td>\n",
       "      <td>0</td>\n",
       "      <td>0</td>\n",
       "      <td>0</td>\n",
       "      <td>0</td>\n",
       "      <td>0</td>\n",
       "      <td>0</td>\n",
       "      <td>0</td>\n",
       "      <td>0</td>\n",
       "      <td>0</td>\n",
       "      <td>1</td>\n",
       "      <td>0</td>\n",
       "      <td>0</td>\n",
       "      <td>0</td>\n",
       "      <td>0</td>\n",
       "      <td>0</td>\n",
       "      <td>0</td>\n",
       "      <td>0</td>\n",
       "      <td>0</td>\n",
       "      <td>0</td>\n",
       "      <td>0</td>\n",
       "      <td>0</td>\n",
       "      <td>0</td>\n",
       "      <td>0</td>\n",
       "      <td>0</td>\n",
       "      <td>0</td>\n",
       "      <td>0</td>\n",
       "      <td>1</td>\n",
       "      <td>0</td>\n",
       "    </tr>\n",
       "    <tr>\n",
       "      <th>1</th>\n",
       "      <td>1</td>\n",
       "      <td>0.086743</td>\n",
       "      <td>-0.195271</td>\n",
       "      <td>-0.218849</td>\n",
       "      <td>True</td>\n",
       "      <td>-0.473449</td>\n",
       "      <td>0.068919</td>\n",
       "      <td>-0.517738</td>\n",
       "      <td>0.193295</td>\n",
       "      <td>-0.131338</td>\n",
       "      <td>-0.154303</td>\n",
       "      <td>-0.068712</td>\n",
       "      <td>-0.04367</td>\n",
       "      <td>-0.086687</td>\n",
       "      <td>-0.099570</td>\n",
       "      <td>-0.151520</td>\n",
       "      <td>-0.609306</td>\n",
       "      <td>-0.006479</td>\n",
       "      <td>-0.220783</td>\n",
       "      <td>-0.069710</td>\n",
       "      <td>0.421347</td>\n",
       "      <td>True</td>\n",
       "      <td>0.158207</td>\n",
       "      <td>False</td>\n",
       "      <td>-0.423730</td>\n",
       "      <td>-0.148967</td>\n",
       "      <td>-0.594793</td>\n",
       "      <td>-0.363475</td>\n",
       "      <td>0.384448</td>\n",
       "      <td>1</td>\n",
       "      <td>0</td>\n",
       "      <td>0</td>\n",
       "      <td>0</td>\n",
       "      <td>0</td>\n",
       "      <td>0</td>\n",
       "      <td>0</td>\n",
       "      <td>0</td>\n",
       "      <td>0</td>\n",
       "      <td>0</td>\n",
       "      <td>0</td>\n",
       "      <td>0</td>\n",
       "      <td>0</td>\n",
       "      <td>0</td>\n",
       "      <td>0</td>\n",
       "      <td>1</td>\n",
       "      <td>0</td>\n",
       "      <td>0</td>\n",
       "      <td>0</td>\n",
       "      <td>0</td>\n",
       "      <td>0</td>\n",
       "      <td>0</td>\n",
       "      <td>0</td>\n",
       "      <td>0</td>\n",
       "      <td>0</td>\n",
       "      <td>1</td>\n",
       "      <td>0</td>\n",
       "      <td>0</td>\n",
       "      <td>0</td>\n",
       "      <td>0</td>\n",
       "      <td>0</td>\n",
       "      <td>1</td>\n",
       "      <td>0</td>\n",
       "      <td>0</td>\n",
       "      <td>0</td>\n",
       "      <td>0</td>\n",
       "      <td>0</td>\n",
       "      <td>1</td>\n",
       "      <td>0</td>\n",
       "      <td>0</td>\n",
       "      <td>0</td>\n",
       "      <td>0</td>\n",
       "      <td>0</td>\n",
       "      <td>0</td>\n",
       "      <td>0</td>\n",
       "      <td>0</td>\n",
       "      <td>0</td>\n",
       "      <td>1</td>\n",
       "      <td>0</td>\n",
       "      <td>0</td>\n",
       "      <td>0</td>\n",
       "      <td>0</td>\n",
       "      <td>0</td>\n",
       "      <td>0</td>\n",
       "      <td>0</td>\n",
       "      <td>0</td>\n",
       "      <td>0</td>\n",
       "      <td>0</td>\n",
       "      <td>0</td>\n",
       "      <td>0</td>\n",
       "      <td>0</td>\n",
       "      <td>0</td>\n",
       "      <td>0</td>\n",
       "      <td>0</td>\n",
       "      <td>0</td>\n",
       "      <td>0</td>\n",
       "      <td>0</td>\n",
       "      <td>0</td>\n",
       "      <td>0</td>\n",
       "      <td>0</td>\n",
       "      <td>0</td>\n",
       "      <td>0</td>\n",
       "      <td>0</td>\n",
       "      <td>0</td>\n",
       "      <td>0</td>\n",
       "      <td>0</td>\n",
       "      <td>0</td>\n",
       "      <td>0</td>\n",
       "      <td>0</td>\n",
       "      <td>0</td>\n",
       "      <td>1</td>\n",
       "      <td>0</td>\n",
       "      <td>1</td>\n",
       "      <td>0</td>\n",
       "      <td>0</td>\n",
       "      <td>0</td>\n",
       "      <td>0</td>\n",
       "      <td>0</td>\n",
       "      <td>0</td>\n",
       "      <td>1</td>\n",
       "      <td>0</td>\n",
       "      <td>0</td>\n",
       "      <td>0</td>\n",
       "      <td>0</td>\n",
       "      <td>0</td>\n",
       "      <td>0</td>\n",
       "      <td>0</td>\n",
       "      <td>0</td>\n",
       "      <td>1</td>\n",
       "      <td>0</td>\n",
       "      <td>0</td>\n",
       "      <td>0</td>\n",
       "      <td>0</td>\n",
       "      <td>0</td>\n",
       "      <td>0</td>\n",
       "      <td>0</td>\n",
       "      <td>0</td>\n",
       "      <td>0</td>\n",
       "      <td>0</td>\n",
       "      <td>1</td>\n",
       "      <td>0</td>\n",
       "      <td>0</td>\n",
       "      <td>0</td>\n",
       "      <td>0</td>\n",
       "      <td>0</td>\n",
       "      <td>0</td>\n",
       "      <td>0</td>\n",
       "      <td>0</td>\n",
       "      <td>0</td>\n",
       "      <td>0</td>\n",
       "      <td>0</td>\n",
       "      <td>0</td>\n",
       "      <td>0</td>\n",
       "      <td>0</td>\n",
       "      <td>0</td>\n",
       "      <td>0</td>\n",
       "      <td>0</td>\n",
       "      <td>0</td>\n",
       "      <td>0</td>\n",
       "      <td>1</td>\n",
       "      <td>0</td>\n",
       "      <td>0</td>\n",
       "      <td>0</td>\n",
       "      <td>0</td>\n",
       "      <td>0</td>\n",
       "      <td>0</td>\n",
       "      <td>0</td>\n",
       "      <td>0</td>\n",
       "      <td>0</td>\n",
       "      <td>0</td>\n",
       "      <td>0</td>\n",
       "      <td>0</td>\n",
       "      <td>0</td>\n",
       "      <td>1</td>\n",
       "      <td>0</td>\n",
       "      <td>0</td>\n",
       "      <td>0</td>\n",
       "      <td>0</td>\n",
       "      <td>0</td>\n",
       "      <td>0</td>\n",
       "      <td>0</td>\n",
       "      <td>1</td>\n",
       "      <td>1</td>\n",
       "      <td>0</td>\n",
       "      <td>0</td>\n",
       "      <td>0</td>\n",
       "      <td>0</td>\n",
       "      <td>0</td>\n",
       "      <td>0</td>\n",
       "      <td>0</td>\n",
       "      <td>0</td>\n",
       "      <td>0</td>\n",
       "      <td>0</td>\n",
       "      <td>0</td>\n",
       "      <td>0</td>\n",
       "      <td>1</td>\n",
       "      <td>0</td>\n",
       "      <td>0</td>\n",
       "      <td>0</td>\n",
       "      <td>0</td>\n",
       "      <td>1</td>\n",
       "      <td>0</td>\n",
       "      <td>0</td>\n",
       "      <td>0</td>\n",
       "      <td>0</td>\n",
       "      <td>0</td>\n",
       "      <td>0</td>\n",
       "      <td>0</td>\n",
       "      <td>0</td>\n",
       "      <td>0</td>\n",
       "      <td>0</td>\n",
       "      <td>0</td>\n",
       "      <td>0</td>\n",
       "      <td>0</td>\n",
       "      <td>0</td>\n",
       "      <td>0</td>\n",
       "      <td>0</td>\n",
       "      <td>0</td>\n",
       "      <td>0</td>\n",
       "      <td>0</td>\n",
       "      <td>0</td>\n",
       "      <td>0</td>\n",
       "      <td>0</td>\n",
       "      <td>0</td>\n",
       "      <td>0</td>\n",
       "      <td>0</td>\n",
       "      <td>0</td>\n",
       "      <td>0</td>\n",
       "      <td>0</td>\n",
       "      <td>0</td>\n",
       "      <td>0</td>\n",
       "      <td>0</td>\n",
       "      <td>1</td>\n",
       "      <td>0</td>\n",
       "      <td>0</td>\n",
       "      <td>0</td>\n",
       "      <td>0</td>\n",
       "      <td>0</td>\n",
       "      <td>0</td>\n",
       "      <td>0</td>\n",
       "      <td>0</td>\n",
       "      <td>0</td>\n",
       "      <td>0</td>\n",
       "      <td>0</td>\n",
       "      <td>0</td>\n",
       "      <td>1</td>\n",
       "      <td>0</td>\n",
       "      <td>0</td>\n",
       "      <td>0</td>\n",
       "      <td>0</td>\n",
       "      <td>0</td>\n",
       "      <td>0</td>\n",
       "      <td>0</td>\n",
       "      <td>1</td>\n",
       "      <td>0</td>\n",
       "      <td>0</td>\n",
       "      <td>0</td>\n",
       "      <td>0</td>\n",
       "      <td>0</td>\n",
       "      <td>0</td>\n",
       "      <td>0</td>\n",
       "      <td>0</td>\n",
       "      <td>0</td>\n",
       "      <td>0</td>\n",
       "      <td>0</td>\n",
       "      <td>0</td>\n",
       "      <td>0</td>\n",
       "      <td>0</td>\n",
       "      <td>0</td>\n",
       "      <td>0</td>\n",
       "      <td>0</td>\n",
       "      <td>0</td>\n",
       "      <td>0</td>\n",
       "      <td>0</td>\n",
       "      <td>0</td>\n",
       "      <td>0</td>\n",
       "      <td>0</td>\n",
       "      <td>0</td>\n",
       "      <td>0</td>\n",
       "      <td>0</td>\n",
       "      <td>0</td>\n",
       "      <td>0</td>\n",
       "      <td>0</td>\n",
       "      <td>0</td>\n",
       "      <td>0</td>\n",
       "      <td>0</td>\n",
       "      <td>0</td>\n",
       "      <td>0</td>\n",
       "      <td>1</td>\n",
       "      <td>0</td>\n",
       "      <td>0</td>\n",
       "      <td>0</td>\n",
       "      <td>0</td>\n",
       "      <td>0</td>\n",
       "      <td>0</td>\n",
       "      <td>0</td>\n",
       "      <td>0</td>\n",
       "      <td>0</td>\n",
       "      <td>0</td>\n",
       "    </tr>\n",
       "    <tr>\n",
       "      <th>2</th>\n",
       "      <td>2</td>\n",
       "      <td>-0.336739</td>\n",
       "      <td>-0.195271</td>\n",
       "      <td>-0.726139</td>\n",
       "      <td>True</td>\n",
       "      <td>-0.924288</td>\n",
       "      <td>-0.473345</td>\n",
       "      <td>-0.922056</td>\n",
       "      <td>0.073039</td>\n",
       "      <td>-0.131338</td>\n",
       "      <td>-0.154303</td>\n",
       "      <td>-0.068712</td>\n",
       "      <td>-0.04367</td>\n",
       "      <td>-0.086687</td>\n",
       "      <td>-0.099570</td>\n",
       "      <td>-0.189152</td>\n",
       "      <td>1.190894</td>\n",
       "      <td>0.002194</td>\n",
       "      <td>0.838557</td>\n",
       "      <td>1.296686</td>\n",
       "      <td>-0.129203</td>\n",
       "      <td>True</td>\n",
       "      <td>-0.683671</td>\n",
       "      <td>False</td>\n",
       "      <td>-0.384300</td>\n",
       "      <td>-0.700881</td>\n",
       "      <td>-0.594793</td>\n",
       "      <td>-0.363475</td>\n",
       "      <td>0.384448</td>\n",
       "      <td>0</td>\n",
       "      <td>0</td>\n",
       "      <td>0</td>\n",
       "      <td>0</td>\n",
       "      <td>0</td>\n",
       "      <td>0</td>\n",
       "      <td>0</td>\n",
       "      <td>0</td>\n",
       "      <td>0</td>\n",
       "      <td>0</td>\n",
       "      <td>0</td>\n",
       "      <td>0</td>\n",
       "      <td>0</td>\n",
       "      <td>0</td>\n",
       "      <td>1</td>\n",
       "      <td>0</td>\n",
       "      <td>0</td>\n",
       "      <td>0</td>\n",
       "      <td>0</td>\n",
       "      <td>0</td>\n",
       "      <td>0</td>\n",
       "      <td>0</td>\n",
       "      <td>0</td>\n",
       "      <td>0</td>\n",
       "      <td>1</td>\n",
       "      <td>0</td>\n",
       "      <td>0</td>\n",
       "      <td>0</td>\n",
       "      <td>0</td>\n",
       "      <td>0</td>\n",
       "      <td>0</td>\n",
       "      <td>0</td>\n",
       "      <td>1</td>\n",
       "      <td>0</td>\n",
       "      <td>0</td>\n",
       "      <td>0</td>\n",
       "      <td>0</td>\n",
       "      <td>0</td>\n",
       "      <td>0</td>\n",
       "      <td>0</td>\n",
       "      <td>0</td>\n",
       "      <td>0</td>\n",
       "      <td>0</td>\n",
       "      <td>0</td>\n",
       "      <td>0</td>\n",
       "      <td>1</td>\n",
       "      <td>0</td>\n",
       "      <td>0</td>\n",
       "      <td>0</td>\n",
       "      <td>0</td>\n",
       "      <td>0</td>\n",
       "      <td>0</td>\n",
       "      <td>0</td>\n",
       "      <td>0</td>\n",
       "      <td>0</td>\n",
       "      <td>0</td>\n",
       "      <td>0</td>\n",
       "      <td>0</td>\n",
       "      <td>0</td>\n",
       "      <td>0</td>\n",
       "      <td>0</td>\n",
       "      <td>0</td>\n",
       "      <td>0</td>\n",
       "      <td>0</td>\n",
       "      <td>0</td>\n",
       "      <td>0</td>\n",
       "      <td>0</td>\n",
       "      <td>0</td>\n",
       "      <td>0</td>\n",
       "      <td>0</td>\n",
       "      <td>0</td>\n",
       "      <td>0</td>\n",
       "      <td>0</td>\n",
       "      <td>0</td>\n",
       "      <td>0</td>\n",
       "      <td>0</td>\n",
       "      <td>0</td>\n",
       "      <td>0</td>\n",
       "      <td>0</td>\n",
       "      <td>0</td>\n",
       "      <td>1</td>\n",
       "      <td>0</td>\n",
       "      <td>1</td>\n",
       "      <td>0</td>\n",
       "      <td>0</td>\n",
       "      <td>0</td>\n",
       "      <td>0</td>\n",
       "      <td>0</td>\n",
       "      <td>0</td>\n",
       "      <td>0</td>\n",
       "      <td>0</td>\n",
       "      <td>1</td>\n",
       "      <td>0</td>\n",
       "      <td>0</td>\n",
       "      <td>0</td>\n",
       "      <td>0</td>\n",
       "      <td>0</td>\n",
       "      <td>0</td>\n",
       "      <td>1</td>\n",
       "      <td>0</td>\n",
       "      <td>0</td>\n",
       "      <td>0</td>\n",
       "      <td>0</td>\n",
       "      <td>0</td>\n",
       "      <td>0</td>\n",
       "      <td>0</td>\n",
       "      <td>0</td>\n",
       "      <td>0</td>\n",
       "      <td>0</td>\n",
       "      <td>0</td>\n",
       "      <td>0</td>\n",
       "      <td>0</td>\n",
       "      <td>0</td>\n",
       "      <td>0</td>\n",
       "      <td>0</td>\n",
       "      <td>0</td>\n",
       "      <td>0</td>\n",
       "      <td>0</td>\n",
       "      <td>0</td>\n",
       "      <td>0</td>\n",
       "      <td>0</td>\n",
       "      <td>0</td>\n",
       "      <td>0</td>\n",
       "      <td>0</td>\n",
       "      <td>0</td>\n",
       "      <td>0</td>\n",
       "      <td>0</td>\n",
       "      <td>0</td>\n",
       "      <td>0</td>\n",
       "      <td>0</td>\n",
       "      <td>0</td>\n",
       "      <td>0</td>\n",
       "      <td>0</td>\n",
       "      <td>0</td>\n",
       "      <td>0</td>\n",
       "      <td>0</td>\n",
       "      <td>1</td>\n",
       "      <td>0</td>\n",
       "      <td>0</td>\n",
       "      <td>0</td>\n",
       "      <td>1</td>\n",
       "      <td>0</td>\n",
       "      <td>0</td>\n",
       "      <td>0</td>\n",
       "      <td>0</td>\n",
       "      <td>1</td>\n",
       "      <td>0</td>\n",
       "      <td>0</td>\n",
       "      <td>0</td>\n",
       "      <td>1</td>\n",
       "      <td>0</td>\n",
       "      <td>0</td>\n",
       "      <td>0</td>\n",
       "      <td>0</td>\n",
       "      <td>0</td>\n",
       "      <td>0</td>\n",
       "      <td>0</td>\n",
       "      <td>0</td>\n",
       "      <td>0</td>\n",
       "      <td>0</td>\n",
       "      <td>0</td>\n",
       "      <td>0</td>\n",
       "      <td>0</td>\n",
       "      <td>0</td>\n",
       "      <td>0</td>\n",
       "      <td>1</td>\n",
       "      <td>0</td>\n",
       "      <td>0</td>\n",
       "      <td>0</td>\n",
       "      <td>0</td>\n",
       "      <td>0</td>\n",
       "      <td>0</td>\n",
       "      <td>0</td>\n",
       "      <td>0</td>\n",
       "      <td>0</td>\n",
       "      <td>0</td>\n",
       "      <td>0</td>\n",
       "      <td>1</td>\n",
       "      <td>0</td>\n",
       "      <td>0</td>\n",
       "      <td>0</td>\n",
       "      <td>0</td>\n",
       "      <td>0</td>\n",
       "      <td>0</td>\n",
       "      <td>0</td>\n",
       "      <td>0</td>\n",
       "      <td>0</td>\n",
       "      <td>0</td>\n",
       "      <td>0</td>\n",
       "      <td>0</td>\n",
       "      <td>0</td>\n",
       "      <td>0</td>\n",
       "      <td>0</td>\n",
       "      <td>0</td>\n",
       "      <td>0</td>\n",
       "      <td>0</td>\n",
       "      <td>0</td>\n",
       "      <td>0</td>\n",
       "      <td>0</td>\n",
       "      <td>0</td>\n",
       "      <td>0</td>\n",
       "      <td>0</td>\n",
       "      <td>0</td>\n",
       "      <td>1</td>\n",
       "      <td>0</td>\n",
       "      <td>0</td>\n",
       "      <td>0</td>\n",
       "      <td>0</td>\n",
       "      <td>0</td>\n",
       "      <td>0</td>\n",
       "      <td>0</td>\n",
       "      <td>0</td>\n",
       "      <td>0</td>\n",
       "      <td>0</td>\n",
       "      <td>0</td>\n",
       "      <td>1</td>\n",
       "      <td>0</td>\n",
       "      <td>0</td>\n",
       "      <td>0</td>\n",
       "      <td>0</td>\n",
       "      <td>0</td>\n",
       "      <td>0</td>\n",
       "      <td>0</td>\n",
       "      <td>0</td>\n",
       "      <td>0</td>\n",
       "      <td>0</td>\n",
       "      <td>0</td>\n",
       "      <td>0</td>\n",
       "      <td>0</td>\n",
       "      <td>0</td>\n",
       "      <td>1</td>\n",
       "      <td>0</td>\n",
       "      <td>0</td>\n",
       "      <td>0</td>\n",
       "      <td>0</td>\n",
       "      <td>0</td>\n",
       "      <td>0</td>\n",
       "      <td>0</td>\n",
       "      <td>0</td>\n",
       "      <td>0</td>\n",
       "      <td>0</td>\n",
       "      <td>0</td>\n",
       "      <td>0</td>\n",
       "      <td>0</td>\n",
       "      <td>0</td>\n",
       "      <td>0</td>\n",
       "      <td>0</td>\n",
       "      <td>0</td>\n",
       "      <td>0</td>\n",
       "      <td>0</td>\n",
       "      <td>1</td>\n",
       "      <td>0</td>\n",
       "      <td>0</td>\n",
       "      <td>0</td>\n",
       "      <td>0</td>\n",
       "      <td>0</td>\n",
       "      <td>0</td>\n",
       "      <td>0</td>\n",
       "      <td>0</td>\n",
       "      <td>0</td>\n",
       "      <td>0</td>\n",
       "      <td>0</td>\n",
       "      <td>0</td>\n",
       "      <td>1</td>\n",
       "      <td>0</td>\n",
       "      <td>0</td>\n",
       "      <td>0</td>\n",
       "      <td>0</td>\n",
       "      <td>0</td>\n",
       "    </tr>\n",
       "    <tr>\n",
       "      <th>3</th>\n",
       "      <td>3</td>\n",
       "      <td>2.957016</td>\n",
       "      <td>-0.195271</td>\n",
       "      <td>1.671959</td>\n",
       "      <td>False</td>\n",
       "      <td>2.036377</td>\n",
       "      <td>-0.622541</td>\n",
       "      <td>0.771293</td>\n",
       "      <td>0.177609</td>\n",
       "      <td>-0.131338</td>\n",
       "      <td>-0.154303</td>\n",
       "      <td>-0.068712</td>\n",
       "      <td>-0.04367</td>\n",
       "      <td>-0.086687</td>\n",
       "      <td>-0.099570</td>\n",
       "      <td>-0.156428</td>\n",
       "      <td>2.090994</td>\n",
       "      <td>0.004609</td>\n",
       "      <td>4.016578</td>\n",
       "      <td>2.214956</td>\n",
       "      <td>0.087558</td>\n",
       "      <td>True</td>\n",
       "      <td>-0.761279</td>\n",
       "      <td>False</td>\n",
       "      <td>3.463808</td>\n",
       "      <td>-0.700881</td>\n",
       "      <td>-0.248221</td>\n",
       "      <td>0.598668</td>\n",
       "      <td>0.384448</td>\n",
       "      <td>0</td>\n",
       "      <td>0</td>\n",
       "      <td>0</td>\n",
       "      <td>0</td>\n",
       "      <td>0</td>\n",
       "      <td>0</td>\n",
       "      <td>0</td>\n",
       "      <td>0</td>\n",
       "      <td>0</td>\n",
       "      <td>0</td>\n",
       "      <td>0</td>\n",
       "      <td>0</td>\n",
       "      <td>0</td>\n",
       "      <td>0</td>\n",
       "      <td>0</td>\n",
       "      <td>1</td>\n",
       "      <td>0</td>\n",
       "      <td>0</td>\n",
       "      <td>0</td>\n",
       "      <td>0</td>\n",
       "      <td>0</td>\n",
       "      <td>0</td>\n",
       "      <td>0</td>\n",
       "      <td>0</td>\n",
       "      <td>0</td>\n",
       "      <td>1</td>\n",
       "      <td>0</td>\n",
       "      <td>0</td>\n",
       "      <td>0</td>\n",
       "      <td>0</td>\n",
       "      <td>0</td>\n",
       "      <td>0</td>\n",
       "      <td>1</td>\n",
       "      <td>0</td>\n",
       "      <td>0</td>\n",
       "      <td>0</td>\n",
       "      <td>0</td>\n",
       "      <td>0</td>\n",
       "      <td>0</td>\n",
       "      <td>0</td>\n",
       "      <td>0</td>\n",
       "      <td>0</td>\n",
       "      <td>0</td>\n",
       "      <td>0</td>\n",
       "      <td>0</td>\n",
       "      <td>0</td>\n",
       "      <td>0</td>\n",
       "      <td>0</td>\n",
       "      <td>0</td>\n",
       "      <td>0</td>\n",
       "      <td>0</td>\n",
       "      <td>0</td>\n",
       "      <td>0</td>\n",
       "      <td>0</td>\n",
       "      <td>0</td>\n",
       "      <td>0</td>\n",
       "      <td>0</td>\n",
       "      <td>0</td>\n",
       "      <td>0</td>\n",
       "      <td>0</td>\n",
       "      <td>0</td>\n",
       "      <td>0</td>\n",
       "      <td>0</td>\n",
       "      <td>0</td>\n",
       "      <td>0</td>\n",
       "      <td>0</td>\n",
       "      <td>0</td>\n",
       "      <td>0</td>\n",
       "      <td>0</td>\n",
       "      <td>0</td>\n",
       "      <td>0</td>\n",
       "      <td>0</td>\n",
       "      <td>0</td>\n",
       "      <td>0</td>\n",
       "      <td>0</td>\n",
       "      <td>0</td>\n",
       "      <td>0</td>\n",
       "      <td>0</td>\n",
       "      <td>0</td>\n",
       "      <td>0</td>\n",
       "      <td>1</td>\n",
       "      <td>0</td>\n",
       "      <td>0</td>\n",
       "      <td>0</td>\n",
       "      <td>0</td>\n",
       "      <td>0</td>\n",
       "      <td>0</td>\n",
       "      <td>1</td>\n",
       "      <td>0</td>\n",
       "      <td>1</td>\n",
       "      <td>0</td>\n",
       "      <td>0</td>\n",
       "      <td>0</td>\n",
       "      <td>0</td>\n",
       "      <td>1</td>\n",
       "      <td>0</td>\n",
       "      <td>0</td>\n",
       "      <td>0</td>\n",
       "      <td>1</td>\n",
       "      <td>0</td>\n",
       "      <td>0</td>\n",
       "      <td>0</td>\n",
       "      <td>0</td>\n",
       "      <td>0</td>\n",
       "      <td>0</td>\n",
       "      <td>0</td>\n",
       "      <td>0</td>\n",
       "      <td>0</td>\n",
       "      <td>0</td>\n",
       "      <td>0</td>\n",
       "      <td>0</td>\n",
       "      <td>0</td>\n",
       "      <td>0</td>\n",
       "      <td>0</td>\n",
       "      <td>0</td>\n",
       "      <td>0</td>\n",
       "      <td>0</td>\n",
       "      <td>0</td>\n",
       "      <td>0</td>\n",
       "      <td>0</td>\n",
       "      <td>0</td>\n",
       "      <td>0</td>\n",
       "      <td>0</td>\n",
       "      <td>0</td>\n",
       "      <td>0</td>\n",
       "      <td>0</td>\n",
       "      <td>0</td>\n",
       "      <td>1</td>\n",
       "      <td>1</td>\n",
       "      <td>0</td>\n",
       "      <td>0</td>\n",
       "      <td>0</td>\n",
       "      <td>0</td>\n",
       "      <td>0</td>\n",
       "      <td>0</td>\n",
       "      <td>0</td>\n",
       "      <td>0</td>\n",
       "      <td>0</td>\n",
       "      <td>0</td>\n",
       "      <td>0</td>\n",
       "      <td>1</td>\n",
       "      <td>0</td>\n",
       "      <td>0</td>\n",
       "      <td>0</td>\n",
       "      <td>0</td>\n",
       "      <td>1</td>\n",
       "      <td>0</td>\n",
       "      <td>0</td>\n",
       "      <td>0</td>\n",
       "      <td>0</td>\n",
       "      <td>0</td>\n",
       "      <td>1</td>\n",
       "      <td>0</td>\n",
       "      <td>1</td>\n",
       "      <td>0</td>\n",
       "      <td>0</td>\n",
       "      <td>0</td>\n",
       "      <td>0</td>\n",
       "      <td>0</td>\n",
       "      <td>0</td>\n",
       "      <td>0</td>\n",
       "      <td>0</td>\n",
       "      <td>0</td>\n",
       "      <td>0</td>\n",
       "      <td>0</td>\n",
       "      <td>1</td>\n",
       "      <td>0</td>\n",
       "      <td>0</td>\n",
       "      <td>0</td>\n",
       "      <td>0</td>\n",
       "      <td>0</td>\n",
       "      <td>0</td>\n",
       "      <td>0</td>\n",
       "      <td>0</td>\n",
       "      <td>0</td>\n",
       "      <td>0</td>\n",
       "      <td>0</td>\n",
       "      <td>0</td>\n",
       "      <td>0</td>\n",
       "      <td>0</td>\n",
       "      <td>0</td>\n",
       "      <td>0</td>\n",
       "      <td>0</td>\n",
       "      <td>0</td>\n",
       "      <td>1</td>\n",
       "      <td>0</td>\n",
       "      <td>0</td>\n",
       "      <td>0</td>\n",
       "      <td>0</td>\n",
       "      <td>0</td>\n",
       "      <td>0</td>\n",
       "      <td>0</td>\n",
       "      <td>0</td>\n",
       "      <td>0</td>\n",
       "      <td>0</td>\n",
       "      <td>0</td>\n",
       "      <td>0</td>\n",
       "      <td>0</td>\n",
       "      <td>0</td>\n",
       "      <td>0</td>\n",
       "      <td>1</td>\n",
       "      <td>0</td>\n",
       "      <td>0</td>\n",
       "      <td>0</td>\n",
       "      <td>0</td>\n",
       "      <td>0</td>\n",
       "      <td>0</td>\n",
       "      <td>0</td>\n",
       "      <td>0</td>\n",
       "      <td>0</td>\n",
       "      <td>0</td>\n",
       "      <td>0</td>\n",
       "      <td>0</td>\n",
       "      <td>0</td>\n",
       "      <td>0</td>\n",
       "      <td>1</td>\n",
       "      <td>0</td>\n",
       "      <td>0</td>\n",
       "      <td>0</td>\n",
       "      <td>0</td>\n",
       "      <td>0</td>\n",
       "      <td>0</td>\n",
       "      <td>0</td>\n",
       "      <td>0</td>\n",
       "      <td>0</td>\n",
       "      <td>1</td>\n",
       "      <td>0</td>\n",
       "      <td>0</td>\n",
       "      <td>0</td>\n",
       "      <td>0</td>\n",
       "      <td>0</td>\n",
       "      <td>0</td>\n",
       "      <td>0</td>\n",
       "      <td>0</td>\n",
       "      <td>0</td>\n",
       "      <td>0</td>\n",
       "      <td>0</td>\n",
       "      <td>0</td>\n",
       "      <td>0</td>\n",
       "      <td>0</td>\n",
       "      <td>0</td>\n",
       "      <td>0</td>\n",
       "      <td>0</td>\n",
       "      <td>0</td>\n",
       "      <td>0</td>\n",
       "      <td>0</td>\n",
       "      <td>0</td>\n",
       "      <td>0</td>\n",
       "      <td>0</td>\n",
       "      <td>0</td>\n",
       "      <td>0</td>\n",
       "      <td>1</td>\n",
       "      <td>0</td>\n",
       "      <td>0</td>\n",
       "      <td>0</td>\n",
       "      <td>0</td>\n",
       "      <td>0</td>\n",
       "      <td>0</td>\n",
       "      <td>0</td>\n",
       "      <td>0</td>\n",
       "      <td>0</td>\n",
       "      <td>0</td>\n",
       "      <td>0</td>\n",
       "      <td>0</td>\n",
       "      <td>0</td>\n",
       "      <td>0</td>\n",
       "      <td>0</td>\n",
       "      <td>0</td>\n",
       "      <td>1</td>\n",
       "    </tr>\n",
       "    <tr>\n",
       "      <th>4</th>\n",
       "      <td>4</td>\n",
       "      <td>-0.391032</td>\n",
       "      <td>-0.195271</td>\n",
       "      <td>-0.627317</td>\n",
       "      <td>False</td>\n",
       "      <td>-0.924288</td>\n",
       "      <td>0.452777</td>\n",
       "      <td>-0.846501</td>\n",
       "      <td>0.264925</td>\n",
       "      <td>-0.131338</td>\n",
       "      <td>-0.154303</td>\n",
       "      <td>-0.068712</td>\n",
       "      <td>-0.04367</td>\n",
       "      <td>-0.086687</td>\n",
       "      <td>-0.099570</td>\n",
       "      <td>-0.129104</td>\n",
       "      <td>1.790961</td>\n",
       "      <td>0.014033</td>\n",
       "      <td>1.897897</td>\n",
       "      <td>2.997539</td>\n",
       "      <td>-0.102282</td>\n",
       "      <td>True</td>\n",
       "      <td>-0.437880</td>\n",
       "      <td>False</td>\n",
       "      <td>-0.384300</td>\n",
       "      <td>-0.700881</td>\n",
       "      <td>-0.456165</td>\n",
       "      <td>-0.166267</td>\n",
       "      <td>0.384448</td>\n",
       "      <td>1</td>\n",
       "      <td>0</td>\n",
       "      <td>0</td>\n",
       "      <td>0</td>\n",
       "      <td>0</td>\n",
       "      <td>0</td>\n",
       "      <td>0</td>\n",
       "      <td>0</td>\n",
       "      <td>0</td>\n",
       "      <td>0</td>\n",
       "      <td>0</td>\n",
       "      <td>0</td>\n",
       "      <td>1</td>\n",
       "      <td>0</td>\n",
       "      <td>0</td>\n",
       "      <td>0</td>\n",
       "      <td>0</td>\n",
       "      <td>0</td>\n",
       "      <td>0</td>\n",
       "      <td>0</td>\n",
       "      <td>0</td>\n",
       "      <td>0</td>\n",
       "      <td>0</td>\n",
       "      <td>0</td>\n",
       "      <td>0</td>\n",
       "      <td>0</td>\n",
       "      <td>0</td>\n",
       "      <td>0</td>\n",
       "      <td>0</td>\n",
       "      <td>1</td>\n",
       "      <td>0</td>\n",
       "      <td>0</td>\n",
       "      <td>0</td>\n",
       "      <td>0</td>\n",
       "      <td>0</td>\n",
       "      <td>0</td>\n",
       "      <td>0</td>\n",
       "      <td>1</td>\n",
       "      <td>0</td>\n",
       "      <td>0</td>\n",
       "      <td>0</td>\n",
       "      <td>0</td>\n",
       "      <td>0</td>\n",
       "      <td>0</td>\n",
       "      <td>0</td>\n",
       "      <td>1</td>\n",
       "      <td>0</td>\n",
       "      <td>1</td>\n",
       "      <td>0</td>\n",
       "      <td>0</td>\n",
       "      <td>0</td>\n",
       "      <td>0</td>\n",
       "      <td>0</td>\n",
       "      <td>0</td>\n",
       "      <td>0</td>\n",
       "      <td>0</td>\n",
       "      <td>0</td>\n",
       "      <td>0</td>\n",
       "      <td>0</td>\n",
       "      <td>0</td>\n",
       "      <td>0</td>\n",
       "      <td>0</td>\n",
       "      <td>0</td>\n",
       "      <td>0</td>\n",
       "      <td>0</td>\n",
       "      <td>0</td>\n",
       "      <td>0</td>\n",
       "      <td>0</td>\n",
       "      <td>0</td>\n",
       "      <td>0</td>\n",
       "      <td>0</td>\n",
       "      <td>0</td>\n",
       "      <td>0</td>\n",
       "      <td>0</td>\n",
       "      <td>0</td>\n",
       "      <td>0</td>\n",
       "      <td>0</td>\n",
       "      <td>0</td>\n",
       "      <td>0</td>\n",
       "      <td>0</td>\n",
       "      <td>1</td>\n",
       "      <td>0</td>\n",
       "      <td>0</td>\n",
       "      <td>0</td>\n",
       "      <td>0</td>\n",
       "      <td>0</td>\n",
       "      <td>0</td>\n",
       "      <td>1</td>\n",
       "      <td>0</td>\n",
       "      <td>0</td>\n",
       "      <td>0</td>\n",
       "      <td>0</td>\n",
       "      <td>1</td>\n",
       "      <td>0</td>\n",
       "      <td>1</td>\n",
       "      <td>0</td>\n",
       "      <td>0</td>\n",
       "      <td>0</td>\n",
       "      <td>1</td>\n",
       "      <td>0</td>\n",
       "      <td>0</td>\n",
       "      <td>0</td>\n",
       "      <td>0</td>\n",
       "      <td>0</td>\n",
       "      <td>0</td>\n",
       "      <td>1</td>\n",
       "      <td>0</td>\n",
       "      <td>0</td>\n",
       "      <td>0</td>\n",
       "      <td>0</td>\n",
       "      <td>0</td>\n",
       "      <td>0</td>\n",
       "      <td>0</td>\n",
       "      <td>0</td>\n",
       "      <td>0</td>\n",
       "      <td>0</td>\n",
       "      <td>0</td>\n",
       "      <td>0</td>\n",
       "      <td>0</td>\n",
       "      <td>0</td>\n",
       "      <td>0</td>\n",
       "      <td>0</td>\n",
       "      <td>0</td>\n",
       "      <td>0</td>\n",
       "      <td>0</td>\n",
       "      <td>0</td>\n",
       "      <td>0</td>\n",
       "      <td>0</td>\n",
       "      <td>1</td>\n",
       "      <td>0</td>\n",
       "      <td>0</td>\n",
       "      <td>0</td>\n",
       "      <td>0</td>\n",
       "      <td>0</td>\n",
       "      <td>0</td>\n",
       "      <td>0</td>\n",
       "      <td>0</td>\n",
       "      <td>0</td>\n",
       "      <td>0</td>\n",
       "      <td>0</td>\n",
       "      <td>0</td>\n",
       "      <td>0</td>\n",
       "      <td>0</td>\n",
       "      <td>0</td>\n",
       "      <td>1</td>\n",
       "      <td>1</td>\n",
       "      <td>0</td>\n",
       "      <td>0</td>\n",
       "      <td>0</td>\n",
       "      <td>0</td>\n",
       "      <td>0</td>\n",
       "      <td>1</td>\n",
       "      <td>0</td>\n",
       "      <td>0</td>\n",
       "      <td>0</td>\n",
       "      <td>0</td>\n",
       "      <td>0</td>\n",
       "      <td>0</td>\n",
       "      <td>0</td>\n",
       "      <td>0</td>\n",
       "      <td>0</td>\n",
       "      <td>0</td>\n",
       "      <td>0</td>\n",
       "      <td>0</td>\n",
       "      <td>0</td>\n",
       "      <td>1</td>\n",
       "      <td>0</td>\n",
       "      <td>0</td>\n",
       "      <td>0</td>\n",
       "      <td>0</td>\n",
       "      <td>0</td>\n",
       "      <td>0</td>\n",
       "      <td>0</td>\n",
       "      <td>0</td>\n",
       "      <td>0</td>\n",
       "      <td>1</td>\n",
       "      <td>0</td>\n",
       "      <td>0</td>\n",
       "      <td>0</td>\n",
       "      <td>0</td>\n",
       "      <td>0</td>\n",
       "      <td>0</td>\n",
       "      <td>0</td>\n",
       "      <td>0</td>\n",
       "      <td>0</td>\n",
       "      <td>0</td>\n",
       "      <td>0</td>\n",
       "      <td>0</td>\n",
       "      <td>0</td>\n",
       "      <td>0</td>\n",
       "      <td>0</td>\n",
       "      <td>0</td>\n",
       "      <td>0</td>\n",
       "      <td>0</td>\n",
       "      <td>0</td>\n",
       "      <td>0</td>\n",
       "      <td>0</td>\n",
       "      <td>0</td>\n",
       "      <td>0</td>\n",
       "      <td>0</td>\n",
       "      <td>0</td>\n",
       "      <td>0</td>\n",
       "      <td>1</td>\n",
       "      <td>0</td>\n",
       "      <td>0</td>\n",
       "      <td>0</td>\n",
       "      <td>0</td>\n",
       "      <td>0</td>\n",
       "      <td>0</td>\n",
       "      <td>0</td>\n",
       "      <td>0</td>\n",
       "      <td>0</td>\n",
       "      <td>0</td>\n",
       "      <td>0</td>\n",
       "      <td>0</td>\n",
       "      <td>0</td>\n",
       "      <td>1</td>\n",
       "      <td>0</td>\n",
       "      <td>0</td>\n",
       "      <td>0</td>\n",
       "      <td>0</td>\n",
       "      <td>0</td>\n",
       "      <td>0</td>\n",
       "      <td>0</td>\n",
       "      <td>0</td>\n",
       "      <td>0</td>\n",
       "      <td>0</td>\n",
       "      <td>0</td>\n",
       "      <td>0</td>\n",
       "      <td>0</td>\n",
       "      <td>0</td>\n",
       "      <td>0</td>\n",
       "      <td>0</td>\n",
       "      <td>0</td>\n",
       "      <td>0</td>\n",
       "      <td>0</td>\n",
       "      <td>0</td>\n",
       "      <td>0</td>\n",
       "      <td>0</td>\n",
       "      <td>0</td>\n",
       "      <td>0</td>\n",
       "      <td>0</td>\n",
       "      <td>0</td>\n",
       "      <td>0</td>\n",
       "      <td>0</td>\n",
       "      <td>0</td>\n",
       "      <td>0</td>\n",
       "      <td>1</td>\n",
       "      <td>0</td>\n",
       "      <td>0</td>\n",
       "      <td>0</td>\n",
       "      <td>0</td>\n",
       "      <td>0</td>\n",
       "      <td>0</td>\n",
       "      <td>0</td>\n",
       "      <td>0</td>\n",
       "      <td>0</td>\n",
       "      <td>0</td>\n",
       "      <td>0</td>\n",
       "      <td>0</td>\n",
       "      <td>0</td>\n",
       "      <td>0</td>\n",
       "      <td>0</td>\n",
       "      <td>0</td>\n",
       "      <td>1</td>\n",
       "      <td>0</td>\n",
       "      <td>0</td>\n",
       "      <td>0</td>\n",
       "      <td>0</td>\n",
       "    </tr>\n",
       "    <tr>\n",
       "      <th>...</th>\n",
       "      <td>...</td>\n",
       "      <td>...</td>\n",
       "      <td>...</td>\n",
       "      <td>...</td>\n",
       "      <td>...</td>\n",
       "      <td>...</td>\n",
       "      <td>...</td>\n",
       "      <td>...</td>\n",
       "      <td>...</td>\n",
       "      <td>...</td>\n",
       "      <td>...</td>\n",
       "      <td>...</td>\n",
       "      <td>...</td>\n",
       "      <td>...</td>\n",
       "      <td>...</td>\n",
       "      <td>...</td>\n",
       "      <td>...</td>\n",
       "      <td>...</td>\n",
       "      <td>...</td>\n",
       "      <td>...</td>\n",
       "      <td>...</td>\n",
       "      <td>...</td>\n",
       "      <td>...</td>\n",
       "      <td>...</td>\n",
       "      <td>...</td>\n",
       "      <td>...</td>\n",
       "      <td>...</td>\n",
       "      <td>...</td>\n",
       "      <td>...</td>\n",
       "      <td>...</td>\n",
       "      <td>...</td>\n",
       "      <td>...</td>\n",
       "      <td>...</td>\n",
       "      <td>...</td>\n",
       "      <td>...</td>\n",
       "      <td>...</td>\n",
       "      <td>...</td>\n",
       "      <td>...</td>\n",
       "      <td>...</td>\n",
       "      <td>...</td>\n",
       "      <td>...</td>\n",
       "      <td>...</td>\n",
       "      <td>...</td>\n",
       "      <td>...</td>\n",
       "      <td>...</td>\n",
       "      <td>...</td>\n",
       "      <td>...</td>\n",
       "      <td>...</td>\n",
       "      <td>...</td>\n",
       "      <td>...</td>\n",
       "      <td>...</td>\n",
       "      <td>...</td>\n",
       "      <td>...</td>\n",
       "      <td>...</td>\n",
       "      <td>...</td>\n",
       "      <td>...</td>\n",
       "      <td>...</td>\n",
       "      <td>...</td>\n",
       "      <td>...</td>\n",
       "      <td>...</td>\n",
       "      <td>...</td>\n",
       "      <td>...</td>\n",
       "      <td>...</td>\n",
       "      <td>...</td>\n",
       "      <td>...</td>\n",
       "      <td>...</td>\n",
       "      <td>...</td>\n",
       "      <td>...</td>\n",
       "      <td>...</td>\n",
       "      <td>...</td>\n",
       "      <td>...</td>\n",
       "      <td>...</td>\n",
       "      <td>...</td>\n",
       "      <td>...</td>\n",
       "      <td>...</td>\n",
       "      <td>...</td>\n",
       "      <td>...</td>\n",
       "      <td>...</td>\n",
       "      <td>...</td>\n",
       "      <td>...</td>\n",
       "      <td>...</td>\n",
       "      <td>...</td>\n",
       "      <td>...</td>\n",
       "      <td>...</td>\n",
       "      <td>...</td>\n",
       "      <td>...</td>\n",
       "      <td>...</td>\n",
       "      <td>...</td>\n",
       "      <td>...</td>\n",
       "      <td>...</td>\n",
       "      <td>...</td>\n",
       "      <td>...</td>\n",
       "      <td>...</td>\n",
       "      <td>...</td>\n",
       "      <td>...</td>\n",
       "      <td>...</td>\n",
       "      <td>...</td>\n",
       "      <td>...</td>\n",
       "      <td>...</td>\n",
       "      <td>...</td>\n",
       "      <td>...</td>\n",
       "      <td>...</td>\n",
       "      <td>...</td>\n",
       "      <td>...</td>\n",
       "      <td>...</td>\n",
       "      <td>...</td>\n",
       "      <td>...</td>\n",
       "      <td>...</td>\n",
       "      <td>...</td>\n",
       "      <td>...</td>\n",
       "      <td>...</td>\n",
       "      <td>...</td>\n",
       "      <td>...</td>\n",
       "      <td>...</td>\n",
       "      <td>...</td>\n",
       "      <td>...</td>\n",
       "      <td>...</td>\n",
       "      <td>...</td>\n",
       "      <td>...</td>\n",
       "      <td>...</td>\n",
       "      <td>...</td>\n",
       "      <td>...</td>\n",
       "      <td>...</td>\n",
       "      <td>...</td>\n",
       "      <td>...</td>\n",
       "      <td>...</td>\n",
       "      <td>...</td>\n",
       "      <td>...</td>\n",
       "      <td>...</td>\n",
       "      <td>...</td>\n",
       "      <td>...</td>\n",
       "      <td>...</td>\n",
       "      <td>...</td>\n",
       "      <td>...</td>\n",
       "      <td>...</td>\n",
       "      <td>...</td>\n",
       "      <td>...</td>\n",
       "      <td>...</td>\n",
       "      <td>...</td>\n",
       "      <td>...</td>\n",
       "      <td>...</td>\n",
       "      <td>...</td>\n",
       "      <td>...</td>\n",
       "      <td>...</td>\n",
       "      <td>...</td>\n",
       "      <td>...</td>\n",
       "      <td>...</td>\n",
       "      <td>...</td>\n",
       "      <td>...</td>\n",
       "      <td>...</td>\n",
       "      <td>...</td>\n",
       "      <td>...</td>\n",
       "      <td>...</td>\n",
       "      <td>...</td>\n",
       "      <td>...</td>\n",
       "      <td>...</td>\n",
       "      <td>...</td>\n",
       "      <td>...</td>\n",
       "      <td>...</td>\n",
       "      <td>...</td>\n",
       "      <td>...</td>\n",
       "      <td>...</td>\n",
       "      <td>...</td>\n",
       "      <td>...</td>\n",
       "      <td>...</td>\n",
       "      <td>...</td>\n",
       "      <td>...</td>\n",
       "      <td>...</td>\n",
       "      <td>...</td>\n",
       "      <td>...</td>\n",
       "      <td>...</td>\n",
       "      <td>...</td>\n",
       "      <td>...</td>\n",
       "      <td>...</td>\n",
       "      <td>...</td>\n",
       "      <td>...</td>\n",
       "      <td>...</td>\n",
       "      <td>...</td>\n",
       "      <td>...</td>\n",
       "      <td>...</td>\n",
       "      <td>...</td>\n",
       "      <td>...</td>\n",
       "      <td>...</td>\n",
       "      <td>...</td>\n",
       "      <td>...</td>\n",
       "      <td>...</td>\n",
       "      <td>...</td>\n",
       "      <td>...</td>\n",
       "      <td>...</td>\n",
       "      <td>...</td>\n",
       "      <td>...</td>\n",
       "      <td>...</td>\n",
       "      <td>...</td>\n",
       "      <td>...</td>\n",
       "      <td>...</td>\n",
       "      <td>...</td>\n",
       "      <td>...</td>\n",
       "      <td>...</td>\n",
       "      <td>...</td>\n",
       "      <td>...</td>\n",
       "      <td>...</td>\n",
       "      <td>...</td>\n",
       "      <td>...</td>\n",
       "      <td>...</td>\n",
       "      <td>...</td>\n",
       "      <td>...</td>\n",
       "      <td>...</td>\n",
       "      <td>...</td>\n",
       "      <td>...</td>\n",
       "      <td>...</td>\n",
       "      <td>...</td>\n",
       "      <td>...</td>\n",
       "      <td>...</td>\n",
       "      <td>...</td>\n",
       "      <td>...</td>\n",
       "      <td>...</td>\n",
       "      <td>...</td>\n",
       "      <td>...</td>\n",
       "      <td>...</td>\n",
       "      <td>...</td>\n",
       "      <td>...</td>\n",
       "      <td>...</td>\n",
       "      <td>...</td>\n",
       "      <td>...</td>\n",
       "      <td>...</td>\n",
       "      <td>...</td>\n",
       "      <td>...</td>\n",
       "      <td>...</td>\n",
       "      <td>...</td>\n",
       "      <td>...</td>\n",
       "      <td>...</td>\n",
       "      <td>...</td>\n",
       "      <td>...</td>\n",
       "      <td>...</td>\n",
       "      <td>...</td>\n",
       "      <td>...</td>\n",
       "      <td>...</td>\n",
       "      <td>...</td>\n",
       "      <td>...</td>\n",
       "      <td>...</td>\n",
       "      <td>...</td>\n",
       "      <td>...</td>\n",
       "      <td>...</td>\n",
       "      <td>...</td>\n",
       "      <td>...</td>\n",
       "      <td>...</td>\n",
       "      <td>...</td>\n",
       "      <td>...</td>\n",
       "      <td>...</td>\n",
       "      <td>...</td>\n",
       "      <td>...</td>\n",
       "      <td>...</td>\n",
       "      <td>...</td>\n",
       "      <td>...</td>\n",
       "      <td>...</td>\n",
       "      <td>...</td>\n",
       "      <td>...</td>\n",
       "      <td>...</td>\n",
       "      <td>...</td>\n",
       "      <td>...</td>\n",
       "      <td>...</td>\n",
       "      <td>...</td>\n",
       "      <td>...</td>\n",
       "      <td>...</td>\n",
       "      <td>...</td>\n",
       "      <td>...</td>\n",
       "      <td>...</td>\n",
       "      <td>...</td>\n",
       "      <td>...</td>\n",
       "      <td>...</td>\n",
       "      <td>...</td>\n",
       "      <td>...</td>\n",
       "      <td>...</td>\n",
       "      <td>...</td>\n",
       "      <td>...</td>\n",
       "      <td>...</td>\n",
       "      <td>...</td>\n",
       "      <td>...</td>\n",
       "      <td>...</td>\n",
       "      <td>...</td>\n",
       "      <td>...</td>\n",
       "      <td>...</td>\n",
       "      <td>...</td>\n",
       "      <td>...</td>\n",
       "      <td>...</td>\n",
       "      <td>...</td>\n",
       "      <td>...</td>\n",
       "      <td>...</td>\n",
       "      <td>...</td>\n",
       "      <td>...</td>\n",
       "      <td>...</td>\n",
       "      <td>...</td>\n",
       "      <td>...</td>\n",
       "      <td>...</td>\n",
       "      <td>...</td>\n",
       "      <td>...</td>\n",
       "      <td>...</td>\n",
       "      <td>...</td>\n",
       "    </tr>\n",
       "    <tr>\n",
       "      <th>115994</th>\n",
       "      <td>168340</td>\n",
       "      <td>0.061407</td>\n",
       "      <td>4.373302</td>\n",
       "      <td>1.118552</td>\n",
       "      <td>False</td>\n",
       "      <td>0.312034</td>\n",
       "      <td>0.173172</td>\n",
       "      <td>0.123481</td>\n",
       "      <td>0.498117</td>\n",
       "      <td>-0.131338</td>\n",
       "      <td>-0.154303</td>\n",
       "      <td>-0.068712</td>\n",
       "      <td>-0.04367</td>\n",
       "      <td>-0.086687</td>\n",
       "      <td>-0.099570</td>\n",
       "      <td>-0.056130</td>\n",
       "      <td>0.590827</td>\n",
       "      <td>0.017235</td>\n",
       "      <td>-0.220783</td>\n",
       "      <td>3.272484</td>\n",
       "      <td>-0.057120</td>\n",
       "      <td>True</td>\n",
       "      <td>0.064683</td>\n",
       "      <td>True</td>\n",
       "      <td>0.866969</td>\n",
       "      <td>-0.700881</td>\n",
       "      <td>-0.225530</td>\n",
       "      <td>0.826894</td>\n",
       "      <td>0.384448</td>\n",
       "      <td>1</td>\n",
       "      <td>0</td>\n",
       "      <td>0</td>\n",
       "      <td>0</td>\n",
       "      <td>0</td>\n",
       "      <td>0</td>\n",
       "      <td>0</td>\n",
       "      <td>0</td>\n",
       "      <td>0</td>\n",
       "      <td>0</td>\n",
       "      <td>0</td>\n",
       "      <td>0</td>\n",
       "      <td>0</td>\n",
       "      <td>0</td>\n",
       "      <td>0</td>\n",
       "      <td>0</td>\n",
       "      <td>1</td>\n",
       "      <td>0</td>\n",
       "      <td>0</td>\n",
       "      <td>0</td>\n",
       "      <td>0</td>\n",
       "      <td>0</td>\n",
       "      <td>0</td>\n",
       "      <td>0</td>\n",
       "      <td>0</td>\n",
       "      <td>0</td>\n",
       "      <td>0</td>\n",
       "      <td>0</td>\n",
       "      <td>1</td>\n",
       "      <td>0</td>\n",
       "      <td>0</td>\n",
       "      <td>1</td>\n",
       "      <td>0</td>\n",
       "      <td>0</td>\n",
       "      <td>0</td>\n",
       "      <td>0</td>\n",
       "      <td>0</td>\n",
       "      <td>0</td>\n",
       "      <td>0</td>\n",
       "      <td>0</td>\n",
       "      <td>0</td>\n",
       "      <td>0</td>\n",
       "      <td>0</td>\n",
       "      <td>0</td>\n",
       "      <td>0</td>\n",
       "      <td>1</td>\n",
       "      <td>0</td>\n",
       "      <td>0</td>\n",
       "      <td>0</td>\n",
       "      <td>0</td>\n",
       "      <td>0</td>\n",
       "      <td>0</td>\n",
       "      <td>0</td>\n",
       "      <td>0</td>\n",
       "      <td>0</td>\n",
       "      <td>0</td>\n",
       "      <td>0</td>\n",
       "      <td>0</td>\n",
       "      <td>0</td>\n",
       "      <td>0</td>\n",
       "      <td>0</td>\n",
       "      <td>0</td>\n",
       "      <td>0</td>\n",
       "      <td>0</td>\n",
       "      <td>0</td>\n",
       "      <td>0</td>\n",
       "      <td>0</td>\n",
       "      <td>0</td>\n",
       "      <td>0</td>\n",
       "      <td>0</td>\n",
       "      <td>0</td>\n",
       "      <td>0</td>\n",
       "      <td>0</td>\n",
       "      <td>0</td>\n",
       "      <td>0</td>\n",
       "      <td>0</td>\n",
       "      <td>0</td>\n",
       "      <td>0</td>\n",
       "      <td>0</td>\n",
       "      <td>0</td>\n",
       "      <td>1</td>\n",
       "      <td>0</td>\n",
       "      <td>0</td>\n",
       "      <td>0</td>\n",
       "      <td>0</td>\n",
       "      <td>0</td>\n",
       "      <td>0</td>\n",
       "      <td>0</td>\n",
       "      <td>0</td>\n",
       "      <td>0</td>\n",
       "      <td>0</td>\n",
       "      <td>1</td>\n",
       "      <td>0</td>\n",
       "      <td>0</td>\n",
       "      <td>1</td>\n",
       "      <td>0</td>\n",
       "      <td>0</td>\n",
       "      <td>0</td>\n",
       "      <td>1</td>\n",
       "      <td>0</td>\n",
       "      <td>0</td>\n",
       "      <td>0</td>\n",
       "      <td>0</td>\n",
       "      <td>0</td>\n",
       "      <td>0</td>\n",
       "      <td>1</td>\n",
       "      <td>0</td>\n",
       "      <td>0</td>\n",
       "      <td>0</td>\n",
       "      <td>0</td>\n",
       "      <td>0</td>\n",
       "      <td>0</td>\n",
       "      <td>0</td>\n",
       "      <td>0</td>\n",
       "      <td>0</td>\n",
       "      <td>0</td>\n",
       "      <td>0</td>\n",
       "      <td>0</td>\n",
       "      <td>0</td>\n",
       "      <td>0</td>\n",
       "      <td>0</td>\n",
       "      <td>0</td>\n",
       "      <td>0</td>\n",
       "      <td>0</td>\n",
       "      <td>0</td>\n",
       "      <td>0</td>\n",
       "      <td>0</td>\n",
       "      <td>0</td>\n",
       "      <td>0</td>\n",
       "      <td>1</td>\n",
       "      <td>0</td>\n",
       "      <td>0</td>\n",
       "      <td>0</td>\n",
       "      <td>0</td>\n",
       "      <td>0</td>\n",
       "      <td>0</td>\n",
       "      <td>0</td>\n",
       "      <td>0</td>\n",
       "      <td>0</td>\n",
       "      <td>0</td>\n",
       "      <td>0</td>\n",
       "      <td>0</td>\n",
       "      <td>0</td>\n",
       "      <td>1</td>\n",
       "      <td>0</td>\n",
       "      <td>1</td>\n",
       "      <td>0</td>\n",
       "      <td>0</td>\n",
       "      <td>0</td>\n",
       "      <td>1</td>\n",
       "      <td>0</td>\n",
       "      <td>0</td>\n",
       "      <td>0</td>\n",
       "      <td>0</td>\n",
       "      <td>0</td>\n",
       "      <td>0</td>\n",
       "      <td>0</td>\n",
       "      <td>0</td>\n",
       "      <td>0</td>\n",
       "      <td>0</td>\n",
       "      <td>0</td>\n",
       "      <td>0</td>\n",
       "      <td>0</td>\n",
       "      <td>0</td>\n",
       "      <td>0</td>\n",
       "      <td>1</td>\n",
       "      <td>0</td>\n",
       "      <td>0</td>\n",
       "      <td>0</td>\n",
       "      <td>0</td>\n",
       "      <td>0</td>\n",
       "      <td>0</td>\n",
       "      <td>0</td>\n",
       "      <td>0</td>\n",
       "      <td>0</td>\n",
       "      <td>0</td>\n",
       "      <td>0</td>\n",
       "      <td>1</td>\n",
       "      <td>0</td>\n",
       "      <td>0</td>\n",
       "      <td>0</td>\n",
       "      <td>0</td>\n",
       "      <td>0</td>\n",
       "      <td>0</td>\n",
       "      <td>0</td>\n",
       "      <td>0</td>\n",
       "      <td>0</td>\n",
       "      <td>0</td>\n",
       "      <td>0</td>\n",
       "      <td>0</td>\n",
       "      <td>0</td>\n",
       "      <td>0</td>\n",
       "      <td>0</td>\n",
       "      <td>0</td>\n",
       "      <td>0</td>\n",
       "      <td>0</td>\n",
       "      <td>0</td>\n",
       "      <td>0</td>\n",
       "      <td>0</td>\n",
       "      <td>1</td>\n",
       "      <td>0</td>\n",
       "      <td>0</td>\n",
       "      <td>0</td>\n",
       "      <td>0</td>\n",
       "      <td>0</td>\n",
       "      <td>0</td>\n",
       "      <td>0</td>\n",
       "      <td>0</td>\n",
       "      <td>0</td>\n",
       "      <td>0</td>\n",
       "      <td>0</td>\n",
       "      <td>0</td>\n",
       "      <td>0</td>\n",
       "      <td>0</td>\n",
       "      <td>0</td>\n",
       "      <td>0</td>\n",
       "      <td>1</td>\n",
       "      <td>0</td>\n",
       "      <td>0</td>\n",
       "      <td>0</td>\n",
       "      <td>0</td>\n",
       "      <td>0</td>\n",
       "      <td>1</td>\n",
       "      <td>0</td>\n",
       "      <td>0</td>\n",
       "      <td>0</td>\n",
       "      <td>0</td>\n",
       "      <td>0</td>\n",
       "      <td>0</td>\n",
       "      <td>0</td>\n",
       "      <td>0</td>\n",
       "      <td>0</td>\n",
       "      <td>0</td>\n",
       "      <td>0</td>\n",
       "      <td>0</td>\n",
       "      <td>0</td>\n",
       "      <td>1</td>\n",
       "      <td>0</td>\n",
       "      <td>0</td>\n",
       "      <td>0</td>\n",
       "      <td>0</td>\n",
       "      <td>0</td>\n",
       "      <td>0</td>\n",
       "      <td>0</td>\n",
       "      <td>0</td>\n",
       "      <td>0</td>\n",
       "      <td>0</td>\n",
       "      <td>0</td>\n",
       "      <td>0</td>\n",
       "      <td>0</td>\n",
       "      <td>0</td>\n",
       "      <td>0</td>\n",
       "      <td>0</td>\n",
       "      <td>0</td>\n",
       "      <td>0</td>\n",
       "      <td>0</td>\n",
       "      <td>0</td>\n",
       "      <td>0</td>\n",
       "      <td>0</td>\n",
       "      <td>0</td>\n",
       "      <td>0</td>\n",
       "      <td>0</td>\n",
       "      <td>0</td>\n",
       "      <td>0</td>\n",
       "      <td>0</td>\n",
       "      <td>0</td>\n",
       "      <td>0</td>\n",
       "      <td>0</td>\n",
       "      <td>0</td>\n",
       "    </tr>\n",
       "    <tr>\n",
       "      <th>115995</th>\n",
       "      <td>168341</td>\n",
       "      <td>0.727397</td>\n",
       "      <td>-0.195271</td>\n",
       "      <td>-0.726139</td>\n",
       "      <td>True</td>\n",
       "      <td>-0.241057</td>\n",
       "      <td>-0.174584</td>\n",
       "      <td>-0.408612</td>\n",
       "      <td>0.526350</td>\n",
       "      <td>-0.131338</td>\n",
       "      <td>-0.154303</td>\n",
       "      <td>-0.068712</td>\n",
       "      <td>-0.04367</td>\n",
       "      <td>-0.086687</td>\n",
       "      <td>1.523043</td>\n",
       "      <td>0.083601</td>\n",
       "      <td>-0.009239</td>\n",
       "      <td>0.006696</td>\n",
       "      <td>-0.220783</td>\n",
       "      <td>0.051695</td>\n",
       "      <td>1.694517</td>\n",
       "      <td>True</td>\n",
       "      <td>0.465469</td>\n",
       "      <td>False</td>\n",
       "      <td>-0.704473</td>\n",
       "      <td>0.365341</td>\n",
       "      <td>-0.594793</td>\n",
       "      <td>-0.363475</td>\n",
       "      <td>0.384448</td>\n",
       "      <td>1</td>\n",
       "      <td>0</td>\n",
       "      <td>0</td>\n",
       "      <td>0</td>\n",
       "      <td>0</td>\n",
       "      <td>0</td>\n",
       "      <td>0</td>\n",
       "      <td>1</td>\n",
       "      <td>0</td>\n",
       "      <td>0</td>\n",
       "      <td>0</td>\n",
       "      <td>0</td>\n",
       "      <td>0</td>\n",
       "      <td>0</td>\n",
       "      <td>0</td>\n",
       "      <td>0</td>\n",
       "      <td>0</td>\n",
       "      <td>0</td>\n",
       "      <td>0</td>\n",
       "      <td>0</td>\n",
       "      <td>0</td>\n",
       "      <td>0</td>\n",
       "      <td>0</td>\n",
       "      <td>0</td>\n",
       "      <td>1</td>\n",
       "      <td>0</td>\n",
       "      <td>0</td>\n",
       "      <td>0</td>\n",
       "      <td>0</td>\n",
       "      <td>0</td>\n",
       "      <td>0</td>\n",
       "      <td>0</td>\n",
       "      <td>0</td>\n",
       "      <td>0</td>\n",
       "      <td>0</td>\n",
       "      <td>1</td>\n",
       "      <td>0</td>\n",
       "      <td>0</td>\n",
       "      <td>0</td>\n",
       "      <td>0</td>\n",
       "      <td>0</td>\n",
       "      <td>0</td>\n",
       "      <td>0</td>\n",
       "      <td>0</td>\n",
       "      <td>0</td>\n",
       "      <td>1</td>\n",
       "      <td>0</td>\n",
       "      <td>0</td>\n",
       "      <td>1</td>\n",
       "      <td>0</td>\n",
       "      <td>0</td>\n",
       "      <td>0</td>\n",
       "      <td>0</td>\n",
       "      <td>0</td>\n",
       "      <td>0</td>\n",
       "      <td>0</td>\n",
       "      <td>0</td>\n",
       "      <td>0</td>\n",
       "      <td>0</td>\n",
       "      <td>0</td>\n",
       "      <td>0</td>\n",
       "      <td>0</td>\n",
       "      <td>0</td>\n",
       "      <td>0</td>\n",
       "      <td>0</td>\n",
       "      <td>0</td>\n",
       "      <td>0</td>\n",
       "      <td>0</td>\n",
       "      <td>0</td>\n",
       "      <td>0</td>\n",
       "      <td>0</td>\n",
       "      <td>0</td>\n",
       "      <td>0</td>\n",
       "      <td>0</td>\n",
       "      <td>0</td>\n",
       "      <td>0</td>\n",
       "      <td>0</td>\n",
       "      <td>0</td>\n",
       "      <td>0</td>\n",
       "      <td>0</td>\n",
       "      <td>1</td>\n",
       "      <td>0</td>\n",
       "      <td>0</td>\n",
       "      <td>0</td>\n",
       "      <td>0</td>\n",
       "      <td>0</td>\n",
       "      <td>1</td>\n",
       "      <td>0</td>\n",
       "      <td>0</td>\n",
       "      <td>0</td>\n",
       "      <td>1</td>\n",
       "      <td>0</td>\n",
       "      <td>0</td>\n",
       "      <td>0</td>\n",
       "      <td>0</td>\n",
       "      <td>0</td>\n",
       "      <td>0</td>\n",
       "      <td>0</td>\n",
       "      <td>1</td>\n",
       "      <td>0</td>\n",
       "      <td>0</td>\n",
       "      <td>0</td>\n",
       "      <td>0</td>\n",
       "      <td>0</td>\n",
       "      <td>0</td>\n",
       "      <td>0</td>\n",
       "      <td>0</td>\n",
       "      <td>0</td>\n",
       "      <td>0</td>\n",
       "      <td>1</td>\n",
       "      <td>0</td>\n",
       "      <td>0</td>\n",
       "      <td>0</td>\n",
       "      <td>0</td>\n",
       "      <td>0</td>\n",
       "      <td>0</td>\n",
       "      <td>0</td>\n",
       "      <td>0</td>\n",
       "      <td>0</td>\n",
       "      <td>0</td>\n",
       "      <td>0</td>\n",
       "      <td>0</td>\n",
       "      <td>0</td>\n",
       "      <td>0</td>\n",
       "      <td>0</td>\n",
       "      <td>0</td>\n",
       "      <td>0</td>\n",
       "      <td>0</td>\n",
       "      <td>0</td>\n",
       "      <td>0</td>\n",
       "      <td>1</td>\n",
       "      <td>0</td>\n",
       "      <td>0</td>\n",
       "      <td>0</td>\n",
       "      <td>0</td>\n",
       "      <td>0</td>\n",
       "      <td>0</td>\n",
       "      <td>0</td>\n",
       "      <td>0</td>\n",
       "      <td>0</td>\n",
       "      <td>0</td>\n",
       "      <td>0</td>\n",
       "      <td>1</td>\n",
       "      <td>0</td>\n",
       "      <td>0</td>\n",
       "      <td>0</td>\n",
       "      <td>0</td>\n",
       "      <td>0</td>\n",
       "      <td>0</td>\n",
       "      <td>0</td>\n",
       "      <td>0</td>\n",
       "      <td>1</td>\n",
       "      <td>0</td>\n",
       "      <td>0</td>\n",
       "      <td>0</td>\n",
       "      <td>0</td>\n",
       "      <td>0</td>\n",
       "      <td>0</td>\n",
       "      <td>0</td>\n",
       "      <td>0</td>\n",
       "      <td>0</td>\n",
       "      <td>0</td>\n",
       "      <td>0</td>\n",
       "      <td>0</td>\n",
       "      <td>0</td>\n",
       "      <td>1</td>\n",
       "      <td>0</td>\n",
       "      <td>0</td>\n",
       "      <td>0</td>\n",
       "      <td>0</td>\n",
       "      <td>0</td>\n",
       "      <td>0</td>\n",
       "      <td>0</td>\n",
       "      <td>0</td>\n",
       "      <td>0</td>\n",
       "      <td>0</td>\n",
       "      <td>0</td>\n",
       "      <td>0</td>\n",
       "      <td>0</td>\n",
       "      <td>0</td>\n",
       "      <td>0</td>\n",
       "      <td>0</td>\n",
       "      <td>0</td>\n",
       "      <td>0</td>\n",
       "      <td>1</td>\n",
       "      <td>0</td>\n",
       "      <td>0</td>\n",
       "      <td>0</td>\n",
       "      <td>0</td>\n",
       "      <td>0</td>\n",
       "      <td>0</td>\n",
       "      <td>0</td>\n",
       "      <td>0</td>\n",
       "      <td>0</td>\n",
       "      <td>0</td>\n",
       "      <td>0</td>\n",
       "      <td>0</td>\n",
       "      <td>0</td>\n",
       "      <td>0</td>\n",
       "      <td>0</td>\n",
       "      <td>0</td>\n",
       "      <td>1</td>\n",
       "      <td>0</td>\n",
       "      <td>0</td>\n",
       "      <td>0</td>\n",
       "      <td>0</td>\n",
       "      <td>0</td>\n",
       "      <td>0</td>\n",
       "      <td>0</td>\n",
       "      <td>0</td>\n",
       "      <td>0</td>\n",
       "      <td>0</td>\n",
       "      <td>0</td>\n",
       "      <td>0</td>\n",
       "      <td>0</td>\n",
       "      <td>1</td>\n",
       "      <td>0</td>\n",
       "      <td>0</td>\n",
       "      <td>0</td>\n",
       "      <td>0</td>\n",
       "      <td>0</td>\n",
       "      <td>0</td>\n",
       "      <td>0</td>\n",
       "      <td>1</td>\n",
       "      <td>0</td>\n",
       "      <td>0</td>\n",
       "      <td>0</td>\n",
       "      <td>0</td>\n",
       "      <td>0</td>\n",
       "      <td>0</td>\n",
       "      <td>0</td>\n",
       "      <td>0</td>\n",
       "      <td>0</td>\n",
       "      <td>1</td>\n",
       "      <td>0</td>\n",
       "      <td>0</td>\n",
       "      <td>0</td>\n",
       "      <td>0</td>\n",
       "      <td>0</td>\n",
       "      <td>0</td>\n",
       "      <td>0</td>\n",
       "      <td>0</td>\n",
       "      <td>0</td>\n",
       "      <td>0</td>\n",
       "      <td>0</td>\n",
       "      <td>0</td>\n",
       "      <td>0</td>\n",
       "      <td>0</td>\n",
       "      <td>0</td>\n",
       "      <td>0</td>\n",
       "      <td>0</td>\n",
       "      <td>0</td>\n",
       "      <td>0</td>\n",
       "      <td>0</td>\n",
       "      <td>0</td>\n",
       "      <td>0</td>\n",
       "      <td>0</td>\n",
       "      <td>0</td>\n",
       "      <td>0</td>\n",
       "      <td>0</td>\n",
       "      <td>0</td>\n",
       "      <td>0</td>\n",
       "      <td>0</td>\n",
       "      <td>1</td>\n",
       "      <td>0</td>\n",
       "      <td>0</td>\n",
       "      <td>0</td>\n",
       "      <td>0</td>\n",
       "      <td>0</td>\n",
       "    </tr>\n",
       "    <tr>\n",
       "      <th>115996</th>\n",
       "      <td>168342</td>\n",
       "      <td>3.778645</td>\n",
       "      <td>0.255152</td>\n",
       "      <td>0.795731</td>\n",
       "      <td>False</td>\n",
       "      <td>2.287359</td>\n",
       "      <td>-0.516078</td>\n",
       "      <td>0.947125</td>\n",
       "      <td>0.877706</td>\n",
       "      <td>-0.131338</td>\n",
       "      <td>-0.154303</td>\n",
       "      <td>-0.068712</td>\n",
       "      <td>-0.04367</td>\n",
       "      <td>-0.086687</td>\n",
       "      <td>-0.099570</td>\n",
       "      <td>0.062658</td>\n",
       "      <td>4.791293</td>\n",
       "      <td>0.052207</td>\n",
       "      <td>4.016578</td>\n",
       "      <td>3.644434</td>\n",
       "      <td>-0.177155</td>\n",
       "      <td>True</td>\n",
       "      <td>0.873924</td>\n",
       "      <td>False</td>\n",
       "      <td>3.790021</td>\n",
       "      <td>-0.700881</td>\n",
       "      <td>-0.017173</td>\n",
       "      <td>0.202079</td>\n",
       "      <td>0.384448</td>\n",
       "      <td>0</td>\n",
       "      <td>0</td>\n",
       "      <td>0</td>\n",
       "      <td>0</td>\n",
       "      <td>0</td>\n",
       "      <td>0</td>\n",
       "      <td>0</td>\n",
       "      <td>0</td>\n",
       "      <td>0</td>\n",
       "      <td>0</td>\n",
       "      <td>0</td>\n",
       "      <td>1</td>\n",
       "      <td>0</td>\n",
       "      <td>0</td>\n",
       "      <td>0</td>\n",
       "      <td>0</td>\n",
       "      <td>0</td>\n",
       "      <td>0</td>\n",
       "      <td>0</td>\n",
       "      <td>0</td>\n",
       "      <td>0</td>\n",
       "      <td>0</td>\n",
       "      <td>0</td>\n",
       "      <td>0</td>\n",
       "      <td>0</td>\n",
       "      <td>0</td>\n",
       "      <td>0</td>\n",
       "      <td>1</td>\n",
       "      <td>0</td>\n",
       "      <td>0</td>\n",
       "      <td>0</td>\n",
       "      <td>0</td>\n",
       "      <td>1</td>\n",
       "      <td>0</td>\n",
       "      <td>0</td>\n",
       "      <td>1</td>\n",
       "      <td>0</td>\n",
       "      <td>0</td>\n",
       "      <td>0</td>\n",
       "      <td>0</td>\n",
       "      <td>0</td>\n",
       "      <td>0</td>\n",
       "      <td>0</td>\n",
       "      <td>0</td>\n",
       "      <td>0</td>\n",
       "      <td>0</td>\n",
       "      <td>0</td>\n",
       "      <td>0</td>\n",
       "      <td>1</td>\n",
       "      <td>0</td>\n",
       "      <td>0</td>\n",
       "      <td>0</td>\n",
       "      <td>0</td>\n",
       "      <td>0</td>\n",
       "      <td>0</td>\n",
       "      <td>0</td>\n",
       "      <td>0</td>\n",
       "      <td>0</td>\n",
       "      <td>0</td>\n",
       "      <td>0</td>\n",
       "      <td>0</td>\n",
       "      <td>0</td>\n",
       "      <td>0</td>\n",
       "      <td>0</td>\n",
       "      <td>0</td>\n",
       "      <td>0</td>\n",
       "      <td>0</td>\n",
       "      <td>0</td>\n",
       "      <td>0</td>\n",
       "      <td>0</td>\n",
       "      <td>0</td>\n",
       "      <td>0</td>\n",
       "      <td>0</td>\n",
       "      <td>0</td>\n",
       "      <td>0</td>\n",
       "      <td>0</td>\n",
       "      <td>0</td>\n",
       "      <td>0</td>\n",
       "      <td>0</td>\n",
       "      <td>0</td>\n",
       "      <td>1</td>\n",
       "      <td>0</td>\n",
       "      <td>0</td>\n",
       "      <td>0</td>\n",
       "      <td>0</td>\n",
       "      <td>0</td>\n",
       "      <td>0</td>\n",
       "      <td>0</td>\n",
       "      <td>0</td>\n",
       "      <td>0</td>\n",
       "      <td>0</td>\n",
       "      <td>1</td>\n",
       "      <td>0</td>\n",
       "      <td>0</td>\n",
       "      <td>1</td>\n",
       "      <td>0</td>\n",
       "      <td>0</td>\n",
       "      <td>0</td>\n",
       "      <td>1</td>\n",
       "      <td>0</td>\n",
       "      <td>0</td>\n",
       "      <td>0</td>\n",
       "      <td>0</td>\n",
       "      <td>0</td>\n",
       "      <td>0</td>\n",
       "      <td>0</td>\n",
       "      <td>0</td>\n",
       "      <td>0</td>\n",
       "      <td>0</td>\n",
       "      <td>0</td>\n",
       "      <td>0</td>\n",
       "      <td>0</td>\n",
       "      <td>0</td>\n",
       "      <td>0</td>\n",
       "      <td>0</td>\n",
       "      <td>0</td>\n",
       "      <td>0</td>\n",
       "      <td>0</td>\n",
       "      <td>0</td>\n",
       "      <td>0</td>\n",
       "      <td>0</td>\n",
       "      <td>0</td>\n",
       "      <td>0</td>\n",
       "      <td>0</td>\n",
       "      <td>0</td>\n",
       "      <td>1</td>\n",
       "      <td>0</td>\n",
       "      <td>0</td>\n",
       "      <td>0</td>\n",
       "      <td>0</td>\n",
       "      <td>0</td>\n",
       "      <td>1</td>\n",
       "      <td>0</td>\n",
       "      <td>0</td>\n",
       "      <td>0</td>\n",
       "      <td>0</td>\n",
       "      <td>0</td>\n",
       "      <td>0</td>\n",
       "      <td>0</td>\n",
       "      <td>0</td>\n",
       "      <td>0</td>\n",
       "      <td>1</td>\n",
       "      <td>0</td>\n",
       "      <td>0</td>\n",
       "      <td>0</td>\n",
       "      <td>1</td>\n",
       "      <td>0</td>\n",
       "      <td>0</td>\n",
       "      <td>0</td>\n",
       "      <td>0</td>\n",
       "      <td>0</td>\n",
       "      <td>1</td>\n",
       "      <td>0</td>\n",
       "      <td>0</td>\n",
       "      <td>0</td>\n",
       "      <td>0</td>\n",
       "      <td>0</td>\n",
       "      <td>0</td>\n",
       "      <td>0</td>\n",
       "      <td>0</td>\n",
       "      <td>0</td>\n",
       "      <td>0</td>\n",
       "      <td>0</td>\n",
       "      <td>0</td>\n",
       "      <td>0</td>\n",
       "      <td>1</td>\n",
       "      <td>0</td>\n",
       "      <td>0</td>\n",
       "      <td>0</td>\n",
       "      <td>0</td>\n",
       "      <td>0</td>\n",
       "      <td>0</td>\n",
       "      <td>0</td>\n",
       "      <td>0</td>\n",
       "      <td>0</td>\n",
       "      <td>0</td>\n",
       "      <td>0</td>\n",
       "      <td>0</td>\n",
       "      <td>0</td>\n",
       "      <td>0</td>\n",
       "      <td>0</td>\n",
       "      <td>0</td>\n",
       "      <td>0</td>\n",
       "      <td>0</td>\n",
       "      <td>0</td>\n",
       "      <td>0</td>\n",
       "      <td>0</td>\n",
       "      <td>0</td>\n",
       "      <td>0</td>\n",
       "      <td>0</td>\n",
       "      <td>0</td>\n",
       "      <td>0</td>\n",
       "      <td>1</td>\n",
       "      <td>0</td>\n",
       "      <td>0</td>\n",
       "      <td>0</td>\n",
       "      <td>0</td>\n",
       "      <td>0</td>\n",
       "      <td>0</td>\n",
       "      <td>0</td>\n",
       "      <td>0</td>\n",
       "      <td>1</td>\n",
       "      <td>0</td>\n",
       "      <td>0</td>\n",
       "      <td>0</td>\n",
       "      <td>0</td>\n",
       "      <td>0</td>\n",
       "      <td>0</td>\n",
       "      <td>0</td>\n",
       "      <td>0</td>\n",
       "      <td>0</td>\n",
       "      <td>0</td>\n",
       "      <td>0</td>\n",
       "      <td>0</td>\n",
       "      <td>0</td>\n",
       "      <td>0</td>\n",
       "      <td>1</td>\n",
       "      <td>0</td>\n",
       "      <td>0</td>\n",
       "      <td>0</td>\n",
       "      <td>0</td>\n",
       "      <td>0</td>\n",
       "      <td>1</td>\n",
       "      <td>0</td>\n",
       "      <td>0</td>\n",
       "      <td>0</td>\n",
       "      <td>0</td>\n",
       "      <td>0</td>\n",
       "      <td>0</td>\n",
       "      <td>0</td>\n",
       "      <td>0</td>\n",
       "      <td>0</td>\n",
       "      <td>0</td>\n",
       "      <td>0</td>\n",
       "      <td>0</td>\n",
       "      <td>0</td>\n",
       "      <td>0</td>\n",
       "      <td>0</td>\n",
       "      <td>0</td>\n",
       "      <td>0</td>\n",
       "      <td>0</td>\n",
       "      <td>0</td>\n",
       "      <td>0</td>\n",
       "      <td>0</td>\n",
       "      <td>0</td>\n",
       "      <td>0</td>\n",
       "      <td>0</td>\n",
       "      <td>0</td>\n",
       "      <td>0</td>\n",
       "      <td>1</td>\n",
       "      <td>0</td>\n",
       "      <td>0</td>\n",
       "      <td>0</td>\n",
       "      <td>0</td>\n",
       "      <td>0</td>\n",
       "      <td>0</td>\n",
       "      <td>0</td>\n",
       "      <td>0</td>\n",
       "      <td>0</td>\n",
       "      <td>0</td>\n",
       "      <td>0</td>\n",
       "      <td>0</td>\n",
       "      <td>0</td>\n",
       "      <td>0</td>\n",
       "      <td>0</td>\n",
       "      <td>0</td>\n",
       "      <td>1</td>\n",
       "      <td>0</td>\n",
       "      <td>0</td>\n",
       "    </tr>\n",
       "    <tr>\n",
       "      <th>115997</th>\n",
       "      <td>168343</td>\n",
       "      <td>-0.409130</td>\n",
       "      <td>-0.195271</td>\n",
       "      <td>0.663967</td>\n",
       "      <td>False</td>\n",
       "      <td>-0.480420</td>\n",
       "      <td>0.957098</td>\n",
       "      <td>-0.261406</td>\n",
       "      <td>0.552493</td>\n",
       "      <td>-0.131338</td>\n",
       "      <td>-0.154303</td>\n",
       "      <td>-0.068712</td>\n",
       "      <td>-0.04367</td>\n",
       "      <td>-0.086687</td>\n",
       "      <td>-0.099570</td>\n",
       "      <td>-0.039113</td>\n",
       "      <td>1.190894</td>\n",
       "      <td>0.035433</td>\n",
       "      <td>1.897897</td>\n",
       "      <td>1.285379</td>\n",
       "      <td>-0.093020</td>\n",
       "      <td>True</td>\n",
       "      <td>-0.649024</td>\n",
       "      <td>False</td>\n",
       "      <td>0.192614</td>\n",
       "      <td>-0.700881</td>\n",
       "      <td>-0.034502</td>\n",
       "      <td>1.212433</td>\n",
       "      <td>0.384448</td>\n",
       "      <td>0</td>\n",
       "      <td>0</td>\n",
       "      <td>0</td>\n",
       "      <td>0</td>\n",
       "      <td>0</td>\n",
       "      <td>0</td>\n",
       "      <td>0</td>\n",
       "      <td>0</td>\n",
       "      <td>0</td>\n",
       "      <td>0</td>\n",
       "      <td>0</td>\n",
       "      <td>0</td>\n",
       "      <td>0</td>\n",
       "      <td>0</td>\n",
       "      <td>1</td>\n",
       "      <td>0</td>\n",
       "      <td>0</td>\n",
       "      <td>0</td>\n",
       "      <td>0</td>\n",
       "      <td>0</td>\n",
       "      <td>0</td>\n",
       "      <td>0</td>\n",
       "      <td>0</td>\n",
       "      <td>0</td>\n",
       "      <td>0</td>\n",
       "      <td>0</td>\n",
       "      <td>1</td>\n",
       "      <td>0</td>\n",
       "      <td>0</td>\n",
       "      <td>0</td>\n",
       "      <td>0</td>\n",
       "      <td>0</td>\n",
       "      <td>0</td>\n",
       "      <td>0</td>\n",
       "      <td>0</td>\n",
       "      <td>0</td>\n",
       "      <td>0</td>\n",
       "      <td>1</td>\n",
       "      <td>0</td>\n",
       "      <td>0</td>\n",
       "      <td>0</td>\n",
       "      <td>0</td>\n",
       "      <td>0</td>\n",
       "      <td>0</td>\n",
       "      <td>0</td>\n",
       "      <td>0</td>\n",
       "      <td>0</td>\n",
       "      <td>1</td>\n",
       "      <td>0</td>\n",
       "      <td>0</td>\n",
       "      <td>0</td>\n",
       "      <td>0</td>\n",
       "      <td>0</td>\n",
       "      <td>0</td>\n",
       "      <td>0</td>\n",
       "      <td>0</td>\n",
       "      <td>0</td>\n",
       "      <td>0</td>\n",
       "      <td>0</td>\n",
       "      <td>0</td>\n",
       "      <td>0</td>\n",
       "      <td>0</td>\n",
       "      <td>0</td>\n",
       "      <td>0</td>\n",
       "      <td>0</td>\n",
       "      <td>0</td>\n",
       "      <td>0</td>\n",
       "      <td>0</td>\n",
       "      <td>0</td>\n",
       "      <td>0</td>\n",
       "      <td>0</td>\n",
       "      <td>0</td>\n",
       "      <td>0</td>\n",
       "      <td>0</td>\n",
       "      <td>0</td>\n",
       "      <td>0</td>\n",
       "      <td>0</td>\n",
       "      <td>0</td>\n",
       "      <td>0</td>\n",
       "      <td>0</td>\n",
       "      <td>1</td>\n",
       "      <td>0</td>\n",
       "      <td>0</td>\n",
       "      <td>0</td>\n",
       "      <td>0</td>\n",
       "      <td>0</td>\n",
       "      <td>0</td>\n",
       "      <td>1</td>\n",
       "      <td>0</td>\n",
       "      <td>0</td>\n",
       "      <td>1</td>\n",
       "      <td>0</td>\n",
       "      <td>0</td>\n",
       "      <td>0</td>\n",
       "      <td>1</td>\n",
       "      <td>0</td>\n",
       "      <td>0</td>\n",
       "      <td>0</td>\n",
       "      <td>1</td>\n",
       "      <td>0</td>\n",
       "      <td>0</td>\n",
       "      <td>0</td>\n",
       "      <td>0</td>\n",
       "      <td>0</td>\n",
       "      <td>0</td>\n",
       "      <td>0</td>\n",
       "      <td>0</td>\n",
       "      <td>0</td>\n",
       "      <td>0</td>\n",
       "      <td>0</td>\n",
       "      <td>0</td>\n",
       "      <td>0</td>\n",
       "      <td>0</td>\n",
       "      <td>0</td>\n",
       "      <td>0</td>\n",
       "      <td>0</td>\n",
       "      <td>0</td>\n",
       "      <td>0</td>\n",
       "      <td>0</td>\n",
       "      <td>0</td>\n",
       "      <td>0</td>\n",
       "      <td>0</td>\n",
       "      <td>1</td>\n",
       "      <td>0</td>\n",
       "      <td>0</td>\n",
       "      <td>0</td>\n",
       "      <td>0</td>\n",
       "      <td>0</td>\n",
       "      <td>0</td>\n",
       "      <td>0</td>\n",
       "      <td>0</td>\n",
       "      <td>0</td>\n",
       "      <td>0</td>\n",
       "      <td>0</td>\n",
       "      <td>0</td>\n",
       "      <td>1</td>\n",
       "      <td>0</td>\n",
       "      <td>0</td>\n",
       "      <td>0</td>\n",
       "      <td>0</td>\n",
       "      <td>0</td>\n",
       "      <td>0</td>\n",
       "      <td>0</td>\n",
       "      <td>0</td>\n",
       "      <td>1</td>\n",
       "      <td>1</td>\n",
       "      <td>0</td>\n",
       "      <td>0</td>\n",
       "      <td>0</td>\n",
       "      <td>0</td>\n",
       "      <td>0</td>\n",
       "      <td>1</td>\n",
       "      <td>1</td>\n",
       "      <td>0</td>\n",
       "      <td>0</td>\n",
       "      <td>0</td>\n",
       "      <td>0</td>\n",
       "      <td>0</td>\n",
       "      <td>0</td>\n",
       "      <td>0</td>\n",
       "      <td>0</td>\n",
       "      <td>0</td>\n",
       "      <td>0</td>\n",
       "      <td>0</td>\n",
       "      <td>0</td>\n",
       "      <td>1</td>\n",
       "      <td>0</td>\n",
       "      <td>0</td>\n",
       "      <td>0</td>\n",
       "      <td>0</td>\n",
       "      <td>1</td>\n",
       "      <td>0</td>\n",
       "      <td>0</td>\n",
       "      <td>0</td>\n",
       "      <td>0</td>\n",
       "      <td>0</td>\n",
       "      <td>0</td>\n",
       "      <td>0</td>\n",
       "      <td>0</td>\n",
       "      <td>0</td>\n",
       "      <td>0</td>\n",
       "      <td>0</td>\n",
       "      <td>0</td>\n",
       "      <td>0</td>\n",
       "      <td>0</td>\n",
       "      <td>0</td>\n",
       "      <td>0</td>\n",
       "      <td>0</td>\n",
       "      <td>0</td>\n",
       "      <td>0</td>\n",
       "      <td>0</td>\n",
       "      <td>0</td>\n",
       "      <td>0</td>\n",
       "      <td>0</td>\n",
       "      <td>0</td>\n",
       "      <td>0</td>\n",
       "      <td>0</td>\n",
       "      <td>0</td>\n",
       "      <td>0</td>\n",
       "      <td>0</td>\n",
       "      <td>0</td>\n",
       "      <td>1</td>\n",
       "      <td>0</td>\n",
       "      <td>0</td>\n",
       "      <td>0</td>\n",
       "      <td>0</td>\n",
       "      <td>0</td>\n",
       "      <td>0</td>\n",
       "      <td>0</td>\n",
       "      <td>0</td>\n",
       "      <td>0</td>\n",
       "      <td>0</td>\n",
       "      <td>0</td>\n",
       "      <td>0</td>\n",
       "      <td>0</td>\n",
       "      <td>0</td>\n",
       "      <td>1</td>\n",
       "      <td>0</td>\n",
       "      <td>0</td>\n",
       "      <td>0</td>\n",
       "      <td>0</td>\n",
       "      <td>0</td>\n",
       "      <td>1</td>\n",
       "      <td>0</td>\n",
       "      <td>0</td>\n",
       "      <td>0</td>\n",
       "      <td>0</td>\n",
       "      <td>0</td>\n",
       "      <td>0</td>\n",
       "      <td>0</td>\n",
       "      <td>0</td>\n",
       "      <td>0</td>\n",
       "      <td>0</td>\n",
       "      <td>0</td>\n",
       "      <td>0</td>\n",
       "      <td>0</td>\n",
       "      <td>0</td>\n",
       "      <td>0</td>\n",
       "      <td>0</td>\n",
       "      <td>0</td>\n",
       "      <td>0</td>\n",
       "      <td>1</td>\n",
       "      <td>0</td>\n",
       "      <td>0</td>\n",
       "      <td>0</td>\n",
       "      <td>0</td>\n",
       "      <td>0</td>\n",
       "      <td>0</td>\n",
       "      <td>0</td>\n",
       "      <td>0</td>\n",
       "      <td>0</td>\n",
       "      <td>0</td>\n",
       "      <td>0</td>\n",
       "      <td>0</td>\n",
       "      <td>0</td>\n",
       "      <td>0</td>\n",
       "      <td>0</td>\n",
       "      <td>0</td>\n",
       "      <td>0</td>\n",
       "      <td>0</td>\n",
       "      <td>0</td>\n",
       "      <td>0</td>\n",
       "      <td>0</td>\n",
       "      <td>0</td>\n",
       "      <td>0</td>\n",
       "      <td>0</td>\n",
       "      <td>0</td>\n",
       "      <td>0</td>\n",
       "      <td>1</td>\n",
       "    </tr>\n",
       "    <tr>\n",
       "      <th>115998</th>\n",
       "      <td>168344</td>\n",
       "      <td>1.451299</td>\n",
       "      <td>-0.195271</td>\n",
       "      <td>-0.726139</td>\n",
       "      <td>True</td>\n",
       "      <td>0.223725</td>\n",
       "      <td>-0.622910</td>\n",
       "      <td>-0.299314</td>\n",
       "      <td>-0.074928</td>\n",
       "      <td>-0.131338</td>\n",
       "      <td>-0.154303</td>\n",
       "      <td>-0.068712</td>\n",
       "      <td>-0.04367</td>\n",
       "      <td>-0.086687</td>\n",
       "      <td>-0.099570</td>\n",
       "      <td>-0.235456</td>\n",
       "      <td>-0.009239</td>\n",
       "      <td>-0.006232</td>\n",
       "      <td>1.897897</td>\n",
       "      <td>1.000911</td>\n",
       "      <td>-0.169363</td>\n",
       "      <td>True</td>\n",
       "      <td>1.079992</td>\n",
       "      <td>False</td>\n",
       "      <td>1.107823</td>\n",
       "      <td>-0.700881</td>\n",
       "      <td>-0.594793</td>\n",
       "      <td>-0.363475</td>\n",
       "      <td>0.384448</td>\n",
       "      <td>0</td>\n",
       "      <td>0</td>\n",
       "      <td>0</td>\n",
       "      <td>0</td>\n",
       "      <td>0</td>\n",
       "      <td>0</td>\n",
       "      <td>0</td>\n",
       "      <td>0</td>\n",
       "      <td>0</td>\n",
       "      <td>0</td>\n",
       "      <td>0</td>\n",
       "      <td>0</td>\n",
       "      <td>0</td>\n",
       "      <td>0</td>\n",
       "      <td>0</td>\n",
       "      <td>0</td>\n",
       "      <td>0</td>\n",
       "      <td>0</td>\n",
       "      <td>0</td>\n",
       "      <td>0</td>\n",
       "      <td>1</td>\n",
       "      <td>0</td>\n",
       "      <td>0</td>\n",
       "      <td>0</td>\n",
       "      <td>1</td>\n",
       "      <td>0</td>\n",
       "      <td>0</td>\n",
       "      <td>0</td>\n",
       "      <td>0</td>\n",
       "      <td>0</td>\n",
       "      <td>0</td>\n",
       "      <td>0</td>\n",
       "      <td>0</td>\n",
       "      <td>0</td>\n",
       "      <td>1</td>\n",
       "      <td>0</td>\n",
       "      <td>0</td>\n",
       "      <td>0</td>\n",
       "      <td>0</td>\n",
       "      <td>0</td>\n",
       "      <td>0</td>\n",
       "      <td>0</td>\n",
       "      <td>0</td>\n",
       "      <td>0</td>\n",
       "      <td>0</td>\n",
       "      <td>1</td>\n",
       "      <td>0</td>\n",
       "      <td>0</td>\n",
       "      <td>0</td>\n",
       "      <td>0</td>\n",
       "      <td>0</td>\n",
       "      <td>0</td>\n",
       "      <td>0</td>\n",
       "      <td>0</td>\n",
       "      <td>0</td>\n",
       "      <td>0</td>\n",
       "      <td>0</td>\n",
       "      <td>0</td>\n",
       "      <td>0</td>\n",
       "      <td>0</td>\n",
       "      <td>0</td>\n",
       "      <td>0</td>\n",
       "      <td>0</td>\n",
       "      <td>0</td>\n",
       "      <td>0</td>\n",
       "      <td>0</td>\n",
       "      <td>0</td>\n",
       "      <td>0</td>\n",
       "      <td>0</td>\n",
       "      <td>0</td>\n",
       "      <td>0</td>\n",
       "      <td>0</td>\n",
       "      <td>0</td>\n",
       "      <td>0</td>\n",
       "      <td>0</td>\n",
       "      <td>0</td>\n",
       "      <td>0</td>\n",
       "      <td>0</td>\n",
       "      <td>0</td>\n",
       "      <td>0</td>\n",
       "      <td>1</td>\n",
       "      <td>0</td>\n",
       "      <td>0</td>\n",
       "      <td>0</td>\n",
       "      <td>0</td>\n",
       "      <td>0</td>\n",
       "      <td>1</td>\n",
       "      <td>0</td>\n",
       "      <td>0</td>\n",
       "      <td>0</td>\n",
       "      <td>1</td>\n",
       "      <td>0</td>\n",
       "      <td>0</td>\n",
       "      <td>0</td>\n",
       "      <td>0</td>\n",
       "      <td>0</td>\n",
       "      <td>0</td>\n",
       "      <td>0</td>\n",
       "      <td>1</td>\n",
       "      <td>0</td>\n",
       "      <td>0</td>\n",
       "      <td>0</td>\n",
       "      <td>0</td>\n",
       "      <td>0</td>\n",
       "      <td>0</td>\n",
       "      <td>0</td>\n",
       "      <td>0</td>\n",
       "      <td>1</td>\n",
       "      <td>0</td>\n",
       "      <td>0</td>\n",
       "      <td>0</td>\n",
       "      <td>0</td>\n",
       "      <td>0</td>\n",
       "      <td>0</td>\n",
       "      <td>0</td>\n",
       "      <td>0</td>\n",
       "      <td>0</td>\n",
       "      <td>0</td>\n",
       "      <td>0</td>\n",
       "      <td>0</td>\n",
       "      <td>0</td>\n",
       "      <td>0</td>\n",
       "      <td>0</td>\n",
       "      <td>0</td>\n",
       "      <td>0</td>\n",
       "      <td>0</td>\n",
       "      <td>0</td>\n",
       "      <td>0</td>\n",
       "      <td>1</td>\n",
       "      <td>0</td>\n",
       "      <td>0</td>\n",
       "      <td>0</td>\n",
       "      <td>0</td>\n",
       "      <td>0</td>\n",
       "      <td>0</td>\n",
       "      <td>0</td>\n",
       "      <td>0</td>\n",
       "      <td>0</td>\n",
       "      <td>0</td>\n",
       "      <td>0</td>\n",
       "      <td>1</td>\n",
       "      <td>0</td>\n",
       "      <td>0</td>\n",
       "      <td>0</td>\n",
       "      <td>0</td>\n",
       "      <td>1</td>\n",
       "      <td>0</td>\n",
       "      <td>0</td>\n",
       "      <td>0</td>\n",
       "      <td>0</td>\n",
       "      <td>0</td>\n",
       "      <td>1</td>\n",
       "      <td>0</td>\n",
       "      <td>0</td>\n",
       "      <td>0</td>\n",
       "      <td>0</td>\n",
       "      <td>0</td>\n",
       "      <td>0</td>\n",
       "      <td>0</td>\n",
       "      <td>0</td>\n",
       "      <td>0</td>\n",
       "      <td>0</td>\n",
       "      <td>0</td>\n",
       "      <td>0</td>\n",
       "      <td>0</td>\n",
       "      <td>1</td>\n",
       "      <td>0</td>\n",
       "      <td>0</td>\n",
       "      <td>0</td>\n",
       "      <td>0</td>\n",
       "      <td>0</td>\n",
       "      <td>0</td>\n",
       "      <td>0</td>\n",
       "      <td>0</td>\n",
       "      <td>0</td>\n",
       "      <td>0</td>\n",
       "      <td>0</td>\n",
       "      <td>0</td>\n",
       "      <td>0</td>\n",
       "      <td>1</td>\n",
       "      <td>0</td>\n",
       "      <td>0</td>\n",
       "      <td>0</td>\n",
       "      <td>0</td>\n",
       "      <td>0</td>\n",
       "      <td>0</td>\n",
       "      <td>0</td>\n",
       "      <td>0</td>\n",
       "      <td>0</td>\n",
       "      <td>0</td>\n",
       "      <td>0</td>\n",
       "      <td>0</td>\n",
       "      <td>0</td>\n",
       "      <td>0</td>\n",
       "      <td>0</td>\n",
       "      <td>0</td>\n",
       "      <td>0</td>\n",
       "      <td>0</td>\n",
       "      <td>0</td>\n",
       "      <td>0</td>\n",
       "      <td>0</td>\n",
       "      <td>0</td>\n",
       "      <td>0</td>\n",
       "      <td>0</td>\n",
       "      <td>0</td>\n",
       "      <td>1</td>\n",
       "      <td>0</td>\n",
       "      <td>0</td>\n",
       "      <td>0</td>\n",
       "      <td>0</td>\n",
       "      <td>0</td>\n",
       "      <td>0</td>\n",
       "      <td>0</td>\n",
       "      <td>0</td>\n",
       "      <td>0</td>\n",
       "      <td>1</td>\n",
       "      <td>0</td>\n",
       "      <td>0</td>\n",
       "      <td>0</td>\n",
       "      <td>0</td>\n",
       "      <td>0</td>\n",
       "      <td>0</td>\n",
       "      <td>0</td>\n",
       "      <td>0</td>\n",
       "      <td>0</td>\n",
       "      <td>0</td>\n",
       "      <td>0</td>\n",
       "      <td>0</td>\n",
       "      <td>1</td>\n",
       "      <td>0</td>\n",
       "      <td>0</td>\n",
       "      <td>0</td>\n",
       "      <td>0</td>\n",
       "      <td>0</td>\n",
       "      <td>0</td>\n",
       "      <td>0</td>\n",
       "      <td>0</td>\n",
       "      <td>0</td>\n",
       "      <td>0</td>\n",
       "      <td>0</td>\n",
       "      <td>0</td>\n",
       "      <td>0</td>\n",
       "      <td>0</td>\n",
       "      <td>0</td>\n",
       "      <td>0</td>\n",
       "      <td>0</td>\n",
       "      <td>0</td>\n",
       "      <td>0</td>\n",
       "      <td>1</td>\n",
       "      <td>0</td>\n",
       "      <td>0</td>\n",
       "      <td>0</td>\n",
       "      <td>0</td>\n",
       "      <td>0</td>\n",
       "      <td>0</td>\n",
       "      <td>0</td>\n",
       "      <td>0</td>\n",
       "      <td>0</td>\n",
       "      <td>0</td>\n",
       "      <td>0</td>\n",
       "      <td>0</td>\n",
       "      <td>0</td>\n",
       "      <td>0</td>\n",
       "      <td>1</td>\n",
       "      <td>0</td>\n",
       "      <td>0</td>\n",
       "      <td>0</td>\n",
       "      <td>0</td>\n",
       "      <td>0</td>\n",
       "    </tr>\n",
       "  </tbody>\n",
       "</table>\n",
       "<p>115999 rows × 298 columns</p>\n",
       "</div>"
      ],
      "text/plain": [
       "        Unnamed: 0  BidsPortfolioManager   BidsApi  BidsManual  \\\n",
       "0                0              1.234129  3.440284    6.962269   \n",
       "1                1              0.086743 -0.195271   -0.218849   \n",
       "2                2             -0.336739 -0.195271   -0.726139   \n",
       "3                3              2.957016 -0.195271    1.671959   \n",
       "4                4             -0.391032 -0.195271   -0.627317   \n",
       "...            ...                   ...       ...         ...   \n",
       "115994      168340              0.061407  4.373302    1.118552   \n",
       "115995      168341              0.727397 -0.195271   -0.726139   \n",
       "115996      168342              3.778645  0.255152    0.795731   \n",
       "115997      168343             -0.409130 -0.195271    0.663967   \n",
       "115998      168344              1.451299 -0.195271   -0.726139   \n",
       "\n",
       "        NewCreditCustomer    Amount  Interest  MonthlyPayment  \\\n",
       "0                    True  3.058898 -0.915776        1.260881   \n",
       "1                    True -0.473449  0.068919       -0.517738   \n",
       "2                    True -0.924288 -0.473345       -0.922056   \n",
       "3                   False  2.036377 -0.622541        0.771293   \n",
       "4                   False -0.924288  0.452777       -0.846501   \n",
       "...                   ...       ...       ...             ...   \n",
       "115994              False  0.312034  0.173172        0.123481   \n",
       "115995               True -0.241057 -0.174584       -0.408612   \n",
       "115996              False  2.287359 -0.516078        0.947125   \n",
       "115997              False -0.480420  0.957098       -0.261406   \n",
       "115998               True  0.223725 -0.622910       -0.299314   \n",
       "\n",
       "        IncomeFromPrincipalEmployer  IncomeFromPension  \\\n",
       "0                          0.055785          -0.131338   \n",
       "1                          0.193295          -0.131338   \n",
       "2                          0.073039          -0.131338   \n",
       "3                          0.177609          -0.131338   \n",
       "4                          0.264925          -0.131338   \n",
       "...                             ...                ...   \n",
       "115994                     0.498117          -0.131338   \n",
       "115995                     0.526350          -0.131338   \n",
       "115996                     0.877706          -0.131338   \n",
       "115997                     0.552493          -0.131338   \n",
       "115998                    -0.074928          -0.131338   \n",
       "\n",
       "        IncomeFromFamilyAllowance  IncomeFromSocialWelfare  \\\n",
       "0                       -0.154303                -0.068712   \n",
       "1                       -0.154303                -0.068712   \n",
       "2                       -0.154303                -0.068712   \n",
       "3                       -0.154303                -0.068712   \n",
       "4                       -0.154303                -0.068712   \n",
       "...                           ...                      ...   \n",
       "115994                  -0.154303                -0.068712   \n",
       "115995                  -0.154303                -0.068712   \n",
       "115996                  -0.154303                -0.068712   \n",
       "115997                  -0.154303                -0.068712   \n",
       "115998                  -0.154303                -0.068712   \n",
       "\n",
       "        IncomeFromLeavePay  IncomeFromChildSupport  IncomeOther  IncomeTotal  \\\n",
       "0                 -0.04367               -0.086687     1.117390    -0.096380   \n",
       "1                 -0.04367               -0.086687    -0.099570    -0.151520   \n",
       "2                 -0.04367               -0.086687    -0.099570    -0.189152   \n",
       "3                 -0.04367               -0.086687    -0.099570    -0.156428   \n",
       "4                 -0.04367               -0.086687    -0.099570    -0.129104   \n",
       "...                    ...                     ...          ...          ...   \n",
       "115994            -0.04367               -0.086687    -0.099570    -0.056130   \n",
       "115995            -0.04367               -0.086687     1.523043     0.083601   \n",
       "115996            -0.04367               -0.086687    -0.099570     0.062658   \n",
       "115997            -0.04367               -0.086687    -0.099570    -0.039113   \n",
       "115998            -0.04367               -0.086687    -0.099570    -0.235456   \n",
       "\n",
       "        ExistingLiabilities  LiabilitiesTotal  RefinanceLiabilities  \\\n",
       "0                  1.190894          0.008754              2.957238   \n",
       "1                 -0.609306         -0.006479             -0.220783   \n",
       "2                  1.190894          0.002194              0.838557   \n",
       "3                  2.090994          0.004609              4.016578   \n",
       "4                  1.790961          0.014033              1.897897   \n",
       "...                     ...               ...                   ...   \n",
       "115994             0.590827          0.017235             -0.220783   \n",
       "115995            -0.009239          0.006696             -0.220783   \n",
       "115996             4.791293          0.052207              4.016578   \n",
       "115997             1.190894          0.035433              1.897897   \n",
       "115998            -0.009239         -0.006232              1.897897   \n",
       "\n",
       "        DebtToIncome  FreeCash  ActiveScheduleFirstPaymentReached  \\\n",
       "0           1.081847  0.286483                               True   \n",
       "1          -0.069710  0.421347                               True   \n",
       "2           1.296686 -0.129203                               True   \n",
       "3           2.214956  0.087558                               True   \n",
       "4           2.997539 -0.102282                               True   \n",
       "...              ...       ...                                ...   \n",
       "115994      3.272484 -0.057120                               True   \n",
       "115995      0.051695  1.694517                               True   \n",
       "115996      3.644434 -0.177155                               True   \n",
       "115997      1.285379 -0.093020                               True   \n",
       "115998      1.000911 -0.169363                               True   \n",
       "\n",
       "        PlannedInterestTillDate  Restructured  PrincipalPaymentsMade  \\\n",
       "0                      4.828582         False               3.244520   \n",
       "1                      0.158207         False              -0.423730   \n",
       "2                     -0.683671         False              -0.384300   \n",
       "3                     -0.761279         False               3.463808   \n",
       "4                     -0.437880         False              -0.384300   \n",
       "...                         ...           ...                    ...   \n",
       "115994                 0.064683          True               0.866969   \n",
       "115995                 0.465469         False              -0.704473   \n",
       "115996                 0.873924         False               3.790021   \n",
       "115997                -0.649024         False               0.192614   \n",
       "115998                 1.079992         False               1.107823   \n",
       "\n",
       "        PrincipalBalance  AmountOfPreviousLoansBeforeLoan  \\\n",
       "0              -0.700881                        -0.594793   \n",
       "1              -0.148967                        -0.594793   \n",
       "2              -0.700881                        -0.594793   \n",
       "3              -0.700881                        -0.248221   \n",
       "4              -0.700881                        -0.456165   \n",
       "...                  ...                              ...   \n",
       "115994         -0.700881                        -0.225530   \n",
       "115995          0.365341                        -0.594793   \n",
       "115996         -0.700881                        -0.017173   \n",
       "115997         -0.700881                        -0.034502   \n",
       "115998         -0.700881                        -0.594793   \n",
       "\n",
       "        PreviousRepaymentsBeforeLoan  NrOfScheduledPayments  IsDefault  \\\n",
       "0                          -0.363475               0.384448          1   \n",
       "1                          -0.363475               0.384448          1   \n",
       "2                          -0.363475               0.384448          0   \n",
       "3                           0.598668               0.384448          0   \n",
       "4                          -0.166267               0.384448          1   \n",
       "...                              ...                    ...        ...   \n",
       "115994                      0.826894               0.384448          1   \n",
       "115995                     -0.363475               0.384448          1   \n",
       "115996                      0.202079               0.384448          0   \n",
       "115997                      1.212433               0.384448          0   \n",
       "115998                     -0.363475               0.384448          0   \n",
       "\n",
       "        ApplicationSignedHour_1  ApplicationSignedHour_2  \\\n",
       "0                             0                        0   \n",
       "1                             0                        0   \n",
       "2                             0                        0   \n",
       "3                             0                        0   \n",
       "4                             0                        0   \n",
       "...                         ...                      ...   \n",
       "115994                        0                        0   \n",
       "115995                        0                        0   \n",
       "115996                        0                        0   \n",
       "115997                        0                        0   \n",
       "115998                        0                        0   \n",
       "\n",
       "        ApplicationSignedHour_3  ApplicationSignedHour_4  \\\n",
       "0                             0                        0   \n",
       "1                             0                        0   \n",
       "2                             0                        0   \n",
       "3                             0                        0   \n",
       "4                             0                        0   \n",
       "...                         ...                      ...   \n",
       "115994                        0                        0   \n",
       "115995                        0                        0   \n",
       "115996                        0                        0   \n",
       "115997                        0                        0   \n",
       "115998                        0                        0   \n",
       "\n",
       "        ApplicationSignedHour_5  ApplicationSignedHour_6  \\\n",
       "0                             0                        0   \n",
       "1                             0                        0   \n",
       "2                             0                        0   \n",
       "3                             0                        0   \n",
       "4                             0                        0   \n",
       "...                         ...                      ...   \n",
       "115994                        0                        0   \n",
       "115995                        0                        0   \n",
       "115996                        0                        0   \n",
       "115997                        0                        0   \n",
       "115998                        0                        0   \n",
       "\n",
       "        ApplicationSignedHour_7  ApplicationSignedHour_8  \\\n",
       "0                             0                        0   \n",
       "1                             0                        0   \n",
       "2                             0                        0   \n",
       "3                             0                        0   \n",
       "4                             0                        0   \n",
       "...                         ...                      ...   \n",
       "115994                        0                        0   \n",
       "115995                        1                        0   \n",
       "115996                        0                        0   \n",
       "115997                        0                        0   \n",
       "115998                        0                        0   \n",
       "\n",
       "        ApplicationSignedHour_9  ApplicationSignedHour_10  \\\n",
       "0                             0                         0   \n",
       "1                             0                         0   \n",
       "2                             0                         0   \n",
       "3                             0                         0   \n",
       "4                             0                         0   \n",
       "...                         ...                       ...   \n",
       "115994                        0                         0   \n",
       "115995                        0                         0   \n",
       "115996                        0                         0   \n",
       "115997                        0                         0   \n",
       "115998                        0                         0   \n",
       "\n",
       "        ApplicationSignedHour_11  ApplicationSignedHour_12  \\\n",
       "0                              0                         0   \n",
       "1                              0                         0   \n",
       "2                              0                         0   \n",
       "3                              0                         0   \n",
       "4                              0                         1   \n",
       "...                          ...                       ...   \n",
       "115994                         0                         0   \n",
       "115995                         0                         0   \n",
       "115996                         1                         0   \n",
       "115997                         0                         0   \n",
       "115998                         0                         0   \n",
       "\n",
       "        ApplicationSignedHour_13  ApplicationSignedHour_14  \\\n",
       "0                              0                         0   \n",
       "1                              0                         0   \n",
       "2                              0                         1   \n",
       "3                              0                         0   \n",
       "4                              0                         0   \n",
       "...                          ...                       ...   \n",
       "115994                         0                         0   \n",
       "115995                         0                         0   \n",
       "115996                         0                         0   \n",
       "115997                         0                         1   \n",
       "115998                         0                         0   \n",
       "\n",
       "        ApplicationSignedHour_15  ApplicationSignedHour_16  \\\n",
       "0                              0                         0   \n",
       "1                              1                         0   \n",
       "2                              0                         0   \n",
       "3                              1                         0   \n",
       "4                              0                         0   \n",
       "...                          ...                       ...   \n",
       "115994                         0                         1   \n",
       "115995                         0                         0   \n",
       "115996                         0                         0   \n",
       "115997                         0                         0   \n",
       "115998                         0                         0   \n",
       "\n",
       "        ApplicationSignedHour_17  ApplicationSignedHour_18  \\\n",
       "0                              0                         0   \n",
       "1                              0                         0   \n",
       "2                              0                         0   \n",
       "3                              0                         0   \n",
       "4                              0                         0   \n",
       "...                          ...                       ...   \n",
       "115994                         0                         0   \n",
       "115995                         0                         0   \n",
       "115996                         0                         0   \n",
       "115997                         0                         0   \n",
       "115998                         0                         0   \n",
       "\n",
       "        ApplicationSignedHour_19  ApplicationSignedHour_20  \\\n",
       "0                              0                         0   \n",
       "1                              0                         0   \n",
       "2                              0                         0   \n",
       "3                              0                         0   \n",
       "4                              0                         0   \n",
       "...                          ...                       ...   \n",
       "115994                         0                         0   \n",
       "115995                         0                         0   \n",
       "115996                         0                         0   \n",
       "115997                         0                         0   \n",
       "115998                         0                         1   \n",
       "\n",
       "        ApplicationSignedHour_21  ApplicationSignedHour_22  \\\n",
       "0                              0                         1   \n",
       "1                              0                         0   \n",
       "2                              0                         0   \n",
       "3                              0                         0   \n",
       "4                              0                         0   \n",
       "...                          ...                       ...   \n",
       "115994                         0                         0   \n",
       "115995                         0                         0   \n",
       "115996                         0                         0   \n",
       "115997                         0                         0   \n",
       "115998                         0                         0   \n",
       "\n",
       "        ApplicationSignedHour_23  ApplicationSignedWeekday_2  \\\n",
       "0                              0                           0   \n",
       "1                              0                           0   \n",
       "2                              0                           1   \n",
       "3                              0                           0   \n",
       "4                              0                           0   \n",
       "...                          ...                         ...   \n",
       "115994                         0                           0   \n",
       "115995                         0                           1   \n",
       "115996                         0                           0   \n",
       "115997                         0                           0   \n",
       "115998                         0                           1   \n",
       "\n",
       "        ApplicationSignedWeekday_3  ApplicationSignedWeekday_4  \\\n",
       "0                                1                           0   \n",
       "1                                1                           0   \n",
       "2                                0                           0   \n",
       "3                                1                           0   \n",
       "4                                0                           0   \n",
       "...                            ...                         ...   \n",
       "115994                           0                           0   \n",
       "115995                           0                           0   \n",
       "115996                           0                           0   \n",
       "115997                           0                           1   \n",
       "115998                           0                           0   \n",
       "\n",
       "        ApplicationSignedWeekday_5  ApplicationSignedWeekday_6  \\\n",
       "0                                0                           0   \n",
       "1                                0                           0   \n",
       "2                                0                           0   \n",
       "3                                0                           0   \n",
       "4                                0                           0   \n",
       "...                            ...                         ...   \n",
       "115994                           0                           1   \n",
       "115995                           0                           0   \n",
       "115996                           1                           0   \n",
       "115997                           0                           0   \n",
       "115998                           0                           0   \n",
       "\n",
       "        ApplicationSignedWeekday_7  VerificationType_20  VerificationType_30  \\\n",
       "0                                0                    0                    0   \n",
       "1                                0                    0                    1   \n",
       "2                                0                    0                    0   \n",
       "3                                0                    0                    0   \n",
       "4                                1                    0                    0   \n",
       "...                            ...                  ...                  ...   \n",
       "115994                           0                    0                    1   \n",
       "115995                           0                    0                    0   \n",
       "115996                           0                    0                    0   \n",
       "115997                           0                    0                    0   \n",
       "115998                           0                    0                    0   \n",
       "\n",
       "        VerificationType_40  LanguageCode_2  LanguageCode_3  LanguageCode_4  \\\n",
       "0                         1               0               0               0   \n",
       "1                         0               0               0               0   \n",
       "2                         1               0               0               0   \n",
       "3                         1               0               0               0   \n",
       "4                         0               0               0               0   \n",
       "...                     ...             ...             ...             ...   \n",
       "115994                    0               0               0               0   \n",
       "115995                    0               0               0               1   \n",
       "115996                    1               0               0               1   \n",
       "115997                    0               0               0               0   \n",
       "115998                    0               0               1               0   \n",
       "\n",
       "        LanguageCode_5  LanguageCode_6  LanguageCode_7  LanguageCode_9  \\\n",
       "0                    0               0               0               0   \n",
       "1                    0               1               0               0   \n",
       "2                    0               0               0               0   \n",
       "3                    0               0               0               0   \n",
       "4                    0               1               0               0   \n",
       "...                ...             ...             ...             ...   \n",
       "115994               0               0               0               0   \n",
       "115995               0               0               0               0   \n",
       "115996               0               0               0               0   \n",
       "115997               0               1               0               0   \n",
       "115998               0               0               0               0   \n",
       "\n",
       "        LanguageCode_10  LanguageCode_13  LanguageCode_15  LanguageCode_21  \\\n",
       "0                     0                0                0                0   \n",
       "1                     0                0                0                0   \n",
       "2                     0                0                0                0   \n",
       "3                     0                0                0                0   \n",
       "4                     0                0                0                0   \n",
       "...                 ...              ...              ...              ...   \n",
       "115994                0                0                0                0   \n",
       "115995                0                0                0                0   \n",
       "115996                0                0                0                0   \n",
       "115997                0                0                0                0   \n",
       "115998                0                0                0                0   \n",
       "\n",
       "        LanguageCode_22  Gender_10  Gender_20  Country_ES  Country_FI  \\\n",
       "0                     0          0          0           0           0   \n",
       "1                     0          0          0           1           0   \n",
       "2                     0          1          0           0           0   \n",
       "3                     0          0          0           0           0   \n",
       "4                     0          1          0           1           0   \n",
       "...                 ...        ...        ...         ...         ...   \n",
       "115994                0          1          0           0           0   \n",
       "115995                0          1          0           0           1   \n",
       "115996                0          0          0           0           1   \n",
       "115997                0          0          0           1           0   \n",
       "115998                0          1          0           0           0   \n",
       "\n",
       "        Country_SK  LoanDuration_2  LoanDuration_3  LoanDuration_4  \\\n",
       "0                0               0               0               0   \n",
       "1                0               0               0               0   \n",
       "2                0               0               0               0   \n",
       "3                0               0               0               0   \n",
       "4                0               0               0               0   \n",
       "...            ...             ...             ...             ...   \n",
       "115994           0               0               0               0   \n",
       "115995           0               0               0               0   \n",
       "115996           0               0               0               0   \n",
       "115997           0               0               0               0   \n",
       "115998           0               0               0               0   \n",
       "\n",
       "        LoanDuration_5  LoanDuration_6  LoanDuration_7  LoanDuration_8  \\\n",
       "0                    0               0               0               0   \n",
       "1                    0               0               0               0   \n",
       "2                    0               0               0               0   \n",
       "3                    0               0               0               0   \n",
       "4                    0               0               0               0   \n",
       "...                ...             ...             ...             ...   \n",
       "115994               0               0               0               0   \n",
       "115995               0               0               0               0   \n",
       "115996               0               0               0               0   \n",
       "115997               0               0               0               0   \n",
       "115998               0               0               0               0   \n",
       "\n",
       "        LoanDuration_9  LoanDuration_10  LoanDuration_11  LoanDuration_12  \\\n",
       "0                    0                0                0                0   \n",
       "1                    0                0                0                0   \n",
       "2                    0                0                0                0   \n",
       "3                    0                0                0                0   \n",
       "4                    0                0                0                0   \n",
       "...                ...              ...              ...              ...   \n",
       "115994               0                0                0                0   \n",
       "115995               0                0                0                0   \n",
       "115996               0                0                0                0   \n",
       "115997               0                0                0                0   \n",
       "115998               0                0                0                0   \n",
       "\n",
       "        LoanDuration_13  LoanDuration_14  LoanDuration_15  LoanDuration_16  \\\n",
       "0                     0                0                0                0   \n",
       "1                     0                0                0                0   \n",
       "2                     0                0                0                0   \n",
       "3                     0                0                0                0   \n",
       "4                     0                0                0                0   \n",
       "...                 ...              ...              ...              ...   \n",
       "115994                0                0                0                0   \n",
       "115995                0                0                0                0   \n",
       "115996                0                0                0                0   \n",
       "115997                0                0                0                0   \n",
       "115998                0                0                0                0   \n",
       "\n",
       "        LoanDuration_17  LoanDuration_18  LoanDuration_19  LoanDuration_20  \\\n",
       "0                     0                0                0                0   \n",
       "1                     0                0                0                0   \n",
       "2                     0                0                0                0   \n",
       "3                     0                0                0                0   \n",
       "4                     0                0                0                0   \n",
       "...                 ...              ...              ...              ...   \n",
       "115994                0                0                0                0   \n",
       "115995                0                0                0                0   \n",
       "115996                0                0                0                0   \n",
       "115997                0                0                0                0   \n",
       "115998                0                0                0                0   \n",
       "\n",
       "        LoanDuration_21  LoanDuration_22  LoanDuration_24  LoanDuration_27  \\\n",
       "0                     0                0                0                0   \n",
       "1                     0                0                0                0   \n",
       "2                     0                0                0                0   \n",
       "3                     0                0                0                0   \n",
       "4                     0                0                0                0   \n",
       "...                 ...              ...              ...              ...   \n",
       "115994                0                0                0                0   \n",
       "115995                0                0                0                0   \n",
       "115996                0                0                0                0   \n",
       "115997                0                0                0                0   \n",
       "115998                0                0                0                0   \n",
       "\n",
       "        LoanDuration_30  LoanDuration_36  LoanDuration_38  LoanDuration_42  \\\n",
       "0                     0                0                0                0   \n",
       "1                     0                0                0                0   \n",
       "2                     0                0                0                0   \n",
       "3                     0                0                0                0   \n",
       "4                     0                0                0                0   \n",
       "...                 ...              ...              ...              ...   \n",
       "115994                0                0                0                0   \n",
       "115995                0                0                0                0   \n",
       "115996                0                0                0                0   \n",
       "115997                0                0                0                0   \n",
       "115998                0                0                0                0   \n",
       "\n",
       "        LoanDuration_48  LoanDuration_52  LoanDuration_54  LoanDuration_60  \\\n",
       "0                     0                0                0                1   \n",
       "1                     0                0                0                1   \n",
       "2                     0                0                0                1   \n",
       "3                     0                0                0                1   \n",
       "4                     0                0                0                1   \n",
       "...                 ...              ...              ...              ...   \n",
       "115994                0                0                0                1   \n",
       "115995                0                0                0                1   \n",
       "115996                0                0                0                1   \n",
       "115997                0                0                0                1   \n",
       "115998                0                0                0                1   \n",
       "\n",
       "        UseOfLoan_1  UseOfLoan_2  UseOfLoan_3  UseOfLoan_4  UseOfLoan_5  \\\n",
       "0                 0            0            1            0            0   \n",
       "1                 0            1            0            0            0   \n",
       "2                 0            1            0            0            0   \n",
       "3                 0            0            0            0            0   \n",
       "4                 0            0            0            0            0   \n",
       "...             ...          ...          ...          ...          ...   \n",
       "115994            0            0            0            0            0   \n",
       "115995            0            0            0            0            0   \n",
       "115996            0            0            0            0            0   \n",
       "115997            0            0            0            0            0   \n",
       "115998            0            0            0            0            0   \n",
       "\n",
       "        UseOfLoan_6  UseOfLoan_7  UseOfLoan_8  Education_20  Education_30  \\\n",
       "0                 0            0            0             0             0   \n",
       "1                 0            0            0             1             0   \n",
       "2                 0            0            0             0             0   \n",
       "3                 0            1            0             1             0   \n",
       "4                 0            1            0             0             0   \n",
       "...             ...          ...          ...           ...           ...   \n",
       "115994            0            0            0             0             0   \n",
       "115995            1            0            0             0             1   \n",
       "115996            0            0            0             0             0   \n",
       "115997            0            1            0             0             1   \n",
       "115998            1            0            0             0             1   \n",
       "\n",
       "        Education_40  Education_50  MaritalStatus_20  MaritalStatus_30  \\\n",
       "0                  1             0                 0                 0   \n",
       "1                  0             0                 0                 0   \n",
       "2                  1             0                 0                 0   \n",
       "3                  0             0                 0                 1   \n",
       "4                  0             1                 0                 1   \n",
       "...              ...           ...               ...               ...   \n",
       "115994             1             0                 0                 1   \n",
       "115995             0             0                 0                 0   \n",
       "115996             1             0                 0                 1   \n",
       "115997             0             0                 0                 1   \n",
       "115998             0             0                 0                 0   \n",
       "\n",
       "        MaritalStatus_40  MaritalStatus_50  EmploymentStatus_20  \\\n",
       "0                      1                 0                    0   \n",
       "1                      0                 0                    0   \n",
       "2                      0                 0                    0   \n",
       "3                      0                 0                    0   \n",
       "4                      0                 0                    0   \n",
       "...                  ...               ...                  ...   \n",
       "115994                 0                 0                    0   \n",
       "115995                 0                 0                    0   \n",
       "115996                 0                 0                    0   \n",
       "115997                 0                 0                    0   \n",
       "115998                 0                 0                    0   \n",
       "\n",
       "        EmploymentStatus_30  EmploymentStatus_40  EmploymentStatus_50  \\\n",
       "0                         0                    0                    1   \n",
       "1                         1                    0                    0   \n",
       "2                         1                    0                    0   \n",
       "3                         1                    0                    0   \n",
       "4                         1                    0                    0   \n",
       "...                     ...                  ...                  ...   \n",
       "115994                    1                    0                    0   \n",
       "115995                    1                    0                    0   \n",
       "115996                    1                    0                    0   \n",
       "115997                    1                    0                    0   \n",
       "115998                    1                    0                    0   \n",
       "\n",
       "        EmploymentStatus_60  EmploymentDurationCurrentEmployer_Other  \\\n",
       "0                         0                                        0   \n",
       "1                         0                                        0   \n",
       "2                         0                                        0   \n",
       "3                         0                                        0   \n",
       "4                         0                                        0   \n",
       "...                     ...                                      ...   \n",
       "115994                    0                                        0   \n",
       "115995                    0                                        0   \n",
       "115996                    0                                        0   \n",
       "115997                    0                                        0   \n",
       "115998                    0                                        0   \n",
       "\n",
       "        EmploymentDurationCurrentEmployer_Retiree  \\\n",
       "0                                               0   \n",
       "1                                               0   \n",
       "2                                               0   \n",
       "3                                               0   \n",
       "4                                               0   \n",
       "...                                           ...   \n",
       "115994                                          0   \n",
       "115995                                          0   \n",
       "115996                                          0   \n",
       "115997                                          0   \n",
       "115998                                          0   \n",
       "\n",
       "        EmploymentDurationCurrentEmployer_TrialPeriod  \\\n",
       "0                                                   0   \n",
       "1                                                   0   \n",
       "2                                                   0   \n",
       "3                                                   0   \n",
       "4                                                   0   \n",
       "...                                               ...   \n",
       "115994                                              0   \n",
       "115995                                              0   \n",
       "115996                                              0   \n",
       "115997                                              0   \n",
       "115998                                              0   \n",
       "\n",
       "        EmploymentDurationCurrentEmployer_UpTo1Year  \\\n",
       "0                                                 0   \n",
       "1                                                 0   \n",
       "2                                                 0   \n",
       "3                                                 0   \n",
       "4                                                 1   \n",
       "...                                             ...   \n",
       "115994                                            1   \n",
       "115995                                            0   \n",
       "115996                                            0   \n",
       "115997                                            0   \n",
       "115998                                            0   \n",
       "\n",
       "        EmploymentDurationCurrentEmployer_UpTo2Years  \\\n",
       "0                                                  0   \n",
       "1                                                  0   \n",
       "2                                                  0   \n",
       "3                                                  0   \n",
       "4                                                  0   \n",
       "...                                              ...   \n",
       "115994                                             0   \n",
       "115995                                             0   \n",
       "115996                                             0   \n",
       "115997                                             0   \n",
       "115998                                             0   \n",
       "\n",
       "        EmploymentDurationCurrentEmployer_UpTo3Years  \\\n",
       "0                                                  1   \n",
       "1                                                  0   \n",
       "2                                                  0   \n",
       "3                                                  0   \n",
       "4                                                  0   \n",
       "...                                              ...   \n",
       "115994                                             0   \n",
       "115995                                             0   \n",
       "115996                                             0   \n",
       "115997                                             0   \n",
       "115998                                             1   \n",
       "\n",
       "        EmploymentDurationCurrentEmployer_UpTo4Years  \\\n",
       "0                                                  0   \n",
       "1                                                  0   \n",
       "2                                                  0   \n",
       "3                                                  0   \n",
       "4                                                  0   \n",
       "...                                              ...   \n",
       "115994                                             0   \n",
       "115995                                             0   \n",
       "115996                                             0   \n",
       "115997                                             0   \n",
       "115998                                             0   \n",
       "\n",
       "        EmploymentDurationCurrentEmployer_UpTo5Years  OccupationArea_20  \\\n",
       "0                                                  0                  0   \n",
       "1                                                  1                  0   \n",
       "2                                                  0                  0   \n",
       "3                                                  0                  0   \n",
       "4                                                  0                  0   \n",
       "...                                              ...                ...   \n",
       "115994                                             0                  0   \n",
       "115995                                             1                  0   \n",
       "115996                                             0                  0   \n",
       "115997                                             0                  0   \n",
       "115998                                             0                  0   \n",
       "\n",
       "        OccupationArea_30  OccupationArea_40  OccupationArea_50  \\\n",
       "0                       0                  0                  0   \n",
       "1                       0                  0                  0   \n",
       "2                       0                  0                  0   \n",
       "3                       0                  0                  0   \n",
       "4                       0                  0                  0   \n",
       "...                   ...                ...                ...   \n",
       "115994                  0                  0                  0   \n",
       "115995                  0                  0                  0   \n",
       "115996                  0                  0                  0   \n",
       "115997                  0                  0                  0   \n",
       "115998                  0                  0                  0   \n",
       "\n",
       "        OccupationArea_60  OccupationArea_70  OccupationArea_80  \\\n",
       "0                       0                  0                  1   \n",
       "1                       0                  0                  0   \n",
       "2                       0                  0                  0   \n",
       "3                       0                  0                  0   \n",
       "4                       0                  0                  0   \n",
       "...                   ...                ...                ...   \n",
       "115994                  0                  0                  0   \n",
       "115995                  0                  0                  0   \n",
       "115996                  0                  0                  0   \n",
       "115997                  0                  0                  0   \n",
       "115998                  0                  0                  0   \n",
       "\n",
       "        OccupationArea_90  OccupationArea_100  OccupationArea_110  \\\n",
       "0                       0                   0                   0   \n",
       "1                       0                   0                   0   \n",
       "2                       0                   0                   0   \n",
       "3                       0                   0                   0   \n",
       "4                       0                   0                   0   \n",
       "...                   ...                 ...                 ...   \n",
       "115994                  0                   0                   0   \n",
       "115995                  0                   0                   0   \n",
       "115996                  0                   0                   0   \n",
       "115997                  0                   0                   0   \n",
       "115998                  0                   0                   0   \n",
       "\n",
       "        OccupationArea_120  OccupationArea_130  OccupationArea_140  \\\n",
       "0                        0                   0                   0   \n",
       "1                        0                   0                   0   \n",
       "2                        0                   0                   0   \n",
       "3                        0                   0                   0   \n",
       "4                        0                   0                   0   \n",
       "...                    ...                 ...                 ...   \n",
       "115994                   0                   0                   0   \n",
       "115995                   0                   0                   0   \n",
       "115996                   0                   0                   0   \n",
       "115997                   0                   0                   1   \n",
       "115998                   0                   0                   0   \n",
       "\n",
       "        OccupationArea_150  OccupationArea_160  OccupationArea_170  \\\n",
       "0                        0                   0                   0   \n",
       "1                        0                   0                   0   \n",
       "2                        0                   0                   0   \n",
       "3                        0                   0                   0   \n",
       "4                        0                   0                   0   \n",
       "...                    ...                 ...                 ...   \n",
       "115994                   0                   0                   0   \n",
       "115995                   0                   0                   0   \n",
       "115996                   0                   0                   1   \n",
       "115997                   0                   0                   0   \n",
       "115998                   0                   0                   0   \n",
       "\n",
       "        OccupationArea_180  OccupationArea_190  HomeOwnershipType_10  \\\n",
       "0                        0                   0                     0   \n",
       "1                        0                   0                     0   \n",
       "2                        0                   0                     0   \n",
       "3                        0                   1                     1   \n",
       "4                        0                   0                     1   \n",
       "...                    ...                 ...                   ...   \n",
       "115994                   0                   0                     0   \n",
       "115995                   0                   0                     0   \n",
       "115996                   0                   0                     0   \n",
       "115997                   0                   0                     0   \n",
       "115998                   0                   0                     1   \n",
       "\n",
       "        HomeOwnershipType_20  HomeOwnershipType_30  HomeOwnershipType_40  \\\n",
       "0                          0                     0                     0   \n",
       "1                          1                     0                     0   \n",
       "2                          0                     0                     0   \n",
       "3                          0                     0                     0   \n",
       "4                          0                     0                     0   \n",
       "...                      ...                   ...                   ...   \n",
       "115994                     1                     0                     0   \n",
       "115995                     0                     1                     0   \n",
       "115996                     0                     0                     1   \n",
       "115997                     0                     0                     0   \n",
       "115998                     0                     0                     0   \n",
       "\n",
       "        HomeOwnershipType_50  HomeOwnershipType_60  HomeOwnershipType_70  \\\n",
       "0                          0                     0                     0   \n",
       "1                          0                     0                     0   \n",
       "2                          0                     0                     0   \n",
       "3                          0                     0                     0   \n",
       "4                          0                     0                     0   \n",
       "...                      ...                   ...                   ...   \n",
       "115994                     0                     0                     0   \n",
       "115995                     0                     0                     0   \n",
       "115996                     0                     0                     0   \n",
       "115997                     0                     0                     0   \n",
       "115998                     0                     0                     0   \n",
       "\n",
       "        HomeOwnershipType_80  HomeOwnershipType_90  HomeOwnershipType_100  \\\n",
       "0                          1                     0                      0   \n",
       "1                          0                     0                      0   \n",
       "2                          0                     1                      0   \n",
       "3                          0                     0                      0   \n",
       "4                          0                     0                      0   \n",
       "...                      ...                   ...                    ...   \n",
       "115994                     0                     0                      0   \n",
       "115995                     0                     0                      0   \n",
       "115996                     0                     0                      0   \n",
       "115997                     1                     0                      0   \n",
       "115998                     0                     0                      0   \n",
       "\n",
       "        Rating_AA  Rating_B  Rating_C  Rating_D  Rating_E  Rating_F  \\\n",
       "0               0         0         0         0         0         0   \n",
       "1               0         0         0         0         0         1   \n",
       "2               0         0         1         0         0         0   \n",
       "3               0         0         1         0         0         0   \n",
       "4               0         0         0         0         0         0   \n",
       "...           ...       ...       ...       ...       ...       ...   \n",
       "115994          0         0         0         0         0         1   \n",
       "115995          0         0         0         0         1         0   \n",
       "115996          0         0         0         1         0         0   \n",
       "115997          0         0         0         0         0         0   \n",
       "115998          0         0         1         0         0         0   \n",
       "\n",
       "        Rating_HR  Status_Repaid  CreditScoreEeMini_5000  \\\n",
       "0               0              1                       0   \n",
       "1               0              0                       0   \n",
       "2               0              1                       0   \n",
       "3               0              1                       0   \n",
       "4               1              1                       0   \n",
       "...           ...            ...                     ...   \n",
       "115994          0              1                       0   \n",
       "115995          0              0                       0   \n",
       "115996          0              1                       0   \n",
       "115997          1              1                       0   \n",
       "115998          0              1                       0   \n",
       "\n",
       "        CreditScoreEeMini_6000  CreditScoreEeMini_7000  \\\n",
       "0                            0                       0   \n",
       "1                            0                       0   \n",
       "2                            0                       0   \n",
       "3                            0                       0   \n",
       "4                            0                       0   \n",
       "...                        ...                     ...   \n",
       "115994                       0                       0   \n",
       "115995                       0                       0   \n",
       "115996                       0                       0   \n",
       "115997                       0                       0   \n",
       "115998                       0                       0   \n",
       "\n",
       "        CreditScoreEeMini_8000  CreditScoreEeMini_9000  \\\n",
       "0                            0                       0   \n",
       "1                            0                       0   \n",
       "2                            1                       0   \n",
       "3                            0                       0   \n",
       "4                            0                       0   \n",
       "...                        ...                     ...   \n",
       "115994                       1                       0   \n",
       "115995                       0                       0   \n",
       "115996                       0                       0   \n",
       "115997                       0                       0   \n",
       "115998                       0                       0   \n",
       "\n",
       "        CreditScoreEeMini_10000  PreviousEarlyRepaymentsCountBeforeLoan_1  \\\n",
       "0                             1                                         0   \n",
       "1                             1                                         1   \n",
       "2                             0                                         0   \n",
       "3                             1                                         0   \n",
       "4                             1                                         0   \n",
       "...                         ...                                       ...   \n",
       "115994                        0                                         0   \n",
       "115995                        1                                         0   \n",
       "115996                        1                                         0   \n",
       "115997                        1                                         1   \n",
       "115998                        1                                         0   \n",
       "\n",
       "        PreviousEarlyRepaymentsCountBeforeLoan_2  \\\n",
       "0                                              0   \n",
       "1                                              0   \n",
       "2                                              0   \n",
       "3                                              1   \n",
       "4                                              0   \n",
       "...                                          ...   \n",
       "115994                                         0   \n",
       "115995                                         0   \n",
       "115996                                         0   \n",
       "115997                                         0   \n",
       "115998                                         0   \n",
       "\n",
       "        PreviousEarlyRepaymentsCountBeforeLoan_3  \\\n",
       "0                                              0   \n",
       "1                                              0   \n",
       "2                                              0   \n",
       "3                                              0   \n",
       "4                                              0   \n",
       "...                                          ...   \n",
       "115994                                         0   \n",
       "115995                                         0   \n",
       "115996                                         0   \n",
       "115997                                         0   \n",
       "115998                                         0   \n",
       "\n",
       "        PreviousEarlyRepaymentsCountBeforeLoan_4  \\\n",
       "0                                              0   \n",
       "1                                              0   \n",
       "2                                              0   \n",
       "3                                              0   \n",
       "4                                              0   \n",
       "...                                          ...   \n",
       "115994                                         0   \n",
       "115995                                         0   \n",
       "115996                                         0   \n",
       "115997                                         0   \n",
       "115998                                         0   \n",
       "\n",
       "        PreviousEarlyRepaymentsCountBeforeLoan_5  \\\n",
       "0                                              0   \n",
       "1                                              0   \n",
       "2                                              0   \n",
       "3                                              0   \n",
       "4                                              0   \n",
       "...                                          ...   \n",
       "115994                                         0   \n",
       "115995                                         0   \n",
       "115996                                         0   \n",
       "115997                                         0   \n",
       "115998                                         0   \n",
       "\n",
       "        PreviousEarlyRepaymentsCountBeforeLoan_6  \\\n",
       "0                                              0   \n",
       "1                                              0   \n",
       "2                                              0   \n",
       "3                                              0   \n",
       "4                                              0   \n",
       "...                                          ...   \n",
       "115994                                         0   \n",
       "115995                                         0   \n",
       "115996                                         0   \n",
       "115997                                         0   \n",
       "115998                                         0   \n",
       "\n",
       "        PreviousEarlyRepaymentsCountBeforeLoan_7  \\\n",
       "0                                              0   \n",
       "1                                              0   \n",
       "2                                              0   \n",
       "3                                              0   \n",
       "4                                              0   \n",
       "...                                          ...   \n",
       "115994                                         0   \n",
       "115995                                         0   \n",
       "115996                                         0   \n",
       "115997                                         0   \n",
       "115998                                         0   \n",
       "\n",
       "        PreviousEarlyRepaymentsCountBeforeLoan_8  \\\n",
       "0                                              0   \n",
       "1                                              0   \n",
       "2                                              0   \n",
       "3                                              0   \n",
       "4                                              0   \n",
       "...                                          ...   \n",
       "115994                                         0   \n",
       "115995                                         0   \n",
       "115996                                         0   \n",
       "115997                                         0   \n",
       "115998                                         0   \n",
       "\n",
       "        PreviousEarlyRepaymentsCountBeforeLoan_9  \\\n",
       "0                                              0   \n",
       "1                                              0   \n",
       "2                                              0   \n",
       "3                                              0   \n",
       "4                                              0   \n",
       "...                                          ...   \n",
       "115994                                         0   \n",
       "115995                                         0   \n",
       "115996                                         0   \n",
       "115997                                         0   \n",
       "115998                                         0   \n",
       "\n",
       "        PreviousEarlyRepaymentsCountBeforeLoan_11  \\\n",
       "0                                               0   \n",
       "1                                               0   \n",
       "2                                               0   \n",
       "3                                               0   \n",
       "4                                               0   \n",
       "...                                           ...   \n",
       "115994                                          0   \n",
       "115995                                          0   \n",
       "115996                                          0   \n",
       "115997                                          0   \n",
       "115998                                          0   \n",
       "\n",
       "        ActiveLateLastPaymentCategory_121150  \\\n",
       "0                                          0   \n",
       "1                                          0   \n",
       "2                                          0   \n",
       "3                                          0   \n",
       "4                                          0   \n",
       "...                                      ...   \n",
       "115994                                     0   \n",
       "115995                                     0   \n",
       "115996                                     0   \n",
       "115997                                     0   \n",
       "115998                                     0   \n",
       "\n",
       "        ActiveLateLastPaymentCategory_151180  \\\n",
       "0                                          0   \n",
       "1                                          0   \n",
       "2                                          0   \n",
       "3                                          0   \n",
       "4                                          0   \n",
       "...                                      ...   \n",
       "115994                                     0   \n",
       "115995                                     0   \n",
       "115996                                     0   \n",
       "115997                                     0   \n",
       "115998                                     0   \n",
       "\n",
       "        ActiveLateLastPaymentCategory_1630  ActiveLateLastPaymentCategory_180  \\\n",
       "0                                        0                                  1   \n",
       "1                                        0                                  1   \n",
       "2                                        0                                  1   \n",
       "3                                        0                                  1   \n",
       "4                                        0                                  1   \n",
       "...                                    ...                                ...   \n",
       "115994                                   0                                  1   \n",
       "115995                                   0                                  1   \n",
       "115996                                   0                                  1   \n",
       "115997                                   0                                  1   \n",
       "115998                                   0                                  1   \n",
       "\n",
       "        ActiveLateLastPaymentCategory_3160  \\\n",
       "0                                        0   \n",
       "1                                        0   \n",
       "2                                        0   \n",
       "3                                        0   \n",
       "4                                        0   \n",
       "...                                    ...   \n",
       "115994                                   0   \n",
       "115995                                   0   \n",
       "115996                                   0   \n",
       "115997                                   0   \n",
       "115998                                   0   \n",
       "\n",
       "        ActiveLateLastPaymentCategory_6190  ActiveLateLastPaymentCategory_815  \\\n",
       "0                                        0                                  0   \n",
       "1                                        0                                  0   \n",
       "2                                        0                                  0   \n",
       "3                                        0                                  0   \n",
       "4                                        0                                  0   \n",
       "...                                    ...                                ...   \n",
       "115994                                   0                                  0   \n",
       "115995                                   0                                  0   \n",
       "115996                                   0                                  0   \n",
       "115997                                   0                                  0   \n",
       "115998                                   0                                  0   \n",
       "\n",
       "        ActiveLateLastPaymentCategory_91120  MonthlyPaymentDay_1  \\\n",
       "0                                         0                    0   \n",
       "1                                         0                    1   \n",
       "2                                         0                    0   \n",
       "3                                         0                    0   \n",
       "4                                         0                    0   \n",
       "...                                     ...                  ...   \n",
       "115994                                    0                    0   \n",
       "115995                                    0                    0   \n",
       "115996                                    0                    0   \n",
       "115997                                    0                    1   \n",
       "115998                                    0                    0   \n",
       "\n",
       "        MonthlyPaymentDay_2  MonthlyPaymentDay_3  MonthlyPaymentDay_4  \\\n",
       "0                         0                    0                    0   \n",
       "1                         0                    0                    0   \n",
       "2                         0                    0                    0   \n",
       "3                         0                    0                    0   \n",
       "4                         0                    0                    0   \n",
       "...                     ...                  ...                  ...   \n",
       "115994                    0                    0                    0   \n",
       "115995                    0                    0                    0   \n",
       "115996                    0                    0                    0   \n",
       "115997                    0                    0                    0   \n",
       "115998                    0                    0                    0   \n",
       "\n",
       "        MonthlyPaymentDay_5  MonthlyPaymentDay_6  MonthlyPaymentDay_7  \\\n",
       "0                         0                    0                    0   \n",
       "1                         0                    0                    0   \n",
       "2                         0                    0                    0   \n",
       "3                         0                    0                    0   \n",
       "4                         0                    1                    0   \n",
       "...                     ...                  ...                  ...   \n",
       "115994                    0                    0                    0   \n",
       "115995                    0                    0                    0   \n",
       "115996                    0                    0                    0   \n",
       "115997                    0                    0                    0   \n",
       "115998                    0                    0                    0   \n",
       "\n",
       "        MonthlyPaymentDay_8  MonthlyPaymentDay_9  MonthlyPaymentDay_10  \\\n",
       "0                         0                    0                     0   \n",
       "1                         0                    0                     0   \n",
       "2                         1                    0                     0   \n",
       "3                         0                    0                     0   \n",
       "4                         0                    0                     0   \n",
       "...                     ...                  ...                   ...   \n",
       "115994                    1                    0                     0   \n",
       "115995                    0                    0                     0   \n",
       "115996                    0                    0                     0   \n",
       "115997                    0                    0                     0   \n",
       "115998                    0                    0                     1   \n",
       "\n",
       "        MonthlyPaymentDay_11  MonthlyPaymentDay_12  MonthlyPaymentDay_13  \\\n",
       "0                          0                     0                     0   \n",
       "1                          0                     0                     0   \n",
       "2                          0                     0                     0   \n",
       "3                          0                     0                     0   \n",
       "4                          0                     0                     0   \n",
       "...                      ...                   ...                   ...   \n",
       "115994                     0                     0                     0   \n",
       "115995                     0                     0                     0   \n",
       "115996                     0                     0                     0   \n",
       "115997                     0                     0                     0   \n",
       "115998                     0                     0                     0   \n",
       "\n",
       "        MonthlyPaymentDay_14  MonthlyPaymentDay_15  MonthlyPaymentDay_16  \\\n",
       "0                          0                     0                     0   \n",
       "1                          0                     0                     0   \n",
       "2                          0                     0                     0   \n",
       "3                          0                     1                     0   \n",
       "4                          0                     0                     0   \n",
       "...                      ...                   ...                   ...   \n",
       "115994                     0                     0                     0   \n",
       "115995                     0                     1                     0   \n",
       "115996                     0                     0                     0   \n",
       "115997                     0                     0                     0   \n",
       "115998                     0                     0                     0   \n",
       "\n",
       "        MonthlyPaymentDay_17  MonthlyPaymentDay_18  MonthlyPaymentDay_19  \\\n",
       "0                          0                     0                     0   \n",
       "1                          0                     0                     0   \n",
       "2                          0                     0                     0   \n",
       "3                          0                     0                     0   \n",
       "4                          0                     0                     0   \n",
       "...                      ...                   ...                   ...   \n",
       "115994                     0                     0                     0   \n",
       "115995                     0                     0                     0   \n",
       "115996                     0                     0                     0   \n",
       "115997                     0                     0                     0   \n",
       "115998                     0                     0                     0   \n",
       "\n",
       "        MonthlyPaymentDay_20  MonthlyPaymentDay_21  MonthlyPaymentDay_22  \\\n",
       "0                          1                     0                     0   \n",
       "1                          0                     0                     0   \n",
       "2                          0                     0                     0   \n",
       "3                          0                     0                     0   \n",
       "4                          0                     0                     0   \n",
       "...                      ...                   ...                   ...   \n",
       "115994                     0                     0                     0   \n",
       "115995                     0                     0                     0   \n",
       "115996                     0                     0                     0   \n",
       "115997                     0                     0                     0   \n",
       "115998                     0                     0                     0   \n",
       "\n",
       "        MonthlyPaymentDay_23  MonthlyPaymentDay_24  MonthlyPaymentDay_25  \\\n",
       "0                          0                     0                     0   \n",
       "1                          0                     0                     0   \n",
       "2                          0                     0                     0   \n",
       "3                          0                     0                     0   \n",
       "4                          0                     0                     0   \n",
       "...                      ...                   ...                   ...   \n",
       "115994                     0                     0                     0   \n",
       "115995                     0                     0                     0   \n",
       "115996                     1                     0                     0   \n",
       "115997                     0                     0                     0   \n",
       "115998                     0                     0                     0   \n",
       "\n",
       "        MonthlyPaymentDay_26  MonthlyPaymentDay_27  MonthlyPaymentDay_28  \\\n",
       "0                          0                     0                     0   \n",
       "1                          0                     0                     0   \n",
       "2                          0                     0                     0   \n",
       "3                          0                     0                     0   \n",
       "4                          0                     0                     0   \n",
       "...                      ...                   ...                   ...   \n",
       "115994                     0                     0                     0   \n",
       "115995                     0                     0                     0   \n",
       "115996                     0                     0                     0   \n",
       "115997                     0                     0                     0   \n",
       "115998                     0                     0                     0   \n",
       "\n",
       "        Age_range__2025  Age_range__2530  Age_range__3035  Age_range__3540  \\\n",
       "0                     0                0                0                0   \n",
       "1                     0                0                0                0   \n",
       "2                     0                0                0                0   \n",
       "3                     0                0                1                0   \n",
       "4                     0                0                0                0   \n",
       "...                 ...              ...              ...              ...   \n",
       "115994                0                1                0                0   \n",
       "115995                0                0                0                1   \n",
       "115996                0                0                0                1   \n",
       "115997                0                0                0                1   \n",
       "115998                0                0                0                0   \n",
       "\n",
       "        Age_range__4045  Age_range__4550  Age_range__5055  Age_range__5560  \\\n",
       "0                     1                0                0                0   \n",
       "1                     1                0                0                0   \n",
       "2                     0                1                0                0   \n",
       "3                     0                0                0                0   \n",
       "4                     1                0                0                0   \n",
       "...                 ...              ...              ...              ...   \n",
       "115994                0                0                0                0   \n",
       "115995                0                0                0                0   \n",
       "115996                0                0                0                0   \n",
       "115997                0                0                0                0   \n",
       "115998                0                0                0                1   \n",
       "\n",
       "        Age_range__6065  Age_range__6570  Age_range__7075  Age_range__7580  \\\n",
       "0                     0                0                0                0   \n",
       "1                     0                0                0                0   \n",
       "2                     0                0                0                0   \n",
       "3                     0                0                0                0   \n",
       "4                     0                0                0                0   \n",
       "...                 ...              ...              ...              ...   \n",
       "115994                0                0                0                0   \n",
       "115995                0                0                0                0   \n",
       "115996                0                0                0                0   \n",
       "115997                0                0                0                0   \n",
       "115998                0                0                0                0   \n",
       "\n",
       "        LoanYear_2010  LoanYear_2011  LoanYear_2012  LoanYear_2013  \\\n",
       "0                   0              0              0              0   \n",
       "1                   0              0              0              0   \n",
       "2                   0              0              0              0   \n",
       "3                   0              0              0              0   \n",
       "4                   0              0              0              0   \n",
       "...               ...            ...            ...            ...   \n",
       "115994              0              0              0              0   \n",
       "115995              0              0              0              0   \n",
       "115996              0              0              0              0   \n",
       "115997              0              0              0              0   \n",
       "115998              0              0              0              0   \n",
       "\n",
       "        LoanYear_2014  LoanYear_2015  LoanYear_2016  LoanYear_2017  \\\n",
       "0                   0              0              1              0   \n",
       "1                   0              1              0              0   \n",
       "2                   0              1              0              0   \n",
       "3                   0              1              0              0   \n",
       "4                   0              0              1              0   \n",
       "...               ...            ...            ...            ...   \n",
       "115994              0              0              1              0   \n",
       "115995              0              1              0              0   \n",
       "115996              0              0              1              0   \n",
       "115997              0              0              1              0   \n",
       "115998              0              1              0              0   \n",
       "\n",
       "        LoanYear_2018  LoanYear_2019  LoanYear_2020  LoanYear_2021  \\\n",
       "0                   0              0              0              0   \n",
       "1                   0              0              0              0   \n",
       "2                   0              0              0              0   \n",
       "3                   0              0              0              0   \n",
       "4                   0              0              0              0   \n",
       "...               ...            ...            ...            ...   \n",
       "115994              0              0              0              0   \n",
       "115995              0              0              0              0   \n",
       "115996              0              0              0              0   \n",
       "115997              0              0              0              0   \n",
       "115998              0              0              0              0   \n",
       "\n",
       "        LoanMonth_2  LoanMonth_3  LoanMonth_4  LoanMonth_5  LoanMonth_6  \\\n",
       "0                 0            0            0            0            0   \n",
       "1                 0            1            0            0            0   \n",
       "2                 0            0            0            0            0   \n",
       "3                 0            0            0            1            0   \n",
       "4                 0            0            0            0            0   \n",
       "...             ...          ...          ...          ...          ...   \n",
       "115994            1            0            0            0            0   \n",
       "115995            0            1            0            0            0   \n",
       "115996            1            0            0            0            0   \n",
       "115997            1            0            0            0            0   \n",
       "115998            0            0            0            0            0   \n",
       "\n",
       "        LoanMonth_7  LoanMonth_8  LoanMonth_9  LoanMonth_10  LoanMonth_11  \\\n",
       "0                 0            0            0             0             0   \n",
       "1                 0            0            0             0             0   \n",
       "2                 0            0            0             1             0   \n",
       "3                 0            0            0             0             0   \n",
       "4                 0            0            0             0             0   \n",
       "...             ...          ...          ...           ...           ...   \n",
       "115994            0            0            0             0             0   \n",
       "115995            0            0            0             0             0   \n",
       "115996            0            0            0             0             0   \n",
       "115997            0            0            0             0             0   \n",
       "115998            0            1            0             0             0   \n",
       "\n",
       "        LoanMonth_12  LoanDay_2  LoanDay_3  LoanDay_4  LoanDay_5  LoanDay_6  \\\n",
       "0                  0          0          0          0          0          0   \n",
       "1                  0          0          0          0          0          0   \n",
       "2                  0          0          0          0          0          0   \n",
       "3                  0          0          0          0          0          0   \n",
       "4                  0          0          0          0          0          0   \n",
       "...              ...        ...        ...        ...        ...        ...   \n",
       "115994             0          0          0          0          1          0   \n",
       "115995             0          1          0          0          0          0   \n",
       "115996             0          0          0          0          0          0   \n",
       "115997             0          0          0          0          0          0   \n",
       "115998             0          0          0          0          0          0   \n",
       "\n",
       "        LoanDay_7  LoanDay_8  LoanDay_9  LoanDay_10  LoanDay_11  LoanDay_12  \\\n",
       "0               0          0          0           0           0           0   \n",
       "1               0          0          0           0           0           0   \n",
       "2               0          0          0           0           0           0   \n",
       "3               0          0          0           0           0           0   \n",
       "4               0          0          0           0           0           0   \n",
       "...           ...        ...        ...         ...         ...         ...   \n",
       "115994          0          0          0           0           0           0   \n",
       "115995          0          0          0           0           0           0   \n",
       "115996          0          0          0           0           0           0   \n",
       "115997          0          0          0           1           0           0   \n",
       "115998          0          0          0           0           0           0   \n",
       "\n",
       "        LoanDay_13  LoanDay_14  LoanDay_15  LoanDay_16  LoanDay_17  \\\n",
       "0                0           0           0           0           0   \n",
       "1                0           0           0           0           0   \n",
       "2                0           0           0           0           0   \n",
       "3                0           0           0           0           0   \n",
       "4                0           0           0           1           0   \n",
       "...            ...         ...         ...         ...         ...   \n",
       "115994           0           0           0           0           0   \n",
       "115995           0           0           0           0           0   \n",
       "115996           0           0           0           0           0   \n",
       "115997           0           0           0           0           0   \n",
       "115998           0           0           0           0           1   \n",
       "\n",
       "        LoanDay_18  LoanDay_19  LoanDay_20  LoanDay_21  LoanDay_22  \\\n",
       "0                0           1           0           0           0   \n",
       "1                0           0           0           0           0   \n",
       "2                0           1           0           0           0   \n",
       "3                0           0           1           0           0   \n",
       "4                0           0           0           0           0   \n",
       "...            ...         ...         ...         ...         ...   \n",
       "115994           0           0           0           0           0   \n",
       "115995           0           0           0           0           0   \n",
       "115996           1           0           0           0           0   \n",
       "115997           0           0           0           0           0   \n",
       "115998           0           0           0           0           0   \n",
       "\n",
       "        LoanDay_23  LoanDay_24  LoanDay_25  LoanDay_26  LoanDay_27  \\\n",
       "0                0           0           0           0           0   \n",
       "1                0           0           0           0           1   \n",
       "2                0           0           0           0           0   \n",
       "3                0           0           0           0           0   \n",
       "4                0           0           0           0           0   \n",
       "...            ...         ...         ...         ...         ...   \n",
       "115994           0           0           0           0           0   \n",
       "115995           0           0           0           0           0   \n",
       "115996           0           0           0           0           0   \n",
       "115997           0           0           0           0           0   \n",
       "115998           0           0           0           0           0   \n",
       "\n",
       "        LoanDay_28  LoanDay_29  LoanDay_30  LoanDay_31  LoanDayName_Monday  \\\n",
       "0                0           0           0           0                   0   \n",
       "1                0           0           0           0                   0   \n",
       "2                0           0           0           0                   1   \n",
       "3                0           0           0           0                   0   \n",
       "4                0           0           0           0                   0   \n",
       "...            ...         ...         ...         ...                 ...   \n",
       "115994           0           0           0           0                   0   \n",
       "115995           0           0           0           0                   1   \n",
       "115996           0           0           0           0                   0   \n",
       "115997           0           0           0           0                   0   \n",
       "115998           0           0           0           0                   1   \n",
       "\n",
       "        LoanDayName_Saturday  LoanDayName_Sunday  LoanDayName_Thursday  \\\n",
       "0                          0                   0                     0   \n",
       "1                          0                   0                     0   \n",
       "2                          0                   0                     0   \n",
       "3                          0                   0                     0   \n",
       "4                          1                   0                     0   \n",
       "...                      ...                 ...                   ...   \n",
       "115994                     0                   0                     0   \n",
       "115995                     0                   0                     0   \n",
       "115996                     0                   0                     1   \n",
       "115997                     0                   0                     0   \n",
       "115998                     0                   0                     0   \n",
       "\n",
       "        LoanDayName_Tuesday  LoanDayName_Wednesday  \n",
       "0                         1                      0  \n",
       "1                         0                      0  \n",
       "2                         0                      0  \n",
       "3                         0                      1  \n",
       "4                         0                      0  \n",
       "...                     ...                    ...  \n",
       "115994                    0                      0  \n",
       "115995                    0                      0  \n",
       "115996                    0                      0  \n",
       "115997                    0                      1  \n",
       "115998                    0                      0  \n",
       "\n",
       "[115999 rows x 298 columns]"
      ]
     },
     "execution_count": 4,
     "metadata": {},
     "output_type": "execute_result"
    }
   ],
   "source": [
    "data "
   ]
  },
  {
   "cell_type": "code",
   "execution_count": 5,
   "metadata": {
    "ExecuteTime": {
     "end_time": "2021-08-23T05:15:24.530798Z",
     "start_time": "2021-08-23T05:15:24.452007Z"
    }
   },
   "outputs": [],
   "source": [
    "data = data.drop(columns = 'Unnamed: 0', axis = 1) "
   ]
  },
  {
   "cell_type": "code",
   "execution_count": 6,
   "metadata": {
    "ExecuteTime": {
     "end_time": "2021-08-23T05:15:24.546754Z",
     "start_time": "2021-08-23T05:15:24.531799Z"
    }
   },
   "outputs": [
    {
     "data": {
      "text/plain": [
       "['ActiveLateLastPaymentCategory_121150',\n",
       " 'ActiveLateLastPaymentCategory_151180',\n",
       " 'ActiveLateLastPaymentCategory_1630',\n",
       " 'ActiveLateLastPaymentCategory_180',\n",
       " 'ActiveLateLastPaymentCategory_3160',\n",
       " 'ActiveLateLastPaymentCategory_6190',\n",
       " 'ActiveLateLastPaymentCategory_815',\n",
       " 'ActiveLateLastPaymentCategory_91120',\n",
       " 'ActiveScheduleFirstPaymentReached',\n",
       " 'Age_range__2025',\n",
       " 'Age_range__2530',\n",
       " 'Age_range__3035',\n",
       " 'Age_range__3540',\n",
       " 'Age_range__4045',\n",
       " 'Age_range__4550',\n",
       " 'Age_range__5055',\n",
       " 'Age_range__5560',\n",
       " 'Age_range__6065',\n",
       " 'Age_range__6570',\n",
       " 'Age_range__7075',\n",
       " 'Age_range__7580',\n",
       " 'Amount',\n",
       " 'AmountOfPreviousLoansBeforeLoan',\n",
       " 'ApplicationSignedHour_1',\n",
       " 'ApplicationSignedHour_10',\n",
       " 'ApplicationSignedHour_11',\n",
       " 'ApplicationSignedHour_12',\n",
       " 'ApplicationSignedHour_13',\n",
       " 'ApplicationSignedHour_14',\n",
       " 'ApplicationSignedHour_15',\n",
       " 'ApplicationSignedHour_16',\n",
       " 'ApplicationSignedHour_17',\n",
       " 'ApplicationSignedHour_18',\n",
       " 'ApplicationSignedHour_19',\n",
       " 'ApplicationSignedHour_2',\n",
       " 'ApplicationSignedHour_20',\n",
       " 'ApplicationSignedHour_21',\n",
       " 'ApplicationSignedHour_22',\n",
       " 'ApplicationSignedHour_23',\n",
       " 'ApplicationSignedHour_3',\n",
       " 'ApplicationSignedHour_4',\n",
       " 'ApplicationSignedHour_5',\n",
       " 'ApplicationSignedHour_6',\n",
       " 'ApplicationSignedHour_7',\n",
       " 'ApplicationSignedHour_8',\n",
       " 'ApplicationSignedHour_9',\n",
       " 'ApplicationSignedWeekday_2',\n",
       " 'ApplicationSignedWeekday_3',\n",
       " 'ApplicationSignedWeekday_4',\n",
       " 'ApplicationSignedWeekday_5',\n",
       " 'ApplicationSignedWeekday_6',\n",
       " 'ApplicationSignedWeekday_7',\n",
       " 'BidsApi',\n",
       " 'BidsManual',\n",
       " 'BidsPortfolioManager',\n",
       " 'Country_ES',\n",
       " 'Country_FI',\n",
       " 'Country_SK',\n",
       " 'CreditScoreEeMini_10000',\n",
       " 'CreditScoreEeMini_5000',\n",
       " 'CreditScoreEeMini_6000',\n",
       " 'CreditScoreEeMini_7000',\n",
       " 'CreditScoreEeMini_8000',\n",
       " 'CreditScoreEeMini_9000',\n",
       " 'DebtToIncome',\n",
       " 'Education_20',\n",
       " 'Education_30',\n",
       " 'Education_40',\n",
       " 'Education_50',\n",
       " 'EmploymentDurationCurrentEmployer_Other',\n",
       " 'EmploymentDurationCurrentEmployer_Retiree',\n",
       " 'EmploymentDurationCurrentEmployer_TrialPeriod',\n",
       " 'EmploymentDurationCurrentEmployer_UpTo1Year',\n",
       " 'EmploymentDurationCurrentEmployer_UpTo2Years',\n",
       " 'EmploymentDurationCurrentEmployer_UpTo3Years',\n",
       " 'EmploymentDurationCurrentEmployer_UpTo4Years',\n",
       " 'EmploymentDurationCurrentEmployer_UpTo5Years',\n",
       " 'EmploymentStatus_20',\n",
       " 'EmploymentStatus_30',\n",
       " 'EmploymentStatus_40',\n",
       " 'EmploymentStatus_50',\n",
       " 'EmploymentStatus_60',\n",
       " 'ExistingLiabilities',\n",
       " 'FreeCash',\n",
       " 'Gender_10',\n",
       " 'Gender_20',\n",
       " 'HomeOwnershipType_10',\n",
       " 'HomeOwnershipType_100',\n",
       " 'HomeOwnershipType_20',\n",
       " 'HomeOwnershipType_30',\n",
       " 'HomeOwnershipType_40',\n",
       " 'HomeOwnershipType_50',\n",
       " 'HomeOwnershipType_60',\n",
       " 'HomeOwnershipType_70',\n",
       " 'HomeOwnershipType_80',\n",
       " 'HomeOwnershipType_90',\n",
       " 'IncomeFromChildSupport',\n",
       " 'IncomeFromFamilyAllowance',\n",
       " 'IncomeFromLeavePay',\n",
       " 'IncomeFromPension',\n",
       " 'IncomeFromPrincipalEmployer',\n",
       " 'IncomeFromSocialWelfare',\n",
       " 'IncomeOther',\n",
       " 'IncomeTotal',\n",
       " 'Interest',\n",
       " 'IsDefault',\n",
       " 'LanguageCode_10',\n",
       " 'LanguageCode_13',\n",
       " 'LanguageCode_15',\n",
       " 'LanguageCode_2',\n",
       " 'LanguageCode_21',\n",
       " 'LanguageCode_22',\n",
       " 'LanguageCode_3',\n",
       " 'LanguageCode_4',\n",
       " 'LanguageCode_5',\n",
       " 'LanguageCode_6',\n",
       " 'LanguageCode_7',\n",
       " 'LanguageCode_9',\n",
       " 'LiabilitiesTotal',\n",
       " 'LoanDayName_Monday',\n",
       " 'LoanDayName_Saturday',\n",
       " 'LoanDayName_Sunday',\n",
       " 'LoanDayName_Thursday',\n",
       " 'LoanDayName_Tuesday',\n",
       " 'LoanDayName_Wednesday',\n",
       " 'LoanDay_10',\n",
       " 'LoanDay_11',\n",
       " 'LoanDay_12',\n",
       " 'LoanDay_13',\n",
       " 'LoanDay_14',\n",
       " 'LoanDay_15',\n",
       " 'LoanDay_16',\n",
       " 'LoanDay_17',\n",
       " 'LoanDay_18',\n",
       " 'LoanDay_19',\n",
       " 'LoanDay_2',\n",
       " 'LoanDay_20',\n",
       " 'LoanDay_21',\n",
       " 'LoanDay_22',\n",
       " 'LoanDay_23',\n",
       " 'LoanDay_24',\n",
       " 'LoanDay_25',\n",
       " 'LoanDay_26',\n",
       " 'LoanDay_27',\n",
       " 'LoanDay_28',\n",
       " 'LoanDay_29',\n",
       " 'LoanDay_3',\n",
       " 'LoanDay_30',\n",
       " 'LoanDay_31',\n",
       " 'LoanDay_4',\n",
       " 'LoanDay_5',\n",
       " 'LoanDay_6',\n",
       " 'LoanDay_7',\n",
       " 'LoanDay_8',\n",
       " 'LoanDay_9',\n",
       " 'LoanDuration_10',\n",
       " 'LoanDuration_11',\n",
       " 'LoanDuration_12',\n",
       " 'LoanDuration_13',\n",
       " 'LoanDuration_14',\n",
       " 'LoanDuration_15',\n",
       " 'LoanDuration_16',\n",
       " 'LoanDuration_17',\n",
       " 'LoanDuration_18',\n",
       " 'LoanDuration_19',\n",
       " 'LoanDuration_2',\n",
       " 'LoanDuration_20',\n",
       " 'LoanDuration_21',\n",
       " 'LoanDuration_22',\n",
       " 'LoanDuration_24',\n",
       " 'LoanDuration_27',\n",
       " 'LoanDuration_3',\n",
       " 'LoanDuration_30',\n",
       " 'LoanDuration_36',\n",
       " 'LoanDuration_38',\n",
       " 'LoanDuration_4',\n",
       " 'LoanDuration_42',\n",
       " 'LoanDuration_48',\n",
       " 'LoanDuration_5',\n",
       " 'LoanDuration_52',\n",
       " 'LoanDuration_54',\n",
       " 'LoanDuration_6',\n",
       " 'LoanDuration_60',\n",
       " 'LoanDuration_7',\n",
       " 'LoanDuration_8',\n",
       " 'LoanDuration_9',\n",
       " 'LoanMonth_10',\n",
       " 'LoanMonth_11',\n",
       " 'LoanMonth_12',\n",
       " 'LoanMonth_2',\n",
       " 'LoanMonth_3',\n",
       " 'LoanMonth_4',\n",
       " 'LoanMonth_5',\n",
       " 'LoanMonth_6',\n",
       " 'LoanMonth_7',\n",
       " 'LoanMonth_8',\n",
       " 'LoanMonth_9',\n",
       " 'LoanYear_2010',\n",
       " 'LoanYear_2011',\n",
       " 'LoanYear_2012',\n",
       " 'LoanYear_2013',\n",
       " 'LoanYear_2014',\n",
       " 'LoanYear_2015',\n",
       " 'LoanYear_2016',\n",
       " 'LoanYear_2017',\n",
       " 'LoanYear_2018',\n",
       " 'LoanYear_2019',\n",
       " 'LoanYear_2020',\n",
       " 'LoanYear_2021',\n",
       " 'MaritalStatus_20',\n",
       " 'MaritalStatus_30',\n",
       " 'MaritalStatus_40',\n",
       " 'MaritalStatus_50',\n",
       " 'MonthlyPayment',\n",
       " 'MonthlyPaymentDay_1',\n",
       " 'MonthlyPaymentDay_10',\n",
       " 'MonthlyPaymentDay_11',\n",
       " 'MonthlyPaymentDay_12',\n",
       " 'MonthlyPaymentDay_13',\n",
       " 'MonthlyPaymentDay_14',\n",
       " 'MonthlyPaymentDay_15',\n",
       " 'MonthlyPaymentDay_16',\n",
       " 'MonthlyPaymentDay_17',\n",
       " 'MonthlyPaymentDay_18',\n",
       " 'MonthlyPaymentDay_19',\n",
       " 'MonthlyPaymentDay_2',\n",
       " 'MonthlyPaymentDay_20',\n",
       " 'MonthlyPaymentDay_21',\n",
       " 'MonthlyPaymentDay_22',\n",
       " 'MonthlyPaymentDay_23',\n",
       " 'MonthlyPaymentDay_24',\n",
       " 'MonthlyPaymentDay_25',\n",
       " 'MonthlyPaymentDay_26',\n",
       " 'MonthlyPaymentDay_27',\n",
       " 'MonthlyPaymentDay_28',\n",
       " 'MonthlyPaymentDay_3',\n",
       " 'MonthlyPaymentDay_4',\n",
       " 'MonthlyPaymentDay_5',\n",
       " 'MonthlyPaymentDay_6',\n",
       " 'MonthlyPaymentDay_7',\n",
       " 'MonthlyPaymentDay_8',\n",
       " 'MonthlyPaymentDay_9',\n",
       " 'NewCreditCustomer',\n",
       " 'NrOfScheduledPayments',\n",
       " 'OccupationArea_100',\n",
       " 'OccupationArea_110',\n",
       " 'OccupationArea_120',\n",
       " 'OccupationArea_130',\n",
       " 'OccupationArea_140',\n",
       " 'OccupationArea_150',\n",
       " 'OccupationArea_160',\n",
       " 'OccupationArea_170',\n",
       " 'OccupationArea_180',\n",
       " 'OccupationArea_190',\n",
       " 'OccupationArea_20',\n",
       " 'OccupationArea_30',\n",
       " 'OccupationArea_40',\n",
       " 'OccupationArea_50',\n",
       " 'OccupationArea_60',\n",
       " 'OccupationArea_70',\n",
       " 'OccupationArea_80',\n",
       " 'OccupationArea_90',\n",
       " 'PlannedInterestTillDate',\n",
       " 'PreviousEarlyRepaymentsCountBeforeLoan_1',\n",
       " 'PreviousEarlyRepaymentsCountBeforeLoan_11',\n",
       " 'PreviousEarlyRepaymentsCountBeforeLoan_2',\n",
       " 'PreviousEarlyRepaymentsCountBeforeLoan_3',\n",
       " 'PreviousEarlyRepaymentsCountBeforeLoan_4',\n",
       " 'PreviousEarlyRepaymentsCountBeforeLoan_5',\n",
       " 'PreviousEarlyRepaymentsCountBeforeLoan_6',\n",
       " 'PreviousEarlyRepaymentsCountBeforeLoan_7',\n",
       " 'PreviousEarlyRepaymentsCountBeforeLoan_8',\n",
       " 'PreviousEarlyRepaymentsCountBeforeLoan_9',\n",
       " 'PreviousRepaymentsBeforeLoan',\n",
       " 'PrincipalBalance',\n",
       " 'PrincipalPaymentsMade',\n",
       " 'Rating_AA',\n",
       " 'Rating_B',\n",
       " 'Rating_C',\n",
       " 'Rating_D',\n",
       " 'Rating_E',\n",
       " 'Rating_F',\n",
       " 'Rating_HR',\n",
       " 'RefinanceLiabilities',\n",
       " 'Restructured',\n",
       " 'Status_Repaid',\n",
       " 'UseOfLoan_1',\n",
       " 'UseOfLoan_2',\n",
       " 'UseOfLoan_3',\n",
       " 'UseOfLoan_4',\n",
       " 'UseOfLoan_5',\n",
       " 'UseOfLoan_6',\n",
       " 'UseOfLoan_7',\n",
       " 'UseOfLoan_8',\n",
       " 'VerificationType_20',\n",
       " 'VerificationType_30',\n",
       " 'VerificationType_40']"
      ]
     },
     "execution_count": 6,
     "metadata": {},
     "output_type": "execute_result"
    }
   ],
   "source": [
    "sorted(data.columns)"
   ]
  },
  {
   "cell_type": "code",
   "execution_count": null,
   "metadata": {},
   "outputs": [],
   "source": []
  },
  {
   "cell_type": "markdown",
   "metadata": {},
   "source": [
    "## Train_test_split"
   ]
  },
  {
   "cell_type": "code",
   "execution_count": 7,
   "metadata": {
    "ExecuteTime": {
     "end_time": "2021-08-23T05:15:24.562711Z",
     "start_time": "2021-08-23T05:15:24.547723Z"
    }
   },
   "outputs": [],
   "source": [
    "all_columns = data.columns"
   ]
  },
  {
   "cell_type": "code",
   "execution_count": 8,
   "metadata": {
    "ExecuteTime": {
     "end_time": "2021-08-23T05:15:24.624545Z",
     "start_time": "2021-08-23T05:15:24.564705Z"
    }
   },
   "outputs": [],
   "source": [
    "X = data.drop(columns = 'IsDefault', axis = 1)\n",
    "y = data['IsDefault']"
   ]
  },
  {
   "cell_type": "code",
   "execution_count": 9,
   "metadata": {
    "ExecuteTime": {
     "end_time": "2021-08-23T05:15:24.656460Z",
     "start_time": "2021-08-23T05:15:24.625543Z"
    }
   },
   "outputs": [],
   "source": [
    "from sklearn.linear_model import LogisticRegression\n",
    "from sklearn.feature_selection import RFE\n",
    "from sklearn.tree import DecisionTreeClassifier"
   ]
  },
  {
   "cell_type": "code",
   "execution_count": null,
   "metadata": {},
   "outputs": [],
   "source": []
  },
  {
   "cell_type": "code",
   "execution_count": 10,
   "metadata": {
    "ExecuteTime": {
     "end_time": "2021-08-23T05:15:24.672421Z",
     "start_time": "2021-08-23T05:15:24.657459Z"
    }
   },
   "outputs": [],
   "source": [
    "\n",
    "\n",
    "# rfe = RFE(estimator=DecisionTreeClassifier(), n_features_to_select=50)\n",
    "# rfe = rfe.fit(X, y)\n",
    "\n",
    "# for i in range(X.shape[1]):\n",
    "#     print('Column: %d, Selected %s, Rank: %.3f' % (i, rfe.support_[i], rfe.ranking_[i]))"
   ]
  },
  {
   "cell_type": "code",
   "execution_count": 11,
   "metadata": {
    "ExecuteTime": {
     "end_time": "2021-08-23T05:15:24.687349Z",
     "start_time": "2021-08-23T05:15:24.673387Z"
    }
   },
   "outputs": [],
   "source": [
    "from sklearn.model_selection import train_test_split"
   ]
  },
  {
   "cell_type": "code",
   "execution_count": 12,
   "metadata": {
    "ExecuteTime": {
     "end_time": "2021-08-23T05:15:24.921750Z",
     "start_time": "2021-08-23T05:15:24.688348Z"
    }
   },
   "outputs": [],
   "source": [
    "X_train,X_test,y_train,y_test=train_test_split(X,y,test_size=0.3,random_state=2021)"
   ]
  },
  {
   "cell_type": "code",
   "execution_count": 13,
   "metadata": {
    "ExecuteTime": {
     "end_time": "2021-08-23T05:15:24.936717Z",
     "start_time": "2021-08-23T05:15:24.922761Z"
    }
   },
   "outputs": [
    {
     "data": {
      "text/plain": [
       "((81199, 296), (34800, 296), (81199,), (34800,))"
      ]
     },
     "execution_count": 13,
     "metadata": {},
     "output_type": "execute_result"
    }
   ],
   "source": [
    "X_train.shape,X_test.shape,y_train.shape,y_test.shape"
   ]
  },
  {
   "cell_type": "code",
   "execution_count": null,
   "metadata": {},
   "outputs": [],
   "source": []
  },
  {
   "cell_type": "code",
   "execution_count": 14,
   "metadata": {
    "ExecuteTime": {
     "end_time": "2021-08-23T05:15:24.952667Z",
     "start_time": "2021-08-23T05:15:24.937720Z"
    }
   },
   "outputs": [],
   "source": [
    "# from imblearn.over_sampling import SMOTE\n",
    "\n",
    "# # Separate input features and target\n",
    "# # y = df.Class\n",
    "# # X = df.drop('Class', axis=1)\n",
    "\n",
    "# # # setting up testing and training sets\n",
    "# # X_train, X_test, y_train, y_test = train_test_split(X, y, test_size=0.25, random_state=27)\n",
    "\n",
    "# sm = SMOTE(random_state=27, sampling_strategy=1)\n",
    "# X_train, y_train = sm.fit_sample(X_train, y_train)"
   ]
  },
  {
   "cell_type": "code",
   "execution_count": 15,
   "metadata": {
    "ExecuteTime": {
     "end_time": "2021-08-23T05:15:25.249872Z",
     "start_time": "2021-08-23T05:15:24.953637Z"
    }
   },
   "outputs": [
    {
     "data": {
      "text/plain": [
       "(86999, 297)"
      ]
     },
     "execution_count": 15,
     "metadata": {},
     "output_type": "execute_result"
    }
   ],
   "source": [
    "from sklearn.utils import resample\n",
    "\n",
    "# Separate input features and target\n",
    "\n",
    "\n",
    "# setting up testing and training sets\n",
    "X_train, X_test, y_train, y_test = train_test_split(X, y, test_size=0.25, random_state=27)\n",
    "\n",
    "\n",
    "# concatenate our training data back together\n",
    "X = pd.concat([X_train, y_train], axis=1)\n",
    "X.shape\n",
    "\n"
   ]
  },
  {
   "cell_type": "code",
   "execution_count": 16,
   "metadata": {
    "ExecuteTime": {
     "end_time": "2021-08-23T05:15:25.577967Z",
     "start_time": "2021-08-23T05:15:25.250871Z"
    }
   },
   "outputs": [
    {
     "data": {
      "text/plain": [
       "1    51700\n",
       "0    51700\n",
       "Name: IsDefault, dtype: int64"
      ]
     },
     "execution_count": 16,
     "metadata": {},
     "output_type": "execute_result"
    }
   ],
   "source": [
    "# separate minority and majority classes\n",
    "not_default = X[X.IsDefault==0]\n",
    "default = X[X.IsDefault==1]\n",
    "\n",
    "# upsample minority\n",
    "not_default_upsampled = resample(not_default,\n",
    "                          replace=True, # sample with replacement\n",
    "                          n_samples=len(default), # match number in majority class\n",
    "                          random_state=27) # reproducible results\n",
    "\n",
    "# combine majority and upsampled minority\n",
    "upsampled = pd.concat([default, not_default_upsampled])\n",
    "\n",
    "# check new class counts\n",
    "upsampled.IsDefault.value_counts()\n",
    "#     1    213245\n",
    "#     0    213245"
   ]
  },
  {
   "cell_type": "code",
   "execution_count": null,
   "metadata": {},
   "outputs": [],
   "source": []
  },
  {
   "cell_type": "code",
   "execution_count": null,
   "metadata": {},
   "outputs": [],
   "source": []
  },
  {
   "cell_type": "markdown",
   "metadata": {},
   "source": [
    "## Predictive Modelling"
   ]
  },
  {
   "cell_type": "markdown",
   "metadata": {},
   "source": [
    "### Logistic Regression\n"
   ]
  },
  {
   "cell_type": "markdown",
   "metadata": {},
   "source": [
    "#### Modelling\n"
   ]
  },
  {
   "cell_type": "code",
   "execution_count": 17,
   "metadata": {
    "ExecuteTime": {
     "end_time": "2021-08-23T05:15:29.299010Z",
     "start_time": "2021-08-23T05:15:25.578993Z"
    }
   },
   "outputs": [],
   "source": [
    "from sklearn.linear_model import LogisticRegression\n",
    "from sklearn.metrics import confusion_matrix\n",
    "\n",
    "model_LR = LogisticRegression().fit(X_train, y_train)"
   ]
  },
  {
   "cell_type": "code",
   "execution_count": 18,
   "metadata": {
    "ExecuteTime": {
     "end_time": "2021-08-23T05:15:29.562339Z",
     "start_time": "2021-08-23T05:15:29.300008Z"
    }
   },
   "outputs": [
    {
     "data": {
      "text/plain": [
       "array([10540,  1353,  1287, 15820], dtype=int64)"
      ]
     },
     "execution_count": 18,
     "metadata": {},
     "output_type": "execute_result"
    }
   ],
   "source": [
    "y_pred_LR = model_LR.predict(X_test)\n",
    "#y_pred_LR1 = model_LR.predict(X_train)\n",
    "LR_confusion_matrix = confusion_matrix(y_test, y_pred_LR).ravel()\n",
    "LR_confusion_matrix #tn, fp, fn, tp"
   ]
  },
  {
   "cell_type": "markdown",
   "metadata": {},
   "source": [
    "#### Evaluation Metrics"
   ]
  },
  {
   "cell_type": "code",
   "execution_count": 19,
   "metadata": {
    "ExecuteTime": {
     "end_time": "2021-08-23T05:15:29.578296Z",
     "start_time": "2021-08-23T05:15:29.563331Z"
    }
   },
   "outputs": [],
   "source": [
    "metric_LR = {}\n",
    "metric_LR['model_name'] = 'Logistic Regression'\n",
    "metric_LR['TN'] = LR_confusion_matrix[0]\n",
    "metric_LR['FP'] = LR_confusion_matrix[1]\n",
    "metric_LR['FN'] = LR_confusion_matrix[2]\n",
    "metric_LR['TP'] = LR_confusion_matrix[3]\n",
    "\n",
    "metric_LR['model'] = model_LR"
   ]
  },
  {
   "cell_type": "code",
   "execution_count": 20,
   "metadata": {
    "ExecuteTime": {
     "end_time": "2021-08-23T05:15:29.594221Z",
     "start_time": "2021-08-23T05:15:29.579292Z"
    }
   },
   "outputs": [
    {
     "data": {
      "text/plain": [
       "{'model_name': 'Logistic Regression',\n",
       " 'TN': 10540,\n",
       " 'FP': 1353,\n",
       " 'FN': 1287,\n",
       " 'TP': 15820,\n",
       " 'model': LogisticRegression()}"
      ]
     },
     "execution_count": 20,
     "metadata": {},
     "output_type": "execute_result"
    }
   ],
   "source": [
    "metric_LR"
   ]
  },
  {
   "cell_type": "code",
   "execution_count": 21,
   "metadata": {
    "ExecuteTime": {
     "end_time": "2021-08-23T05:15:30.033046Z",
     "start_time": "2021-08-23T05:15:29.595218Z"
    }
   },
   "outputs": [
    {
     "data": {
      "image/png": "[encoded data removed]",
      "text/plain": [
       "<Figure size 600x600 with 2 Axes>"
      ]
     },
     "metadata": {},
     "output_type": "display_data"
    }
   ],
   "source": [
    "sns.set(rc={'figure.figsize':(6,6)})\n",
    "import matplotlib.pyplot as plt\n",
    "plot_confusion_matrix(model_LR, X_test, y_test) \n",
    "plt.grid(False)\n",
    "plt.show()  "
   ]
  },
  {
   "cell_type": "markdown",
   "metadata": {},
   "source": [
    "##### Accuracy"
   ]
  },
  {
   "cell_type": "code",
   "execution_count": 22,
   "metadata": {
    "ExecuteTime": {
     "end_time": "2021-08-23T05:15:30.048007Z",
     "start_time": "2021-08-23T05:15:30.034044Z"
    }
   },
   "outputs": [
    {
     "data": {
      "text/plain": [
       "0.9089655172413793"
      ]
     },
     "execution_count": 22,
     "metadata": {},
     "output_type": "execute_result"
    }
   ],
   "source": [
    "from sklearn.metrics import accuracy_score\n",
    "accuracy_score(y_test, y_pred_LR)"
   ]
  },
  {
   "cell_type": "markdown",
   "metadata": {},
   "source": [
    "##### Misclassification Rate"
   ]
  },
  {
   "cell_type": "code",
   "execution_count": 23,
   "metadata": {
    "ExecuteTime": {
     "end_time": "2021-08-23T05:15:30.095911Z",
     "start_time": "2021-08-23T05:15:30.050998Z"
    }
   },
   "outputs": [
    {
     "name": "stdout",
     "output_type": "stream",
     "text": [
      "Classification Report: \n",
      "               precision    recall  f1-score   support\n",
      "\n",
      "           0       0.89      0.89      0.89     11893\n",
      "           1       0.92      0.92      0.92     17107\n",
      "\n",
      "    accuracy                           0.91     29000\n",
      "   macro avg       0.91      0.91      0.91     29000\n",
      "weighted avg       0.91      0.91      0.91     29000\n",
      "\n"
     ]
    }
   ],
   "source": [
    "from sklearn.metrics import classification_report\n",
    "print(\"Classification Report: \\n\", classification_report(y_test, y_pred_LR))  "
   ]
  },
  {
   "cell_type": "markdown",
   "metadata": {},
   "source": [
    "##### Sensitivity"
   ]
  },
  {
   "cell_type": "markdown",
   "metadata": {},
   "source": [
    "##### Specificity"
   ]
  },
  {
   "cell_type": "markdown",
   "metadata": {},
   "source": [
    "##### F1 Score"
   ]
  },
  {
   "cell_type": "raw",
   "metadata": {
    "ExecuteTime": {
     "end_time": "2021-07-28T20:07:04.910210Z",
     "start_time": "2021-07-28T20:07:04.578098Z"
    }
   },
   "source": [
    "from sklearn import metrics\n",
    "\n",
    "metrics.plot_roc_curve(model_LR, y_test, y_pred_LR) \n",
    "plt.show() "
   ]
  },
  {
   "cell_type": "markdown",
   "metadata": {},
   "source": [
    "##### ROC and AUC – Area Under the Curve"
   ]
  },
  {
   "cell_type": "code",
   "execution_count": 24,
   "metadata": {
    "ExecuteTime": {
     "end_time": "2021-08-23T05:15:30.394108Z",
     "start_time": "2021-08-23T05:15:30.096904Z"
    }
   },
   "outputs": [],
   "source": [
    "from sklearn import metrics\n",
    "y_pred_proba = model_LR.predict_proba(X_test)[::,1]\n",
    "fpr, tpr, _ = metrics.roc_curve(y_test,  y_pred_proba)\n",
    "auc = metrics.roc_auc_score(y_test, y_pred_proba)"
   ]
  },
  {
   "cell_type": "code",
   "execution_count": 25,
   "metadata": {
    "ExecuteTime": {
     "end_time": "2021-08-23T05:15:30.521767Z",
     "start_time": "2021-08-23T05:15:30.394108Z"
    }
   },
   "outputs": [
    {
     "data": {
      "image/png": "[encoded data removed]",
      "text/plain": [
       "<Figure size 600x600 with 1 Axes>"
      ]
     },
     "metadata": {},
     "output_type": "display_data"
    }
   ],
   "source": [
    "import matplotlib.pyplot as plt \n",
    "plt.plot(fpr,tpr,label=\"data 1, auc=\"+str(auc))\n",
    "plt.legend(loc=4)\n",
    "plt.show()"
   ]
  },
  {
   "cell_type": "code",
   "execution_count": 26,
   "metadata": {
    "ExecuteTime": {
     "end_time": "2021-08-23T05:15:30.537724Z",
     "start_time": "2021-08-23T05:15:30.522764Z"
    }
   },
   "outputs": [],
   "source": [
    "##### ROC and AUC – Area Under the Curve"
   ]
  },
  {
   "cell_type": "markdown",
   "metadata": {},
   "source": [
    "### Decision Trees"
   ]
  },
  {
   "cell_type": "markdown",
   "metadata": {},
   "source": [
    "#### Modelling\n"
   ]
  },
  {
   "cell_type": "code",
   "execution_count": 27,
   "metadata": {
    "ExecuteTime": {
     "end_time": "2021-08-23T05:15:34.765385Z",
     "start_time": "2021-08-23T05:15:30.538721Z"
    }
   },
   "outputs": [
    {
     "data": {
      "text/plain": [
       "DecisionTreeClassifier()"
      ]
     },
     "execution_count": 27,
     "metadata": {},
     "output_type": "execute_result"
    }
   ],
   "source": [
    "from sklearn.tree import DecisionTreeClassifier\n",
    "model_DT = DecisionTreeClassifier()\n",
    "\n",
    "model_DT.fit(X_train, y_train)"
   ]
  },
  {
   "cell_type": "code",
   "execution_count": 28,
   "metadata": {
    "ExecuteTime": {
     "end_time": "2021-08-23T05:15:35.016740Z",
     "start_time": "2021-08-23T05:15:34.766382Z"
    }
   },
   "outputs": [],
   "source": [
    "y_pred_DT = model_DT.predict(X_test)"
   ]
  },
  {
   "cell_type": "code",
   "execution_count": 29,
   "metadata": {
    "ExecuteTime": {
     "end_time": "2021-08-23T05:15:35.046667Z",
     "start_time": "2021-08-23T05:15:35.017711Z"
    }
   },
   "outputs": [
    {
     "data": {
      "text/plain": [
       "array([10484,  1409,  1233, 15874], dtype=int64)"
      ]
     },
     "execution_count": 29,
     "metadata": {},
     "output_type": "execute_result"
    }
   ],
   "source": [
    "DT_confusion_matrix = confusion_matrix(y_test, y_pred_DT).ravel()\n",
    "DT_confusion_matrix"
   ]
  },
  {
   "cell_type": "markdown",
   "metadata": {},
   "source": [
    "#### Evaluation Metrics"
   ]
  },
  {
   "cell_type": "code",
   "execution_count": 30,
   "metadata": {
    "ExecuteTime": {
     "end_time": "2021-08-23T05:15:35.453572Z",
     "start_time": "2021-08-23T05:15:35.047675Z"
    }
   },
   "outputs": [
    {
     "data": {
      "image/png": "[encoded data removed]",
      "text/plain": [
       "<Figure size 600x600 with 2 Axes>"
      ]
     },
     "metadata": {},
     "output_type": "display_data"
    }
   ],
   "source": [
    "import matplotlib.pyplot as plt\n",
    "plot_confusion_matrix(model_DT, X_test, y_test)  \n",
    "plt.grid(False)\n",
    "plt.show()  "
   ]
  },
  {
   "cell_type": "code",
   "execution_count": 31,
   "metadata": {
    "ExecuteTime": {
     "end_time": "2021-08-23T05:15:35.468503Z",
     "start_time": "2021-08-23T05:15:35.454589Z"
    }
   },
   "outputs": [],
   "source": [
    "metric_DT = {}\n",
    "metric_DT['model_name'] = 'Decision Trees'\n",
    "metric_DT['TN'] = DT_confusion_matrix[0]\n",
    "metric_DT['FP'] = DT_confusion_matrix[1]\n",
    "metric_DT['FN'] = DT_confusion_matrix[2]\n",
    "metric_DT['TP'] = DT_confusion_matrix[3]\n",
    "\n",
    "metric_DT['model'] = model_DT"
   ]
  },
  {
   "cell_type": "code",
   "execution_count": 32,
   "metadata": {
    "ExecuteTime": {
     "end_time": "2021-08-23T05:15:35.483464Z",
     "start_time": "2021-08-23T05:15:35.469501Z"
    }
   },
   "outputs": [
    {
     "data": {
      "text/plain": [
       "{'model_name': 'Decision Trees',\n",
       " 'TN': 10484,\n",
       " 'FP': 1409,\n",
       " 'FN': 1233,\n",
       " 'TP': 15874,\n",
       " 'model': DecisionTreeClassifier()}"
      ]
     },
     "execution_count": 32,
     "metadata": {},
     "output_type": "execute_result"
    }
   ],
   "source": [
    "metric_DT"
   ]
  },
  {
   "cell_type": "code",
   "execution_count": null,
   "metadata": {},
   "outputs": [],
   "source": []
  },
  {
   "cell_type": "markdown",
   "metadata": {},
   "source": [
    "##### Accuracy"
   ]
  },
  {
   "cell_type": "code",
   "execution_count": 33,
   "metadata": {
    "ExecuteTime": {
     "end_time": "2021-08-23T05:15:35.499421Z",
     "start_time": "2021-08-23T05:15:35.484461Z"
    }
   },
   "outputs": [
    {
     "data": {
      "text/plain": [
       "0.908896551724138"
      ]
     },
     "execution_count": 33,
     "metadata": {},
     "output_type": "execute_result"
    }
   ],
   "source": [
    "from sklearn.metrics import accuracy_score\n",
    "accuracy_score(y_test, y_pred_DT)"
   ]
  },
  {
   "cell_type": "markdown",
   "metadata": {},
   "source": [
    "##### Misclassification Rate"
   ]
  },
  {
   "cell_type": "code",
   "execution_count": 34,
   "metadata": {
    "ExecuteTime": {
     "end_time": "2021-08-23T05:15:35.531364Z",
     "start_time": "2021-08-23T05:15:35.500418Z"
    }
   },
   "outputs": [
    {
     "name": "stdout",
     "output_type": "stream",
     "text": [
      "Classification Report: \n",
      "               precision    recall  f1-score   support\n",
      "\n",
      "           0       0.89      0.88      0.89     11893\n",
      "           1       0.92      0.93      0.92     17107\n",
      "\n",
      "    accuracy                           0.91     29000\n",
      "   macro avg       0.91      0.90      0.91     29000\n",
      "weighted avg       0.91      0.91      0.91     29000\n",
      "\n"
     ]
    }
   ],
   "source": [
    "from sklearn.metrics import classification_report\n",
    "print(\"Classification Report: \\n\", classification_report(y_test, y_pred_DT))  "
   ]
  },
  {
   "cell_type": "markdown",
   "metadata": {},
   "source": [
    "##### Sensitivity"
   ]
  },
  {
   "cell_type": "markdown",
   "metadata": {},
   "source": [
    "##### Specificity"
   ]
  },
  {
   "cell_type": "markdown",
   "metadata": {},
   "source": [
    "##### F1 Score"
   ]
  },
  {
   "cell_type": "markdown",
   "metadata": {},
   "source": [
    "##### ROC and AUC – Area Under the Curve"
   ]
  },
  {
   "cell_type": "code",
   "execution_count": 35,
   "metadata": {
    "ExecuteTime": {
     "end_time": "2021-08-23T05:15:35.796654Z",
     "start_time": "2021-08-23T05:15:35.532334Z"
    }
   },
   "outputs": [],
   "source": [
    "from sklearn import metrics\n",
    "y_pred_proba = model_DT.predict_proba(X_test)[::,1]\n",
    "fpr, tpr, _ = metrics.roc_curve(y_test,  y_pred_proba)\n",
    "auc = metrics.roc_auc_score(y_test, y_pred_proba)"
   ]
  },
  {
   "cell_type": "code",
   "execution_count": 36,
   "metadata": {
    "ExecuteTime": {
     "end_time": "2021-08-23T05:15:35.922318Z",
     "start_time": "2021-08-23T05:15:35.797624Z"
    }
   },
   "outputs": [
    {
     "data": {
      "image/png": "[encoded data removed]",
      "text/plain": [
       "<Figure size 600x600 with 1 Axes>"
      ]
     },
     "metadata": {},
     "output_type": "display_data"
    }
   ],
   "source": [
    "import matplotlib.pyplot as plt \n",
    "plt.plot(fpr,tpr,label=\"data 1, auc=\"+str(auc))\n",
    "plt.legend(loc=4)\n",
    "plt.show()"
   ]
  },
  {
   "cell_type": "markdown",
   "metadata": {},
   "source": [
    "#### Hyper-parameter Tuning"
   ]
  },
  {
   "cell_type": "code",
   "execution_count": 37,
   "metadata": {
    "ExecuteTime": {
     "end_time": "2021-08-23T05:15:35.937282Z",
     "start_time": "2021-08-23T05:15:35.923316Z"
    }
   },
   "outputs": [
    {
     "data": {
      "text/plain": [
       "{'ccp_alpha': 0.0,\n",
       " 'class_weight': None,\n",
       " 'criterion': 'gini',\n",
       " 'max_depth': None,\n",
       " 'max_features': None,\n",
       " 'max_leaf_nodes': None,\n",
       " 'min_impurity_decrease': 0.0,\n",
       " 'min_impurity_split': None,\n",
       " 'min_samples_leaf': 1,\n",
       " 'min_samples_split': 2,\n",
       " 'min_weight_fraction_leaf': 0.0,\n",
       " 'presort': 'deprecated',\n",
       " 'random_state': None,\n",
       " 'splitter': 'best'}"
      ]
     },
     "execution_count": 37,
     "metadata": {},
     "output_type": "execute_result"
    }
   ],
   "source": [
    "model_DT.get_params() "
   ]
  },
  {
   "cell_type": "markdown",
   "metadata": {},
   "source": [
    "##### RandomizedSearchCV"
   ]
  },
  {
   "cell_type": "code",
   "execution_count": 38,
   "metadata": {
    "ExecuteTime": {
     "end_time": "2021-08-23T05:15:35.953235Z",
     "start_time": "2021-08-23T05:15:35.938247Z"
    }
   },
   "outputs": [],
   "source": [
    "from sklearn.model_selection import RandomizedSearchCV"
   ]
  },
  {
   "cell_type": "code",
   "execution_count": 39,
   "metadata": {
    "ExecuteTime": {
     "end_time": "2021-08-23T05:15:35.968167Z",
     "start_time": "2021-08-23T05:15:35.954232Z"
    }
   },
   "outputs": [],
   "source": [
    "\n",
    "# Number of trees in random forest\n",
    "#n_estimators = [int(x) for x in np.linspace(start = 200, stop = 2000, num = 10)]\n",
    "# Number of features to consider at every split\n",
    "max_features = ['auto', 'sqrt']\n",
    "# Maximum number of levels in tree\n",
    "max_depth = [int(x) for x in np.linspace(10, 110, num = 11)]\n",
    "max_depth.append(None)\n",
    "# Minimum number of samples required to split a node\n",
    "min_samples_split = [2, 5, 10]\n",
    "# Minimum number of samples required at each leaf node\n",
    "min_samples_leaf = [1, 2, 4]\n",
    "# Method of selecting samples for training each tree\n",
    "#bootstrap = [True, False]\n",
    "# Create the random grid\n",
    "random_grid = {'max_features': max_features,\n",
    "               'max_depth': max_depth,\n",
    "               'min_samples_split': min_samples_split,\n",
    "               'min_samples_leaf': min_samples_leaf}\n",
    "#'n_estimators': n_estimators,\n",
    "#'bootstrap': bootstrap\n",
    "# pprint(random_grid)\n",
    "# {'bootstrap': [True, False],\n",
    "#  'max_depth': [10, 20, 30, 40, 50, 60, 70, 80, 90, 100, None],\n",
    "#  'max_features': ['auto', 'sqrt'],\n",
    "#  'min_samples_leaf': [1, 2, 4],\n",
    "#  'min_samples_split': [2, 5, 10],\n",
    "#  'n_estimators': [200, 400, 600, 800, 1000, 1200, 1400, 1600, 1800, 2000]}"
   ]
  },
  {
   "cell_type": "code",
   "execution_count": 40,
   "metadata": {
    "ExecuteTime": {
     "end_time": "2021-08-23T05:16:57.953792Z",
     "start_time": "2021-08-23T05:15:35.969192Z"
    }
   },
   "outputs": [
    {
     "name": "stdout",
     "output_type": "stream",
     "text": [
      "Fitting 3 folds for each of 100 candidates, totalling 300 fits\n"
     ]
    },
    {
     "name": "stderr",
     "output_type": "stream",
     "text": [
      "[Parallel(n_jobs=-1)]: Using backend LokyBackend with 16 concurrent workers.\n",
      "[Parallel(n_jobs=-1)]: Done   9 tasks      | elapsed:    6.3s\n",
      "[Parallel(n_jobs=-1)]: Done 130 tasks      | elapsed:   38.6s\n",
      "[Parallel(n_jobs=-1)]: Done 300 out of 300 | elapsed:  1.3min finished\n"
     ]
    },
    {
     "data": {
      "text/plain": [
       "RandomizedSearchCV(cv=3, estimator=DecisionTreeClassifier(), n_iter=100,\n",
       "                   n_jobs=-1,\n",
       "                   param_distributions={'max_depth': [10, 20, 30, 40, 50, 60,\n",
       "                                                      70, 80, 90, 100, 110,\n",
       "                                                      None],\n",
       "                                        'max_features': ['auto', 'sqrt'],\n",
       "                                        'min_samples_leaf': [1, 2, 4],\n",
       "                                        'min_samples_split': [2, 5, 10]},\n",
       "                   random_state=42, verbose=2)"
      ]
     },
     "execution_count": 40,
     "metadata": {},
     "output_type": "execute_result"
    }
   ],
   "source": [
    "# Use the random grid to search for best hyperparameters\n",
    "# First create the base model to tune\n",
    "model_DT_RSCV = DecisionTreeClassifier()\n",
    "# Random search of parameters, using 3 fold cross validation, \n",
    "# search across 100 different combinations, and use all available cores\n",
    "model_DT_random = RandomizedSearchCV(estimator = model_DT_RSCV, param_distributions = random_grid, n_iter = 100, cv = 3, verbose=2, random_state=42, n_jobs = -1)\n",
    "# Fit the random search model\n",
    "model_DT_random.fit(X_train, y_train)"
   ]
  },
  {
   "cell_type": "code",
   "execution_count": 41,
   "metadata": {
    "ExecuteTime": {
     "end_time": "2021-08-23T05:16:58.202663Z",
     "start_time": "2021-08-23T05:16:57.954790Z"
    }
   },
   "outputs": [],
   "source": [
    "y_pred_RSCV_DT = model_DT_random.predict(X_test)"
   ]
  },
  {
   "cell_type": "code",
   "execution_count": 42,
   "metadata": {
    "ExecuteTime": {
     "end_time": "2021-08-23T05:16:58.234578Z",
     "start_time": "2021-08-23T05:16:58.203662Z"
    }
   },
   "outputs": [
    {
     "data": {
      "text/plain": [
       "array([10188,  1705,  2142, 14965], dtype=int64)"
      ]
     },
     "execution_count": 42,
     "metadata": {},
     "output_type": "execute_result"
    }
   ],
   "source": [
    "RSCV_DT_confusion_matrix = confusion_matrix(y_test, y_pred_RSCV_DT).ravel()\n",
    "RSCV_DT_confusion_matrix"
   ]
  },
  {
   "cell_type": "code",
   "execution_count": 43,
   "metadata": {
    "ExecuteTime": {
     "end_time": "2021-08-23T05:16:58.640492Z",
     "start_time": "2021-08-23T05:16:58.235576Z"
    }
   },
   "outputs": [
    {
     "data": {
      "image/png": "[encoded data removed]",
      "text/plain": [
       "<Figure size 600x600 with 2 Axes>"
      ]
     },
     "metadata": {},
     "output_type": "display_data"
    }
   ],
   "source": [
    "plot_confusion_matrix(model_DT_random, X_test, y_test)  \n",
    "plt.grid(False)\n",
    "plt.show() "
   ]
  },
  {
   "cell_type": "code",
   "execution_count": 44,
   "metadata": {
    "ExecuteTime": {
     "end_time": "2021-08-23T05:16:58.656449Z",
     "start_time": "2021-08-23T05:16:58.641490Z"
    }
   },
   "outputs": [
    {
     "data": {
      "text/plain": [
       "0.8673448275862069"
      ]
     },
     "execution_count": 44,
     "metadata": {},
     "output_type": "execute_result"
    }
   ],
   "source": [
    "\n",
    "accuracy_score(y_test, y_pred_RSCV_DT)"
   ]
  },
  {
   "cell_type": "code",
   "execution_count": 45,
   "metadata": {
    "ExecuteTime": {
     "end_time": "2021-08-23T05:16:58.702328Z",
     "start_time": "2021-08-23T05:16:58.657448Z"
    }
   },
   "outputs": [
    {
     "name": "stdout",
     "output_type": "stream",
     "text": [
      "Classification Report: \n",
      "               precision    recall  f1-score   support\n",
      "\n",
      "           0       0.83      0.86      0.84     11893\n",
      "           1       0.90      0.87      0.89     17107\n",
      "\n",
      "    accuracy                           0.87     29000\n",
      "   macro avg       0.86      0.87      0.86     29000\n",
      "weighted avg       0.87      0.87      0.87     29000\n",
      "\n"
     ]
    }
   ],
   "source": [
    "\n",
    "print(\"Classification Report: \\n\", classification_report(y_test, y_pred_RSCV_DT)) "
   ]
  },
  {
   "cell_type": "code",
   "execution_count": 46,
   "metadata": {
    "ExecuteTime": {
     "end_time": "2021-08-23T05:16:59.077324Z",
     "start_time": "2021-08-23T05:16:58.703325Z"
    }
   },
   "outputs": [
    {
     "data": {
      "image/png": "[encoded data removed]",
      "text/plain": [
       "<Figure size 600x600 with 1 Axes>"
      ]
     },
     "metadata": {},
     "output_type": "display_data"
    }
   ],
   "source": [
    "from sklearn import metrics\n",
    "y_pred_proba = model_DT_random.predict_proba(X_test)[::,1]\n",
    "fpr, tpr, _ = metrics.roc_curve(y_test,  y_pred_proba)\n",
    "auc = metrics.roc_auc_score(y_test, y_pred_proba)\n",
    "\n",
    "import matplotlib.pyplot as plt \n",
    "plt.plot(fpr,tpr,label=\"data 1, auc=\"+str(auc))\n",
    "plt.legend(loc=4)\n",
    "plt.show()"
   ]
  },
  {
   "cell_type": "code",
   "execution_count": null,
   "metadata": {},
   "outputs": [],
   "source": []
  },
  {
   "cell_type": "markdown",
   "metadata": {},
   "source": [
    "### Random Forest"
   ]
  },
  {
   "cell_type": "markdown",
   "metadata": {},
   "source": [
    "#### Modelling\n"
   ]
  },
  {
   "cell_type": "code",
   "execution_count": 47,
   "metadata": {
    "ExecuteTime": {
     "end_time": "2021-08-23T05:16:59.093281Z",
     "start_time": "2021-08-23T05:16:59.078321Z"
    }
   },
   "outputs": [],
   "source": [
    "from sklearn.ensemble import RandomForestClassifier"
   ]
  },
  {
   "cell_type": "code",
   "execution_count": 48,
   "metadata": {
    "ExecuteTime": {
     "end_time": "2021-08-23T05:16:59.109238Z",
     "start_time": "2021-08-23T05:16:59.094279Z"
    }
   },
   "outputs": [],
   "source": [
    "model_RF = RandomForestClassifier(max_depth=2)"
   ]
  },
  {
   "cell_type": "code",
   "execution_count": 49,
   "metadata": {
    "ExecuteTime": {
     "end_time": "2021-08-23T05:17:01.905783Z",
     "start_time": "2021-08-23T05:16:59.110236Z"
    }
   },
   "outputs": [
    {
     "data": {
      "text/plain": [
       "RandomForestClassifier(max_depth=2)"
      ]
     },
     "execution_count": 49,
     "metadata": {},
     "output_type": "execute_result"
    }
   ],
   "source": [
    "model_RF.fit(X_train, y_train)"
   ]
  },
  {
   "cell_type": "code",
   "execution_count": 50,
   "metadata": {
    "ExecuteTime": {
     "end_time": "2021-08-23T05:17:02.249134Z",
     "start_time": "2021-08-23T05:17:01.906782Z"
    }
   },
   "outputs": [],
   "source": [
    "y_pred_RF = model_RF.predict(X_test)"
   ]
  },
  {
   "cell_type": "code",
   "execution_count": 51,
   "metadata": {
    "ExecuteTime": {
     "end_time": "2021-08-23T05:17:02.281048Z",
     "start_time": "2021-08-23T05:17:02.250103Z"
    }
   },
   "outputs": [
    {
     "data": {
      "text/plain": [
       "array([ 7937,  3956,  1056, 16051], dtype=int64)"
      ]
     },
     "execution_count": 51,
     "metadata": {},
     "output_type": "execute_result"
    }
   ],
   "source": [
    "RF_confusion_matrix = confusion_matrix(y_test, y_pred_RF).ravel()\n",
    "RF_confusion_matrix"
   ]
  },
  {
   "cell_type": "code",
   "execution_count": 52,
   "metadata": {
    "ExecuteTime": {
     "end_time": "2021-08-23T05:17:03.127030Z",
     "start_time": "2021-08-23T05:17:02.282056Z"
    }
   },
   "outputs": [
    {
     "data": {
      "image/png": "[encoded data removed]",
      "text/plain": [
       "<Figure size 600x600 with 2 Axes>"
      ]
     },
     "metadata": {},
     "output_type": "display_data"
    }
   ],
   "source": [
    "plot_confusion_matrix(model_RF, X_test, y_test)  \n",
    "plt.grid(False)\n",
    "plt.show() "
   ]
  },
  {
   "cell_type": "markdown",
   "metadata": {},
   "source": [
    "#### Evaluation Metrics"
   ]
  },
  {
   "cell_type": "code",
   "execution_count": 53,
   "metadata": {
    "ExecuteTime": {
     "end_time": "2021-08-23T05:17:03.142990Z",
     "start_time": "2021-08-23T05:17:03.128001Z"
    }
   },
   "outputs": [],
   "source": [
    "metric_RF = {}\n",
    "metric_RF['model_name'] = 'Random Forest'\n",
    "metric_RF['TN'] = RF_confusion_matrix[0]\n",
    "metric_RF['FP'] = RF_confusion_matrix[1]\n",
    "metric_RF['FN'] = RF_confusion_matrix[2]\n",
    "metric_RF['TP'] = RF_confusion_matrix[3]\n",
    "\n",
    "metric_RF['model'] = model_RF"
   ]
  },
  {
   "cell_type": "code",
   "execution_count": null,
   "metadata": {},
   "outputs": [],
   "source": []
  },
  {
   "cell_type": "raw",
   "metadata": {},
   "source": []
  },
  {
   "cell_type": "markdown",
   "metadata": {},
   "source": [
    "##### Accuracy"
   ]
  },
  {
   "cell_type": "code",
   "execution_count": 54,
   "metadata": {
    "ExecuteTime": {
     "end_time": "2021-08-23T05:17:03.329221Z",
     "start_time": "2021-08-23T05:17:03.143957Z"
    }
   },
   "outputs": [
    {
     "data": {
      "text/plain": [
       "0.8271724137931035"
      ]
     },
     "execution_count": 54,
     "metadata": {},
     "output_type": "execute_result"
    }
   ],
   "source": [
    "\n",
    "accuracy_score(y_test, y_pred_RF)"
   ]
  },
  {
   "cell_type": "markdown",
   "metadata": {},
   "source": [
    "##### Misclassification Rate"
   ]
  },
  {
   "cell_type": "code",
   "execution_count": 55,
   "metadata": {
    "ExecuteTime": {
     "end_time": "2021-08-23T05:17:03.452890Z",
     "start_time": "2021-08-23T05:17:03.330216Z"
    }
   },
   "outputs": [
    {
     "name": "stdout",
     "output_type": "stream",
     "text": [
      "Classification Report: \n",
      "               precision    recall  f1-score   support\n",
      "\n",
      "           0       0.88      0.67      0.76     11893\n",
      "           1       0.80      0.94      0.86     17107\n",
      "\n",
      "    accuracy                           0.83     29000\n",
      "   macro avg       0.84      0.80      0.81     29000\n",
      "weighted avg       0.84      0.83      0.82     29000\n",
      "\n"
     ]
    }
   ],
   "source": [
    "\n",
    "print(\"Classification Report: \\n\", classification_report(y_test, y_pred_RF)) "
   ]
  },
  {
   "cell_type": "markdown",
   "metadata": {},
   "source": [
    "##### Sensitivity"
   ]
  },
  {
   "cell_type": "markdown",
   "metadata": {},
   "source": [
    "##### Specificity"
   ]
  },
  {
   "cell_type": "markdown",
   "metadata": {},
   "source": [
    "##### F1 Score"
   ]
  },
  {
   "cell_type": "markdown",
   "metadata": {},
   "source": [
    "##### ROC and AUC – Area Under the Curve"
   ]
  },
  {
   "cell_type": "code",
   "execution_count": 56,
   "metadata": {
    "ExecuteTime": {
     "end_time": "2021-08-23T05:17:03.953552Z",
     "start_time": "2021-08-23T05:17:03.453891Z"
    }
   },
   "outputs": [
    {
     "data": {
      "image/png": "[encoded data removed]",
      "text/plain": [
       "<Figure size 600x600 with 1 Axes>"
      ]
     },
     "metadata": {},
     "output_type": "display_data"
    }
   ],
   "source": [
    "from sklearn import metrics\n",
    "y_pred_proba = model_RF.predict_proba(X_test)[::,1]\n",
    "fpr, tpr, _ = metrics.roc_curve(y_test,  y_pred_proba)\n",
    "auc = metrics.roc_auc_score(y_test, y_pred_proba)\n",
    "\n",
    "import matplotlib.pyplot as plt \n",
    "plt.plot(fpr,tpr,label=\"data 1, auc=\"+str(auc))\n",
    "plt.legend(loc=4)\n",
    "plt.show()"
   ]
  },
  {
   "cell_type": "markdown",
   "metadata": {},
   "source": [
    "#### Hyper-parameter Tuning"
   ]
  },
  {
   "cell_type": "code",
   "execution_count": 57,
   "metadata": {
    "ExecuteTime": {
     "end_time": "2021-08-23T05:17:03.969507Z",
     "start_time": "2021-08-23T05:17:03.954552Z"
    }
   },
   "outputs": [
    {
     "data": {
      "text/plain": [
       "{'bootstrap': True,\n",
       " 'ccp_alpha': 0.0,\n",
       " 'class_weight': None,\n",
       " 'criterion': 'gini',\n",
       " 'max_depth': 2,\n",
       " 'max_features': 'auto',\n",
       " 'max_leaf_nodes': None,\n",
       " 'max_samples': None,\n",
       " 'min_impurity_decrease': 0.0,\n",
       " 'min_impurity_split': None,\n",
       " 'min_samples_leaf': 1,\n",
       " 'min_samples_split': 2,\n",
       " 'min_weight_fraction_leaf': 0.0,\n",
       " 'n_estimators': 100,\n",
       " 'n_jobs': None,\n",
       " 'oob_score': False,\n",
       " 'random_state': None,\n",
       " 'verbose': 0,\n",
       " 'warm_start': False}"
      ]
     },
     "execution_count": 57,
     "metadata": {},
     "output_type": "execute_result"
    }
   ],
   "source": [
    "model_RF.get_params()  "
   ]
  },
  {
   "cell_type": "code",
   "execution_count": 58,
   "metadata": {
    "ExecuteTime": {
     "end_time": "2021-08-23T05:17:04.094174Z",
     "start_time": "2021-08-23T05:17:03.970507Z"
    }
   },
   "outputs": [],
   "source": [
    "\n",
    "# Number of trees in random forest\n",
    "n_estimators = [int(x) for x in np.linspace(start = 200, stop = 2000, num = 10)]\n",
    "# Number of features to consider at every split\n",
    "max_features = ['auto', 'sqrt']\n",
    "# Maximum number of levels in tree\n",
    "max_depth = [int(x) for x in np.linspace(10, 110, num = 11)]\n",
    "max_depth.append(None)\n",
    "# Minimum number of samples required to split a node\n",
    "min_samples_split = [2, 5, 10, 20]\n",
    "# Minimum number of samples required at each leaf node\n",
    "min_samples_leaf = [1, 2, 4, 8]\n",
    "# Method of selecting samples for training each tree\n",
    "bootstrap = [True, False]\n",
    "# Create the random grid\n",
    "random_grid1 = {'n_estimators': n_estimators,\n",
    "               'max_features': max_features,\n",
    "               'max_depth': max_depth,\n",
    "               'min_samples_split': min_samples_split,\n",
    "               'min_samples_leaf': min_samples_leaf,\n",
    "               'bootstrap': bootstrap}\n",
    "#'n_estimators': n_estimators,\n",
    "#'bootstrap': bootstrap\n",
    "# pprint(random_grid)\n",
    "# {'bootstrap': [True, False],\n",
    "#  'max_depth': [10, 20, 30, 40, 50, 60, 70, 80, 90, 100, None],\n",
    "#  'max_features': ['auto', 'sqrt'],\n",
    "#  'min_samples_leaf': [1, 2, 4],\n",
    "#  'min_samples_split': [2, 5, 10],\n",
    "#  'n_estimators': [200, 400, 600, 800, 1000, 1200, 1400, 1600, 1800, 2000]}"
   ]
  },
  {
   "cell_type": "code",
   "execution_count": 61,
   "metadata": {
    "ExecuteTime": {
     "end_time": "2021-08-23T05:18:22.592325Z",
     "start_time": "2021-08-23T05:18:22.576368Z"
    }
   },
   "outputs": [],
   "source": [
    "import gc"
   ]
  },
  {
   "cell_type": "code",
   "execution_count": 62,
   "metadata": {
    "ExecuteTime": {
     "end_time": "2021-08-23T05:18:34.779302Z",
     "start_time": "2021-08-23T05:18:34.657627Z"
    }
   },
   "outputs": [
    {
     "data": {
      "text/plain": [
       "2642"
      ]
     },
     "execution_count": 62,
     "metadata": {},
     "output_type": "execute_result"
    }
   ],
   "source": [
    "gc.collect() "
   ]
  },
  {
   "cell_type": "code",
   "execution_count": 64,
   "metadata": {
    "ExecuteTime": {
     "end_time": "2021-08-23T08:04:52.750726Z",
     "start_time": "2021-08-23T05:19:02.929824Z"
    }
   },
   "outputs": [
    {
     "name": "stdout",
     "output_type": "stream",
     "text": [
      "Fitting 3 folds for each of 100 candidates, totalling 300 fits\n"
     ]
    },
    {
     "name": "stderr",
     "output_type": "stream",
     "text": [
      "[Parallel(n_jobs=12)]: Using backend LokyBackend with 12 concurrent workers.\n",
      "[Parallel(n_jobs=12)]: Done  17 tasks      | elapsed: 15.2min\n",
      "[Parallel(n_jobs=12)]: Done 138 tasks      | elapsed: 85.9min\n",
      "[Parallel(n_jobs=12)]: Done 300 out of 300 | elapsed: 162.7min finished\n"
     ]
    },
    {
     "data": {
      "text/plain": [
       "RandomizedSearchCV(cv=3, estimator=RandomForestClassifier(), n_iter=100,\n",
       "                   n_jobs=12,\n",
       "                   param_distributions={'bootstrap': [True, False],\n",
       "                                        'max_depth': [10, 20, 30, 40, 50, 60,\n",
       "                                                      70, 80, 90, 100, 110,\n",
       "                                                      None],\n",
       "                                        'max_features': ['auto', 'sqrt'],\n",
       "                                        'min_samples_leaf': [1, 2, 4, 8],\n",
       "                                        'min_samples_split': [2, 5, 10, 20],\n",
       "                                        'n_estimators': [200, 400, 600, 800,\n",
       "                                                         1000, 1200, 1400, 1600,\n",
       "                                                         1800, 2000]},\n",
       "                   random_state=42, verbose=2)"
      ]
     },
     "execution_count": 64,
     "metadata": {},
     "output_type": "execute_result"
    }
   ],
   "source": [
    "# Use the random grid to search for best hyperparameters\n",
    "# First create the base model to tune\n",
    "model_RF_RSCV = RandomForestClassifier()\n",
    "# Random search of parameters, using 3 fold cross validation, \n",
    "# search across 100 different combinations, and use all available cores\n",
    "model_RF_random = RandomizedSearchCV(estimator = model_RF_RSCV, param_distributions = random_grid1, n_iter = 100, cv = 3, verbose=2, random_state=42, n_jobs = 12)\n",
    "# Fit the random search model\n",
    "model_RF_random.fit(X_train, y_train)"
   ]
  },
  {
   "cell_type": "code",
   "execution_count": 65,
   "metadata": {
    "ExecuteTime": {
     "end_time": "2021-08-23T08:04:56.689687Z",
     "start_time": "2021-08-23T08:04:52.751745Z"
    }
   },
   "outputs": [],
   "source": [
    "y_pred_RSCV_RF = model_RF_random.predict(X_test)"
   ]
  },
  {
   "cell_type": "code",
   "execution_count": 66,
   "metadata": {
    "ExecuteTime": {
     "end_time": "2021-08-23T08:04:56.721532Z",
     "start_time": "2021-08-23T08:04:56.690615Z"
    }
   },
   "outputs": [
    {
     "data": {
      "text/plain": [
       "array([10859,  1034,  1235, 15872], dtype=int64)"
      ]
     },
     "execution_count": 66,
     "metadata": {},
     "output_type": "execute_result"
    }
   ],
   "source": [
    "RSCV_RF_confusion_matrix = confusion_matrix(y_test, y_pred_RSCV_RF).ravel()\n",
    "RSCV_RF_confusion_matrix"
   ]
  },
  {
   "cell_type": "code",
   "execution_count": 67,
   "metadata": {
    "ExecuteTime": {
     "end_time": "2021-08-23T08:05:00.827518Z",
     "start_time": "2021-08-23T08:04:56.722504Z"
    }
   },
   "outputs": [
    {
     "data": {
      "image/png": "[encoded data removed]",
      "text/plain": [
       "<Figure size 600x600 with 2 Axes>"
      ]
     },
     "metadata": {},
     "output_type": "display_data"
    }
   ],
   "source": [
    "plot_confusion_matrix(model_RF_random, X_test, y_test)  \n",
    "plt.grid(False)\n",
    "plt.show() "
   ]
  },
  {
   "cell_type": "code",
   "execution_count": 68,
   "metadata": {
    "ExecuteTime": {
     "end_time": "2021-08-23T08:05:00.843476Z",
     "start_time": "2021-08-23T08:05:00.828516Z"
    }
   },
   "outputs": [
    {
     "data": {
      "text/plain": [
       "0.9217586206896552"
      ]
     },
     "execution_count": 68,
     "metadata": {},
     "output_type": "execute_result"
    }
   ],
   "source": [
    "\n",
    "accuracy_score(y_test, y_pred_RSCV_RF)"
   ]
  },
  {
   "cell_type": "code",
   "execution_count": 69,
   "metadata": {
    "ExecuteTime": {
     "end_time": "2021-08-23T08:05:00.891348Z",
     "start_time": "2021-08-23T08:05:00.844474Z"
    }
   },
   "outputs": [
    {
     "name": "stdout",
     "output_type": "stream",
     "text": [
      "Classification Report: \n",
      "               precision    recall  f1-score   support\n",
      "\n",
      "           0       0.90      0.91      0.91     11893\n",
      "           1       0.94      0.93      0.93     17107\n",
      "\n",
      "    accuracy                           0.92     29000\n",
      "   macro avg       0.92      0.92      0.92     29000\n",
      "weighted avg       0.92      0.92      0.92     29000\n",
      "\n"
     ]
    }
   ],
   "source": [
    "\n",
    "print(\"Classification Report: \\n\", classification_report(y_test, y_pred_RSCV_RF)) "
   ]
  },
  {
   "cell_type": "code",
   "execution_count": 70,
   "metadata": {
    "ExecuteTime": {
     "end_time": "2021-08-23T08:05:04.920595Z",
     "start_time": "2021-08-23T08:05:00.892388Z"
    }
   },
   "outputs": [
    {
     "data": {
      "image/png": "[encoded data removed]",
      "text/plain": [
       "<Figure size 600x600 with 1 Axes>"
      ]
     },
     "metadata": {},
     "output_type": "display_data"
    }
   ],
   "source": [
    "from sklearn import metrics\n",
    "y_pred_proba = model_RF_random.predict_proba(X_test)[::,1]\n",
    "fpr, tpr, _ = metrics.roc_curve(y_test,  y_pred_proba)\n",
    "auc = metrics.roc_auc_score(y_test, y_pred_proba)\n",
    "\n",
    "import matplotlib.pyplot as plt \n",
    "plt.plot(fpr,tpr,label=\"data 1, auc=\"+str(auc))\n",
    "plt.legend(loc=4)\n",
    "plt.show()"
   ]
  },
  {
   "cell_type": "markdown",
   "metadata": {},
   "source": [
    "### Support Vector Machine"
   ]
  },
  {
   "cell_type": "markdown",
   "metadata": {},
   "source": [
    "#### Modelling\n"
   ]
  },
  {
   "cell_type": "code",
   "execution_count": 71,
   "metadata": {
    "ExecuteTime": {
     "end_time": "2021-08-23T08:05:04.936552Z",
     "start_time": "2021-08-23T08:05:04.922592Z"
    }
   },
   "outputs": [],
   "source": [
    "from sklearn import svm\n"
   ]
  },
  {
   "cell_type": "code",
   "execution_count": 72,
   "metadata": {
    "ExecuteTime": {
     "end_time": "2021-08-23T08:29:18.515047Z",
     "start_time": "2021-08-23T08:05:04.937547Z"
    }
   },
   "outputs": [
    {
     "data": {
      "text/plain": [
       "SVC()"
      ]
     },
     "execution_count": 72,
     "metadata": {},
     "output_type": "execute_result"
    }
   ],
   "source": [
    "model_SVC = svm.SVC()\n",
    "model_SVC.fit(X_train, y_train)\n"
   ]
  },
  {
   "cell_type": "code",
   "execution_count": 73,
   "metadata": {
    "ExecuteTime": {
     "end_time": "2021-08-23T08:33:08.375415Z",
     "start_time": "2021-08-23T08:29:18.516060Z"
    }
   },
   "outputs": [],
   "source": [
    "y_pred_SVC = model_SVC.predict(X_test)"
   ]
  },
  {
   "cell_type": "code",
   "execution_count": 74,
   "metadata": {
    "ExecuteTime": {
     "end_time": "2021-08-23T08:33:08.407242Z",
     "start_time": "2021-08-23T08:33:08.376325Z"
    }
   },
   "outputs": [
    {
     "data": {
      "text/plain": [
       "array([10746,  1147,  1448, 15659], dtype=int64)"
      ]
     },
     "execution_count": 74,
     "metadata": {},
     "output_type": "execute_result"
    }
   ],
   "source": [
    "SVC_confusion_matrix = confusion_matrix(y_test, y_pred_SVC).ravel()\n",
    "SVC_confusion_matrix"
   ]
  },
  {
   "cell_type": "code",
   "execution_count": 75,
   "metadata": {
    "ExecuteTime": {
     "end_time": "2021-08-23T08:33:08.423199Z",
     "start_time": "2021-08-23T08:33:08.408238Z"
    }
   },
   "outputs": [],
   "source": [
    "#### Evaluation Metrics"
   ]
  },
  {
   "cell_type": "code",
   "execution_count": 76,
   "metadata": {
    "ExecuteTime": {
     "end_time": "2021-08-23T08:33:08.439156Z",
     "start_time": "2021-08-23T08:33:08.424196Z"
    }
   },
   "outputs": [],
   "source": [
    "metric_SVC = {}\n",
    "metric_SVC['model_name'] = 'Support Vector Classifier'\n",
    "metric_SVC['TN'] = SVC_confusion_matrix[0]\n",
    "metric_SVC['FP'] = SVC_confusion_matrix[1]\n",
    "metric_SVC['FN'] = SVC_confusion_matrix[2]\n",
    "metric_SVC['TP'] = SVC_confusion_matrix[3]\n",
    "\n",
    "metric_SVC['model'] = model_SVC"
   ]
  },
  {
   "cell_type": "code",
   "execution_count": 77,
   "metadata": {
    "ExecuteTime": {
     "end_time": "2021-08-23T08:33:08.454116Z",
     "start_time": "2021-08-23T08:33:08.440170Z"
    }
   },
   "outputs": [
    {
     "data": {
      "text/plain": [
       "{'model_name': 'Support Vector Classifier',\n",
       " 'TN': 10746,\n",
       " 'FP': 1147,\n",
       " 'FN': 1448,\n",
       " 'TP': 15659,\n",
       " 'model': SVC()}"
      ]
     },
     "execution_count": 77,
     "metadata": {},
     "output_type": "execute_result"
    }
   ],
   "source": [
    "metric_SVC"
   ]
  },
  {
   "cell_type": "code",
   "execution_count": 78,
   "metadata": {
    "ExecuteTime": {
     "end_time": "2021-08-23T08:36:58.503749Z",
     "start_time": "2021-08-23T08:33:08.455113Z"
    }
   },
   "outputs": [
    {
     "data": {
      "image/png": "[encoded data removed]",
      "text/plain": [
       "<Figure size 600x600 with 2 Axes>"
      ]
     },
     "metadata": {},
     "output_type": "display_data"
    }
   ],
   "source": [
    "plot_confusion_matrix(model_SVC, X_test, y_test)  \n",
    "plt.grid(False)\n",
    "plt.show()  "
   ]
  },
  {
   "cell_type": "code",
   "execution_count": 79,
   "metadata": {
    "ExecuteTime": {
     "end_time": "2021-08-23T08:36:58.518709Z",
     "start_time": "2021-08-23T08:36:58.504747Z"
    }
   },
   "outputs": [
    {
     "data": {
      "text/plain": [
       "0.9105172413793103"
      ]
     },
     "execution_count": 79,
     "metadata": {},
     "output_type": "execute_result"
    }
   ],
   "source": [
    "accuracy_score(y_test, y_pred_SVC)"
   ]
  },
  {
   "cell_type": "markdown",
   "metadata": {},
   "source": [
    "##### Accuracy"
   ]
  },
  {
   "cell_type": "markdown",
   "metadata": {},
   "source": [
    "##### Misclassification Rate"
   ]
  },
  {
   "cell_type": "code",
   "execution_count": 80,
   "metadata": {
    "ExecuteTime": {
     "end_time": "2021-08-23T08:36:58.565585Z",
     "start_time": "2021-08-23T08:36:58.519707Z"
    }
   },
   "outputs": [
    {
     "name": "stdout",
     "output_type": "stream",
     "text": [
      "Classification Report: \n",
      "               precision    recall  f1-score   support\n",
      "\n",
      "           0       0.88      0.90      0.89     11893\n",
      "           1       0.93      0.92      0.92     17107\n",
      "\n",
      "    accuracy                           0.91     29000\n",
      "   macro avg       0.91      0.91      0.91     29000\n",
      "weighted avg       0.91      0.91      0.91     29000\n",
      "\n"
     ]
    }
   ],
   "source": [
    "print(\"Classification Report: \\n\", classification_report(y_test, y_pred_SVC))  "
   ]
  },
  {
   "cell_type": "markdown",
   "metadata": {},
   "source": [
    "##### Sensitivity"
   ]
  },
  {
   "cell_type": "markdown",
   "metadata": {},
   "source": [
    "##### Specificity"
   ]
  },
  {
   "cell_type": "markdown",
   "metadata": {},
   "source": [
    "##### F1 Score"
   ]
  },
  {
   "cell_type": "markdown",
   "metadata": {},
   "source": [
    "##### ROC and AUC – Area Under the Curve"
   ]
  },
  {
   "cell_type": "code",
   "execution_count": 90,
   "metadata": {
    "ExecuteTime": {
     "end_time": "2021-08-23T08:44:52.562240Z",
     "start_time": "2021-08-23T08:41:01.280909Z"
    }
   },
   "outputs": [
    {
     "data": {
      "image/png": "[encoded data removed]",
      "text/plain": [
       "<Figure size 600x600 with 1 Axes>"
      ]
     },
     "metadata": {},
     "output_type": "display_data"
    }
   ],
   "source": [
    "y_pred_proba = model_SVC.predict(X_test)\n",
    "fpr, tpr, _ = metrics.roc_curve(y_test,  y_pred_proba)\n",
    "auc = metrics.roc_auc_score(y_test, y_pred_proba)\n",
    "\n",
    "\n",
    "plt.plot(fpr,tpr,label=\"data 1, auc=\"+str(auc))\n",
    "plt.legend(loc=4)\n",
    "plt.show()"
   ]
  },
  {
   "cell_type": "markdown",
   "metadata": {},
   "source": [
    "#### Hyper-parameter Tuning"
   ]
  },
  {
   "cell_type": "markdown",
   "metadata": {},
   "source": [
    "### XGBoost"
   ]
  },
  {
   "cell_type": "markdown",
   "metadata": {},
   "source": [
    "#### Modelling\n"
   ]
  },
  {
   "cell_type": "code",
   "execution_count": 92,
   "metadata": {
    "ExecuteTime": {
     "end_time": "2021-08-23T08:44:52.593130Z",
     "start_time": "2021-08-23T08:44:52.578170Z"
    }
   },
   "outputs": [
    {
     "data": {
      "text/plain": [
       "296"
      ]
     },
     "execution_count": 92,
     "metadata": {},
     "output_type": "execute_result"
    }
   ],
   "source": [
    "len(X_train.columns) "
   ]
  },
  {
   "cell_type": "code",
   "execution_count": 94,
   "metadata": {
    "ExecuteTime": {
     "end_time": "2021-08-23T08:44:52.624077Z",
     "start_time": "2021-08-23T08:44:52.610085Z"
    }
   },
   "outputs": [],
   "source": [
    "duplicate_columns = data.columns[data.columns.duplicated()] "
   ]
  },
  {
   "cell_type": "code",
   "execution_count": 96,
   "metadata": {
    "ExecuteTime": {
     "end_time": "2021-08-23T08:44:52.655962Z",
     "start_time": "2021-08-23T08:44:52.641002Z"
    }
   },
   "outputs": [
    {
     "data": {
      "text/plain": [
       "Index([], dtype='object')"
      ]
     },
     "execution_count": 96,
     "metadata": {},
     "output_type": "execute_result"
    }
   ],
   "source": [
    "duplicate_columns "
   ]
  },
  {
   "cell_type": "code",
   "execution_count": null,
   "metadata": {},
   "outputs": [],
   "source": []
  },
  {
   "cell_type": "code",
   "execution_count": 98,
   "metadata": {
    "ExecuteTime": {
     "end_time": "2021-08-23T08:45:02.156542Z",
     "start_time": "2021-08-23T08:44:52.703834Z"
    }
   },
   "outputs": [
    {
     "name": "stdout",
     "output_type": "stream",
     "text": [
      "[14:14:53] WARNING: C:/Users/Administrator/workspace/xgboost-win64_release_1.3.0/src/learner.cc:1061: Starting in XGBoost 1.3.0, the default evaluation metric used with the objective 'binary:logistic' was changed from 'error' to 'logloss'. Explicitly set eval_metric if you'd like to restore the old behavior.\n"
     ]
    },
    {
     "data": {
      "text/plain": [
       "XGBClassifier(base_score=0.5, booster='gbtree', colsample_bylevel=1,\n",
       "              colsample_bynode=1, colsample_bytree=1, gamma=0, gpu_id=-1,\n",
       "              importance_type='gain', interaction_constraints='',\n",
       "              learning_rate=0.300000012, max_delta_step=0, max_depth=6,\n",
       "              min_child_weight=1, missing=nan, monotone_constraints='()',\n",
       "              n_estimators=100, n_jobs=16, num_parallel_tree=1, random_state=0,\n",
       "              reg_alpha=0, reg_lambda=1, scale_pos_weight=1, subsample=1,\n",
       "              tree_method='exact', validate_parameters=1, verbosity=None)"
      ]
     },
     "execution_count": 98,
     "metadata": {},
     "output_type": "execute_result"
    }
   ],
   "source": [
    "import xgboost as xgb \n",
    "from numpy import loadtxt\n",
    "from xgboost import plot_importance\n",
    "\n",
    "\n",
    "# fit model no training data\n",
    "model_xgb = xgb.XGBClassifier()\n",
    "model_xgb.fit(X_train, y_train)"
   ]
  },
  {
   "cell_type": "code",
   "execution_count": 105,
   "metadata": {
    "ExecuteTime": {
     "end_time": "2021-08-23T08:45:42.155386Z",
     "start_time": "2021-08-23T08:45:41.803328Z"
    }
   },
   "outputs": [],
   "source": [
    "y_pred_xgb = model_xgb.predict(X_test)"
   ]
  },
  {
   "cell_type": "code",
   "execution_count": 106,
   "metadata": {
    "ExecuteTime": {
     "end_time": "2021-08-23T08:45:42.342597Z",
     "start_time": "2021-08-23T08:45:42.315670Z"
    }
   },
   "outputs": [
    {
     "data": {
      "text/plain": [
       "array([11249,   644,   821, 16286], dtype=int64)"
      ]
     },
     "execution_count": 106,
     "metadata": {},
     "output_type": "execute_result"
    }
   ],
   "source": [
    "xgb_confusion_matrix = confusion_matrix(y_test, y_pred_xgb).ravel()\n",
    "xgb_confusion_matrix"
   ]
  },
  {
   "cell_type": "code",
   "execution_count": 107,
   "metadata": {
    "ExecuteTime": {
     "end_time": "2021-08-23T08:45:44.952677Z",
     "start_time": "2021-08-23T08:45:44.443005Z"
    }
   },
   "outputs": [
    {
     "data": {
      "image/png": "[encoded data removed]",
      "text/plain": [
       "<Figure size 600x600 with 2 Axes>"
      ]
     },
     "metadata": {},
     "output_type": "display_data"
    }
   ],
   "source": [
    "plot_confusion_matrix(model_xgb, X_test, y_test)  \n",
    "plt.grid(False)\n",
    "plt.show()  "
   ]
  },
  {
   "cell_type": "markdown",
   "metadata": {},
   "source": [
    "#### Evaluation Metrics"
   ]
  },
  {
   "cell_type": "code",
   "execution_count": 108,
   "metadata": {
    "ExecuteTime": {
     "end_time": "2021-08-23T08:45:46.731454Z",
     "start_time": "2021-08-23T08:45:46.713502Z"
    }
   },
   "outputs": [],
   "source": [
    "metric_xgb = {}\n",
    "metric_xgb['model_name'] = 'XGB Classifier'\n",
    "metric_xgb['TN'] = xgb_confusion_matrix[0]\n",
    "metric_xgb['FP'] = xgb_confusion_matrix[1]\n",
    "metric_xgb['FN'] = xgb_confusion_matrix[2]\n",
    "metric_xgb['TP'] = xgb_confusion_matrix[3]\n",
    "\n",
    "metric_xgb['model'] = model_xgb"
   ]
  },
  {
   "cell_type": "code",
   "execution_count": 109,
   "metadata": {
    "ExecuteTime": {
     "end_time": "2021-08-23T08:45:47.356364Z",
     "start_time": "2021-08-23T08:45:47.340408Z"
    }
   },
   "outputs": [
    {
     "data": {
      "text/plain": [
       "{'model_name': 'XGB Classifier',\n",
       " 'TN': 11249,\n",
       " 'FP': 644,\n",
       " 'FN': 821,\n",
       " 'TP': 16286,\n",
       " 'model': XGBClassifier(base_score=0.5, booster='gbtree', colsample_bylevel=1,\n",
       "               colsample_bynode=1, colsample_bytree=1, gamma=0, gpu_id=-1,\n",
       "               importance_type='gain', interaction_constraints='',\n",
       "               learning_rate=0.300000012, max_delta_step=0, max_depth=6,\n",
       "               min_child_weight=1, missing=nan, monotone_constraints='()',\n",
       "               n_estimators=100, n_jobs=16, num_parallel_tree=1, random_state=0,\n",
       "               reg_alpha=0, reg_lambda=1, scale_pos_weight=1, subsample=1,\n",
       "               tree_method='exact', validate_parameters=1, verbosity=None)}"
      ]
     },
     "execution_count": 109,
     "metadata": {},
     "output_type": "execute_result"
    }
   ],
   "source": [
    "metric_xgb"
   ]
  },
  {
   "cell_type": "code",
   "execution_count": 110,
   "metadata": {
    "ExecuteTime": {
     "end_time": "2021-08-23T08:45:47.939700Z",
     "start_time": "2021-08-23T08:45:47.930723Z"
    }
   },
   "outputs": [],
   "source": [
    "# results = model_xgb.evals_result()"
   ]
  },
  {
   "cell_type": "markdown",
   "metadata": {},
   "source": [
    "##### Accuracy"
   ]
  },
  {
   "cell_type": "code",
   "execution_count": 111,
   "metadata": {
    "ExecuteTime": {
     "end_time": "2021-08-23T08:45:49.341843Z",
     "start_time": "2021-08-23T08:45:49.321868Z"
    }
   },
   "outputs": [
    {
     "data": {
      "text/plain": [
       "0.9494827586206896"
      ]
     },
     "execution_count": 111,
     "metadata": {},
     "output_type": "execute_result"
    }
   ],
   "source": [
    "accuracy_score(y_test, y_pred_xgb)"
   ]
  },
  {
   "cell_type": "markdown",
   "metadata": {},
   "source": [
    "##### Misclassification Rate"
   ]
  },
  {
   "cell_type": "code",
   "execution_count": 112,
   "metadata": {
    "ExecuteTime": {
     "end_time": "2021-08-23T08:45:50.582938Z",
     "start_time": "2021-08-23T08:45:50.538058Z"
    }
   },
   "outputs": [
    {
     "name": "stdout",
     "output_type": "stream",
     "text": [
      "Classification Report: \n",
      "               precision    recall  f1-score   support\n",
      "\n",
      "           0       0.93      0.95      0.94     11893\n",
      "           1       0.96      0.95      0.96     17107\n",
      "\n",
      "    accuracy                           0.95     29000\n",
      "   macro avg       0.95      0.95      0.95     29000\n",
      "weighted avg       0.95      0.95      0.95     29000\n",
      "\n"
     ]
    }
   ],
   "source": [
    "print(\"Classification Report: \\n\", classification_report(y_test, y_pred_xgb))  "
   ]
  },
  {
   "cell_type": "markdown",
   "metadata": {},
   "source": [
    "##### Sensitivity"
   ]
  },
  {
   "cell_type": "markdown",
   "metadata": {},
   "source": [
    "##### Specificity"
   ]
  },
  {
   "cell_type": "markdown",
   "metadata": {},
   "source": [
    "##### F1 Score"
   ]
  },
  {
   "cell_type": "markdown",
   "metadata": {},
   "source": [
    "##### ROC and AUC – Area Under the Curve"
   ]
  },
  {
   "cell_type": "code",
   "execution_count": 113,
   "metadata": {
    "ExecuteTime": {
     "end_time": "2021-08-23T08:45:59.140228Z",
     "start_time": "2021-08-23T08:45:58.651536Z"
    }
   },
   "outputs": [
    {
     "data": {
      "image/png": "[encoded data removed]",
      "text/plain": [
       "<Figure size 600x600 with 1 Axes>"
      ]
     },
     "metadata": {},
     "output_type": "display_data"
    }
   ],
   "source": [
    "\n",
    "y_pred_proba = model_xgb.predict_proba(X_test)[::,1]\n",
    "fpr, tpr, _ = metrics.roc_curve(y_test,  y_pred_proba)\n",
    "auc = metrics.roc_auc_score(y_test, y_pred_proba)\n",
    "\n",
    "\n",
    "plt.plot(fpr,tpr,label=\"data 1, auc=\"+str(auc))\n",
    "plt.legend(loc=4)\n",
    "plt.show()"
   ]
  },
  {
   "cell_type": "markdown",
   "metadata": {
    "ExecuteTime": {
     "end_time": "2021-07-28T21:40:22.741740Z",
     "start_time": "2021-07-28T21:40:22.725833Z"
    }
   },
   "source": [
    "##### plot_importance() Graph"
   ]
  },
  {
   "cell_type": "code",
   "execution_count": 114,
   "metadata": {
    "ExecuteTime": {
     "end_time": "2021-08-23T08:46:00.092966Z",
     "start_time": "2021-08-23T08:45:59.835686Z"
    }
   },
   "outputs": [
    {
     "data": {
      "image/png": "[encoded data removed]",
      "text/plain": [
       "<Figure size 600x600 with 1 Axes>"
      ]
     },
     "metadata": {},
     "output_type": "display_data"
    }
   ],
   "source": [
    "from matplotlib import pyplot\n",
    "plot_importance(model_xgb, max_num_features=20, height=0.8)\n",
    "pyplot.show()"
   ]
  },
  {
   "cell_type": "code",
   "execution_count": null,
   "metadata": {},
   "outputs": [],
   "source": []
  },
  {
   "cell_type": "markdown",
   "metadata": {},
   "source": [
    "#### Hyper-parameter Tuning"
   ]
  },
  {
   "cell_type": "code",
   "execution_count": 115,
   "metadata": {
    "ExecuteTime": {
     "end_time": "2021-08-23T08:46:03.843588Z",
     "start_time": "2021-08-23T08:46:03.834612Z"
    }
   },
   "outputs": [
    {
     "data": {
      "text/plain": [
       "{'objective': 'binary:logistic',\n",
       " 'base_score': 0.5,\n",
       " 'booster': 'gbtree',\n",
       " 'colsample_bylevel': 1,\n",
       " 'colsample_bynode': 1,\n",
       " 'colsample_bytree': 1,\n",
       " 'gamma': 0,\n",
       " 'gpu_id': -1,\n",
       " 'interaction_constraints': '',\n",
       " 'learning_rate': 0.300000012,\n",
       " 'max_delta_step': 0,\n",
       " 'max_depth': 6,\n",
       " 'min_child_weight': 1,\n",
       " 'monotone_constraints': '()',\n",
       " 'n_jobs': 16,\n",
       " 'num_parallel_tree': 1,\n",
       " 'random_state': 0,\n",
       " 'reg_alpha': 0,\n",
       " 'reg_lambda': 1,\n",
       " 'scale_pos_weight': 1,\n",
       " 'subsample': 1,\n",
       " 'tree_method': 'exact',\n",
       " 'validate_parameters': 1,\n",
       " 'verbosity': None}"
      ]
     },
     "execution_count": 115,
     "metadata": {},
     "output_type": "execute_result"
    }
   ],
   "source": [
    "model_xgb.get_xgb_params() "
   ]
  },
  {
   "cell_type": "code",
   "execution_count": 116,
   "metadata": {
    "ExecuteTime": {
     "end_time": "2021-08-23T08:46:04.502498Z",
     "start_time": "2021-08-23T08:46:04.491538Z"
    }
   },
   "outputs": [
    {
     "data": {
      "text/plain": [
       "{'objective': 'binary:logistic',\n",
       " 'use_label_encoder': True,\n",
       " 'base_score': 0.5,\n",
       " 'booster': 'gbtree',\n",
       " 'colsample_bylevel': 1,\n",
       " 'colsample_bynode': 1,\n",
       " 'colsample_bytree': 1,\n",
       " 'gamma': 0,\n",
       " 'gpu_id': -1,\n",
       " 'importance_type': 'gain',\n",
       " 'interaction_constraints': '',\n",
       " 'learning_rate': 0.300000012,\n",
       " 'max_delta_step': 0,\n",
       " 'max_depth': 6,\n",
       " 'min_child_weight': 1,\n",
       " 'missing': nan,\n",
       " 'monotone_constraints': '()',\n",
       " 'n_estimators': 100,\n",
       " 'n_jobs': 16,\n",
       " 'num_parallel_tree': 1,\n",
       " 'random_state': 0,\n",
       " 'reg_alpha': 0,\n",
       " 'reg_lambda': 1,\n",
       " 'scale_pos_weight': 1,\n",
       " 'subsample': 1,\n",
       " 'tree_method': 'exact',\n",
       " 'validate_parameters': 1,\n",
       " 'verbosity': None}"
      ]
     },
     "execution_count": 116,
     "metadata": {},
     "output_type": "execute_result"
    }
   ],
   "source": [
    "model_xgb.get_params()  "
   ]
  },
  {
   "cell_type": "code",
   "execution_count": 117,
   "metadata": {
    "ExecuteTime": {
     "end_time": "2021-08-23T08:46:20.918221Z",
     "start_time": "2021-08-23T08:46:20.907251Z"
    }
   },
   "outputs": [],
   "source": [
    "from scipy import stats\n",
    "from scipy.stats import randint\n",
    "from sklearn.model_selection import RandomizedSearchCV\n",
    "from sklearn.metrics import precision_score,recall_score,accuracy_score,f1_score,roc_auc_score"
   ]
  },
  {
   "cell_type": "code",
   "execution_count": null,
   "metadata": {
    "ExecuteTime": {
     "start_time": "2021-08-23T05:24:44.772Z"
    }
   },
   "outputs": [],
   "source": [
    "\n",
    "\n",
    "model_xgb_RSCV = xgb.XGBClassifier(objective = 'binary:logistic')\n",
    "param_dist = {'n_estimators': stats.randint(150, 1000),\n",
    "              'learning_rate': stats.uniform(0.01, 0.6),\n",
    "              'subsample': stats.uniform(0.3, 0.9),\n",
    "              'max_depth': [3, 4, 5, 6, 7, 8, 9],\n",
    "              'colsample_bytree': stats.uniform(0.5, 0.9),\n",
    "              'min_child_weight': [1, 2, 3, 4]\n",
    "             }\n",
    "model_XGB_random = RandomizedSearchCV(model_xgb_RSCV, param_distributions = param_dist, n_iter = 25, scoring = 'roc_auc', error_score = 0, verbose = 3, n_jobs = -1)\n"
   ]
  },
  {
   "cell_type": "code",
   "execution_count": null,
   "metadata": {
    "ExecuteTime": {
     "end_time": "2021-08-19T06:20:03.747297Z",
     "start_time": "2021-08-19T06:20:03.739318Z"
    }
   },
   "outputs": [],
   "source": []
  },
  {
   "cell_type": "code",
   "execution_count": null,
   "metadata": {
    "ExecuteTime": {
     "end_time": "2021-08-23T05:17:12.729043Z",
     "start_time": "2021-08-23T05:15:20.102Z"
    }
   },
   "outputs": [],
   "source": [
    "# Use the random grid to search for best hyperparameters\n",
    "# First create the base model to tune\n",
    "#model_DT_RSCV = DecisionTreeClassifier()\n",
    "# Random search of parameters, using 3 fold cross validation, \n",
    "# search across 100 different combinations, and use all available cores\n",
    "#model_DT_random = RandomizedSearchCV(estimator = model_DT_RSCV, param_distributions = random_grid, n_iter = 100, cv = 3, verbose=2, random_state=42, n_jobs = -1)\n",
    "# Fit the random search model\n",
    "model_XGB_random.fit(X_train, y_train)"
   ]
  },
  {
   "cell_type": "code",
   "execution_count": null,
   "metadata": {
    "ExecuteTime": {
     "end_time": "2021-08-23T05:17:12.729043Z",
     "start_time": "2021-08-23T05:15:20.107Z"
    }
   },
   "outputs": [],
   "source": [
    "y_pred_RSCV_Xgb = model_XGB_random.predict(X_test)"
   ]
  },
  {
   "cell_type": "code",
   "execution_count": null,
   "metadata": {
    "ExecuteTime": {
     "end_time": "2021-08-23T05:17:12.730040Z",
     "start_time": "2021-08-23T05:15:20.111Z"
    }
   },
   "outputs": [],
   "source": [
    "RSCV_Xgb_confusion_matrix = confusion_matrix(y_test, y_pred_RSCV_Xgb).ravel()\n",
    "RSCV_Xgb_confusion_matrix"
   ]
  },
  {
   "cell_type": "code",
   "execution_count": null,
   "metadata": {
    "ExecuteTime": {
     "end_time": "2021-08-23T05:17:12.730040Z",
     "start_time": "2021-08-23T05:15:20.115Z"
    }
   },
   "outputs": [],
   "source": [
    "plot_confusion_matrix(model_XGB_random, X_test, y_test)  \n",
    "plt.grid(False)\n",
    "plt.show() "
   ]
  },
  {
   "cell_type": "code",
   "execution_count": null,
   "metadata": {
    "ExecuteTime": {
     "end_time": "2021-08-23T05:17:12.731037Z",
     "start_time": "2021-08-23T05:15:20.120Z"
    }
   },
   "outputs": [],
   "source": [
    "\n",
    "accuracy_score(y_test, y_pred_RSCV_Xgb)"
   ]
  },
  {
   "cell_type": "code",
   "execution_count": null,
   "metadata": {
    "ExecuteTime": {
     "end_time": "2021-08-23T05:17:12.731037Z",
     "start_time": "2021-08-23T05:15:20.124Z"
    }
   },
   "outputs": [],
   "source": [
    "\n",
    "print(\"Classification Report: \\n\", classification_report(y_test, y_pred_RSCV_Xgb)) "
   ]
  },
  {
   "cell_type": "code",
   "execution_count": null,
   "metadata": {
    "ExecuteTime": {
     "end_time": "2021-08-23T05:17:12.732035Z",
     "start_time": "2021-08-23T05:15:20.128Z"
    }
   },
   "outputs": [],
   "source": [
    "from sklearn import metrics\n",
    "y_pred_proba = model_XGB_random.predict_proba(X_test)[::,1]\n",
    "fpr, tpr, _ = metrics.roc_curve(y_test,  y_pred_proba)\n",
    "auc = metrics.roc_auc_score(y_test, y_pred_proba)\n",
    "\n",
    "import matplotlib.pyplot as plt \n",
    "plt.plot(fpr,tpr,label=\"data 1, auc=\"+str(auc))\n",
    "plt.legend(loc=4)\n",
    "plt.show()"
   ]
  },
  {
   "cell_type": "code",
   "execution_count": null,
   "metadata": {},
   "outputs": [],
   "source": []
  },
  {
   "cell_type": "markdown",
   "metadata": {},
   "source": [
    "### LightGBM"
   ]
  },
  {
   "cell_type": "markdown",
   "metadata": {},
   "source": [
    "#### Modelling\n"
   ]
  },
  {
   "cell_type": "code",
   "execution_count": null,
   "metadata": {
    "ExecuteTime": {
     "end_time": "2021-08-23T05:17:12.732035Z",
     "start_time": "2021-08-23T05:15:20.428Z"
    }
   },
   "outputs": [],
   "source": [
    "import lightgbm as lgbm"
   ]
  },
  {
   "cell_type": "code",
   "execution_count": null,
   "metadata": {
    "ExecuteTime": {
     "end_time": "2021-08-23T05:17:12.733032Z",
     "start_time": "2021-08-23T05:15:20.431Z"
    }
   },
   "outputs": [],
   "source": [
    "model_lgbm = lgbm.LGBMClassifier()\n",
    "model_lgbm.fit(X_train, y_train)"
   ]
  },
  {
   "cell_type": "code",
   "execution_count": null,
   "metadata": {
    "ExecuteTime": {
     "end_time": "2021-08-23T05:17:12.733032Z",
     "start_time": "2021-08-23T05:15:20.435Z"
    }
   },
   "outputs": [],
   "source": [
    "y_pred_lgbm = model_lgbm.predict(X_test)"
   ]
  },
  {
   "cell_type": "code",
   "execution_count": null,
   "metadata": {
    "ExecuteTime": {
     "end_time": "2021-08-23T05:17:12.734029Z",
     "start_time": "2021-08-23T05:15:20.438Z"
    }
   },
   "outputs": [],
   "source": [
    "lgbm_confusion_matrix = confusion_matrix(y_test, y_pred_lgbm).ravel()\n",
    "lgbm_confusion_matrix"
   ]
  },
  {
   "cell_type": "code",
   "execution_count": null,
   "metadata": {
    "ExecuteTime": {
     "end_time": "2021-08-23T05:17:12.734029Z",
     "start_time": "2021-08-23T05:15:20.441Z"
    }
   },
   "outputs": [],
   "source": [
    "plot_confusion_matrix(model_lgbm, X_test, y_test) \n",
    "plt.grid(False)\n",
    "plt.show()  "
   ]
  },
  {
   "cell_type": "markdown",
   "metadata": {},
   "source": [
    "#### Evaluation Metrics"
   ]
  },
  {
   "cell_type": "code",
   "execution_count": null,
   "metadata": {
    "ExecuteTime": {
     "end_time": "2021-08-23T05:17:12.735026Z",
     "start_time": "2021-08-23T05:15:20.576Z"
    }
   },
   "outputs": [],
   "source": [
    "metric_lgbm = {}\n",
    "metric_lgbm['model_name'] = 'LGBM Classifier'\n",
    "metric_lgbm['TN'] = lgbm_confusion_matrix[0]\n",
    "metric_lgbm['FP'] = lgbm_confusion_matrix[1]\n",
    "metric_lgbm['FN'] = lgbm_confusion_matrix[2]\n",
    "metric_lgbm['TP'] = lgbm_confusion_matrix[3]\n",
    "\n",
    "metric_lgbm['model'] = model_lgbm"
   ]
  },
  {
   "cell_type": "code",
   "execution_count": null,
   "metadata": {
    "ExecuteTime": {
     "end_time": "2021-08-23T05:17:12.736024Z",
     "start_time": "2021-08-23T05:15:20.580Z"
    }
   },
   "outputs": [],
   "source": [
    "metric_lgbm"
   ]
  },
  {
   "cell_type": "markdown",
   "metadata": {},
   "source": [
    "##### Accuracy"
   ]
  },
  {
   "cell_type": "code",
   "execution_count": null,
   "metadata": {
    "ExecuteTime": {
     "end_time": "2021-08-23T05:17:12.736024Z",
     "start_time": "2021-08-23T05:15:20.722Z"
    }
   },
   "outputs": [],
   "source": [
    "accuracy_score(y_test, y_pred_lgbm)"
   ]
  },
  {
   "cell_type": "markdown",
   "metadata": {},
   "source": [
    "##### Misclassification Rate"
   ]
  },
  {
   "cell_type": "code",
   "execution_count": null,
   "metadata": {
    "ExecuteTime": {
     "end_time": "2021-08-23T05:17:12.737021Z",
     "start_time": "2021-08-23T05:15:20.861Z"
    }
   },
   "outputs": [],
   "source": [
    "print(\"Classification Report: \\n\", classification_report(y_test, y_pred_lgbm))  "
   ]
  },
  {
   "cell_type": "markdown",
   "metadata": {},
   "source": [
    "##### Sensitivity"
   ]
  },
  {
   "cell_type": "markdown",
   "metadata": {},
   "source": [
    "##### Specificity"
   ]
  },
  {
   "cell_type": "markdown",
   "metadata": {},
   "source": [
    "##### F1 Score"
   ]
  },
  {
   "cell_type": "markdown",
   "metadata": {},
   "source": [
    "##### ROC and AUC – Area Under the Curve"
   ]
  },
  {
   "cell_type": "code",
   "execution_count": null,
   "metadata": {},
   "outputs": [],
   "source": []
  },
  {
   "cell_type": "code",
   "execution_count": null,
   "metadata": {
    "ExecuteTime": {
     "end_time": "2021-08-23T05:17:12.737021Z",
     "start_time": "2021-08-23T05:15:21.425Z"
    }
   },
   "outputs": [],
   "source": [
    "y_pred_proba = model_lgbm.predict_proba(X_test)[::,1]\n",
    "fpr, tpr, _ = metrics.roc_curve(y_test,  y_pred_proba)\n",
    "auc = metrics.roc_auc_score(y_test, y_pred_proba)\n",
    "\n",
    "import matplotlib.pyplot as plt \n",
    "plt.plot(fpr,tpr,label=\"data 1, auc=\"+str(auc))\n",
    "plt.legend(loc=4)\n",
    "plt.show()"
   ]
  },
  {
   "cell_type": "code",
   "execution_count": null,
   "metadata": {},
   "outputs": [],
   "source": []
  },
  {
   "cell_type": "markdown",
   "metadata": {},
   "source": [
    "#### Hyper-parameter Tuning"
   ]
  },
  {
   "cell_type": "code",
   "execution_count": null,
   "metadata": {
    "ExecuteTime": {
     "end_time": "2021-08-23T05:17:12.738019Z",
     "start_time": "2021-08-23T05:15:21.562Z"
    }
   },
   "outputs": [],
   "source": [
    "# params = {} #initialize parameters\n",
    "# params['learning_rate'] = np.random.uniform(0, 1)\n",
    "# params['boosting_type'] = np.random.choice(['gbdt', 'dart', 'goss'])\n",
    "# params['objective'] = 'regression'\n",
    "# params['metric'] = 'mae'\n",
    "# params['sub_feature'] = np.random.uniform(0, 1)\n",
    "# params['num_leaves'] = np.random.randint(20, 300)\n",
    "# params['min_data'] = np.random.randint(10, 100)\n",
    "# params['max_depth'] = np.random.randint(5, 200)\n",
    "# iterations = np.random.randint(10, 10000)\n",
    "# print(params, iterations)"
   ]
  },
  {
   "cell_type": "code",
   "execution_count": null,
   "metadata": {
    "ExecuteTime": {
     "end_time": "2021-08-23T05:17:12.739016Z",
     "start_time": "2021-08-23T05:15:21.565Z"
    }
   },
   "outputs": [],
   "source": [
    "\n",
    "# # Number of trees in random forest\n",
    "# #n_estimators = [int(x) for x in np.linspace(start = 200, stop = 2000, num = 10)]\n",
    "# # Number of features to consider at every split\n",
    "# max_features = ['auto', 'sqrt']\n",
    "# # Maximum number of levels in tree\n",
    "# max_depth = [int(x) for x in np.linspace(10, 110, num = 11)]\n",
    "# max_depth.append(None)\n",
    "# # Minimum number of samples required to split a node\n",
    "# min_samples_split = [2, 5, 10]\n",
    "# # Minimum number of samples required at each leaf node\n",
    "# min_samples_leaf = [1, 2, 4]\n",
    "# # Method of selecting samples for training each tree\n",
    "# #bootstrap = [True, False]\n",
    "# # Create the random grid\n",
    "# random_grid = {'max_features': max_features,\n",
    "#                'max_depth': max_depth,\n",
    "#                'min_samples_split': min_samples_split,\n",
    "#                'min_samples_leaf': min_samples_leaf}\n",
    "#'n_estimators': n_estimators,\n",
    "#'bootstrap': bootstrap\n",
    "# pprint(random_grid)\n",
    "# {'bootstrap': [True, False],\n",
    "#  'max_depth': [10, 20, 30, 40, 50, 60, 70, 80, 90, 100, None],\n",
    "#  'max_features': ['auto', 'sqrt'],\n",
    "#  'min_samples_leaf': [1, 2, 4],\n",
    "#  'min_samples_split': [2, 5, 10],\n",
    "#  'n_estimators': [200, 400, 600, 800, 1000, 1200, 1400, 1600, 1800, 2000]}"
   ]
  },
  {
   "cell_type": "code",
   "execution_count": null,
   "metadata": {
    "ExecuteTime": {
     "end_time": "2021-08-23T05:17:12.739016Z",
     "start_time": "2021-08-23T05:15:21.568Z"
    }
   },
   "outputs": [],
   "source": [
    "model_lgbm.get_params()  "
   ]
  },
  {
   "cell_type": "code",
   "execution_count": null,
   "metadata": {
    "ExecuteTime": {
     "end_time": "2021-08-23T05:17:12.740013Z",
     "start_time": "2021-08-23T05:15:21.571Z"
    }
   },
   "outputs": [],
   "source": [
    "\n",
    "param_dist2 = {'n_estimators': stats.randint(150, 1000),\n",
    "              'learning_rate': stats.uniform(0.01, 0.6),\n",
    "              'subsample': stats.uniform(0.3, 0.9),\n",
    "              'max_depth': [3, 4, 5, 6, 7, 8, 9],\n",
    "              'colsample_bytree': stats.uniform(0.5, 0.9),\n",
    "              'min_child_weight': [1, 2, 3, 4]\n",
    "             }\n",
    "#model_XGB_random = RandomizedSearchCV(model_xgb_RSCV, param_distributions = param_dist2, n_iter = 25, scoring = 'roc_auc', error_score = 0, verbose = 3, n_jobs = -1)\n"
   ]
  },
  {
   "cell_type": "code",
   "execution_count": null,
   "metadata": {
    "ExecuteTime": {
     "end_time": "2021-08-23T05:17:12.740013Z",
     "start_time": "2021-08-23T05:15:21.574Z"
    }
   },
   "outputs": [],
   "source": [
    "# Use the random grid to search for best hyperparameters\n",
    "# First create the base model to tune\n",
    "model_lgbm_RSCV = lgb.LGBMClassifier()\n",
    "# Random search of parameters, using 3 fold cross validation, \n",
    "# search across 100 different combinations, and use all available cores\n",
    "model_lgbm_random = RandomizedSearchCV(model_xgb_RSCV, param_distributions = param_dist2, n_iter = 25, scoring = 'roc_auc', error_score = 0, verbose = 3, n_jobs = -1)\n",
    "# Fit the random search model\n",
    "model_lgbm_random.fit(X_train, y_train)"
   ]
  },
  {
   "cell_type": "code",
   "execution_count": null,
   "metadata": {
    "ExecuteTime": {
     "end_time": "2021-08-23T05:17:12.741011Z",
     "start_time": "2021-08-23T05:15:21.577Z"
    }
   },
   "outputs": [],
   "source": [
    "y_pred_RSCV_lgbm = model_lgbm_random.predict(X_test)"
   ]
  },
  {
   "cell_type": "code",
   "execution_count": null,
   "metadata": {
    "ExecuteTime": {
     "end_time": "2021-08-23T05:17:12.741011Z",
     "start_time": "2021-08-23T05:15:21.583Z"
    }
   },
   "outputs": [],
   "source": [
    "RSCV_lgbm_confusion_matrix = confusion_matrix(y_test, y_pred_RSCV_lgbm).ravel()\n",
    "RSCV_lgbm_confusion_matrix"
   ]
  },
  {
   "cell_type": "code",
   "execution_count": null,
   "metadata": {
    "ExecuteTime": {
     "end_time": "2021-08-23T05:17:12.742008Z",
     "start_time": "2021-08-23T05:15:21.588Z"
    }
   },
   "outputs": [],
   "source": [
    "plot_confusion_matrix(model_lgbm_random, X_test, y_test)  \n",
    "plt.grid(False)\n",
    "plt.show() "
   ]
  },
  {
   "cell_type": "code",
   "execution_count": null,
   "metadata": {
    "ExecuteTime": {
     "end_time": "2021-08-23T05:17:12.742008Z",
     "start_time": "2021-08-23T05:15:21.592Z"
    }
   },
   "outputs": [],
   "source": [
    "\n",
    "accuracy_score(y_test, y_pred_RSCV_lgbm)"
   ]
  },
  {
   "cell_type": "code",
   "execution_count": null,
   "metadata": {
    "ExecuteTime": {
     "end_time": "2021-08-23T05:17:12.743005Z",
     "start_time": "2021-08-23T05:15:21.595Z"
    }
   },
   "outputs": [],
   "source": [
    "\n",
    "print(\"Classification Report: \\n\", classification_report(y_test, y_pred_RSCV_lgbm)) "
   ]
  },
  {
   "cell_type": "code",
   "execution_count": null,
   "metadata": {
    "ExecuteTime": {
     "end_time": "2021-08-23T05:17:12.744002Z",
     "start_time": "2021-08-23T05:15:21.600Z"
    }
   },
   "outputs": [],
   "source": [
    "from sklearn import metrics\n",
    "y_pred_proba = model_lgbm_random.predict_proba(X_test)[::,1]\n",
    "fpr, tpr, _ = metrics.roc_curve(y_test,  y_pred_proba)\n",
    "auc = metrics.roc_auc_score(y_test, y_pred_proba)\n",
    "\n",
    "import matplotlib.pyplot as plt \n",
    "plt.plot(fpr,tpr,label=\"data 1, auc=\"+str(auc))\n",
    "plt.legend(loc=4)\n",
    "plt.show()"
   ]
  },
  {
   "cell_type": "markdown",
   "metadata": {},
   "source": [
    "### CatBoost"
   ]
  },
  {
   "cell_type": "markdown",
   "metadata": {},
   "source": [
    "#### Modelling\n"
   ]
  },
  {
   "cell_type": "code",
   "execution_count": null,
   "metadata": {
    "ExecuteTime": {
     "end_time": "2021-08-23T05:17:12.744002Z",
     "start_time": "2021-08-23T05:15:21.884Z"
    }
   },
   "outputs": [],
   "source": [
    "import catboost as cb"
   ]
  },
  {
   "cell_type": "code",
   "execution_count": null,
   "metadata": {
    "ExecuteTime": {
     "end_time": "2021-08-23T05:17:12.745000Z",
     "start_time": "2021-08-23T05:15:21.887Z"
    },
    "scrolled": true
   },
   "outputs": [],
   "source": [
    "model_cb = cb.CatBoostClassifier()\n",
    "model_cb.fit(X_train, y_train)"
   ]
  },
  {
   "cell_type": "code",
   "execution_count": null,
   "metadata": {
    "ExecuteTime": {
     "end_time": "2021-08-23T05:17:12.745000Z",
     "start_time": "2021-08-23T05:15:21.890Z"
    }
   },
   "outputs": [],
   "source": [
    "y_pred_cb = model_cb.predict(X_test)"
   ]
  },
  {
   "cell_type": "code",
   "execution_count": null,
   "metadata": {
    "ExecuteTime": {
     "end_time": "2021-08-23T05:17:12.745997Z",
     "start_time": "2021-08-23T05:15:21.893Z"
    }
   },
   "outputs": [],
   "source": [
    "cb_confusion_matrix = confusion_matrix(y_test, y_pred_cb).ravel()\n",
    "cb_confusion_matrix"
   ]
  },
  {
   "cell_type": "code",
   "execution_count": null,
   "metadata": {
    "ExecuteTime": {
     "end_time": "2021-08-23T05:17:12.745997Z",
     "start_time": "2021-08-23T05:15:21.896Z"
    }
   },
   "outputs": [],
   "source": [
    "plot_confusion_matrix(model_cb, X_test, y_test)  \n",
    "plt.grid(False)\n",
    "plt.show()  "
   ]
  },
  {
   "cell_type": "markdown",
   "metadata": {},
   "source": [
    "#### Evaluation Metrics"
   ]
  },
  {
   "cell_type": "code",
   "execution_count": null,
   "metadata": {
    "ExecuteTime": {
     "end_time": "2021-08-23T05:17:12.746995Z",
     "start_time": "2021-08-23T05:15:22.039Z"
    }
   },
   "outputs": [],
   "source": [
    "metric_cb = {}\n",
    "metric_cb['model_name'] = 'CatBoost Classifier'\n",
    "metric_cb['TN'] = cb_confusion_matrix[0]\n",
    "metric_cb['FP'] = cb_confusion_matrix[1]\n",
    "metric_cb['FN'] = cb_confusion_matrix[2]\n",
    "metric_cb['TP'] = cb_confusion_matrix[3]\n",
    "\n",
    "metric_cb['model'] = model_cb"
   ]
  },
  {
   "cell_type": "code",
   "execution_count": null,
   "metadata": {
    "ExecuteTime": {
     "end_time": "2021-08-23T05:17:12.747992Z",
     "start_time": "2021-08-23T05:15:22.042Z"
    }
   },
   "outputs": [],
   "source": [
    "metric_cb"
   ]
  },
  {
   "cell_type": "markdown",
   "metadata": {},
   "source": [
    "##### Accuracy"
   ]
  },
  {
   "cell_type": "code",
   "execution_count": null,
   "metadata": {
    "ExecuteTime": {
     "end_time": "2021-08-23T05:17:12.747992Z",
     "start_time": "2021-08-23T05:15:22.193Z"
    }
   },
   "outputs": [],
   "source": [
    "accuracy_score(y_test, y_pred_cb)"
   ]
  },
  {
   "cell_type": "markdown",
   "metadata": {},
   "source": [
    "##### Misclassification Rate"
   ]
  },
  {
   "cell_type": "code",
   "execution_count": null,
   "metadata": {
    "ExecuteTime": {
     "end_time": "2021-08-23T05:17:12.748989Z",
     "start_time": "2021-08-23T05:15:22.338Z"
    }
   },
   "outputs": [],
   "source": [
    "print(\"Classification Report: \\n\", classification_report(y_test, y_pred_cb)) "
   ]
  },
  {
   "cell_type": "markdown",
   "metadata": {},
   "source": [
    "##### Sensitivity"
   ]
  },
  {
   "cell_type": "markdown",
   "metadata": {},
   "source": [
    "##### Specificity"
   ]
  },
  {
   "cell_type": "markdown",
   "metadata": {},
   "source": [
    "##### F1 Score"
   ]
  },
  {
   "cell_type": "markdown",
   "metadata": {},
   "source": [
    "##### ROC and AUC – Area Under the Curve"
   ]
  },
  {
   "cell_type": "code",
   "execution_count": null,
   "metadata": {
    "ExecuteTime": {
     "end_time": "2021-08-23T05:17:12.748989Z",
     "start_time": "2021-08-23T05:15:22.950Z"
    }
   },
   "outputs": [],
   "source": [
    "y_pred_proba = model_cb.predict_proba(X_test)[::,1]\n",
    "fpr, tpr, _ = metrics.roc_curve(y_test,  y_pred_proba)\n",
    "auc = metrics.roc_auc_score(y_test, y_pred_proba)\n",
    "\n",
    "import matplotlib.pyplot as plt \n",
    "plt.plot(fpr,tpr,label=\"data 1, auc=\"+str(auc))\n",
    "plt.legend(loc=4)\n",
    "plt.show()"
   ]
  },
  {
   "cell_type": "markdown",
   "metadata": {},
   "source": [
    "#### Hyper-parameter Tuning"
   ]
  },
  {
   "cell_type": "code",
   "execution_count": null,
   "metadata": {
    "ExecuteTime": {
     "end_time": "2021-08-23T05:17:12.749986Z",
     "start_time": "2021-08-23T05:15:23.108Z"
    }
   },
   "outputs": [],
   "source": [
    "model_cb.get_all_params()   "
   ]
  },
  {
   "cell_type": "code",
   "execution_count": null,
   "metadata": {
    "ExecuteTime": {
     "end_time": "2021-08-23T05:17:12.749986Z",
     "start_time": "2021-08-23T05:15:23.111Z"
    }
   },
   "outputs": [],
   "source": [
    "\n",
    "# # Number of trees in random forest\n",
    "# #n_estimators = [int(x) for x in np.linspace(start = 200, stop = 2000, num = 10)]\n",
    "# # Number of features to consider at every split\n",
    "# max_features = ['auto', 'sqrt']\n",
    "# # Maximum number of levels in tree\n",
    "# max_depth = [int(x) for x in np.linspace(10, 110, num = 11)]\n",
    "# max_depth.append(None)\n",
    "# # Minimum number of samples required to split a node\n",
    "# min_samples_split = [2, 5, 10]\n",
    "# # Minimum number of samples required at each leaf node\n",
    "# min_samples_leaf = [1, 2, 4]\n",
    "# # Method of selecting samples for training each tree\n",
    "# #bootstrap = [True, False]\n",
    "# # Create the random grid\n",
    "# random_grid = {'max_features': max_features,\n",
    "#                'max_depth': max_depth,\n",
    "#                'min_samples_split': min_samples_split,\n",
    "#                'min_samples_leaf': min_samples_leaf}\n",
    "# #'n_estimators': n_estimators,\n",
    "# #'bootstrap': bootstrap\n",
    "# # pprint(random_grid)\n",
    "# # {'bootstrap': [True, False],\n",
    "# #  'max_depth': [10, 20, 30, 40, 50, 60, 70, 80, 90, 100, None],\n",
    "# #  'max_features': ['auto', 'sqrt'],\n",
    "# #  'min_samples_leaf': [1, 2, 4],\n",
    "# #  'min_samples_split': [2, 5, 10],\n",
    "# #  'n_estimators': [200, 400, 600, 800, 1000, 1200, 1400, 1600, 1800, 2000]}"
   ]
  },
  {
   "cell_type": "code",
   "execution_count": null,
   "metadata": {
    "ExecuteTime": {
     "end_time": "2021-08-23T05:17:12.750984Z",
     "start_time": "2021-08-23T05:15:23.114Z"
    }
   },
   "outputs": [],
   "source": [
    "parameters_cb = {'depth'         : [4,5,6,7,8,9, 10],\n",
    "              'learning_rate' : [0.01,0.02,0.03,0.04],\n",
    "              'iterations'    : [10, 20,30,40,50,60,70,80,90, 100],\n",
    "              'l2_leaf_reg': [1, 3, 5, 7, 9]}"
   ]
  },
  {
   "cell_type": "code",
   "execution_count": null,
   "metadata": {
    "ExecuteTime": {
     "end_time": "2021-08-23T05:17:12.751981Z",
     "start_time": "2021-08-23T05:15:23.118Z"
    }
   },
   "outputs": [],
   "source": [
    "# Use the random grid to search for best hyperparameters\n",
    "# First create the base model to tune\n",
    "#model_DT_RSCV = DecisionTreeClassifier()\n",
    "# Random search of parameters, using 3 fold cross validation, \n",
    "# search across 100 different combinations, and use all available cores\n",
    "#model_DT_random = RandomizedSearchCV(estimator = model_DT_RSCV, param_distributions = random_grid, n_iter = 100, cv = 3, verbose=2, random_state=42, n_jobs = -1)\n",
    "# Fit the random search model\n",
    "#model_DT_random.fit(X_train, y_train)\n",
    "\n",
    "# Use the random grid to search for best hyperparameters\n",
    "# First create the base model to tune\n",
    "model_CatB_RSCV = cb.CatBoostClassifier()\n",
    "# Random search of parameters, using 3 fold cross validation, \n",
    "# search across 100 different combinations, and use all available cores\n",
    "model_CatB_random = RandomizedSearchCV(model_CatB_RSCV, param_distributions = parameters_cb, n_iter = 200, scoring = 'roc_auc', error_score = 0, verbose = 3, n_jobs = -1)\n",
    "# Fit the random search model\n",
    "model_CatB_random.fit(X_train, y_train)"
   ]
  },
  {
   "cell_type": "code",
   "execution_count": null,
   "metadata": {
    "ExecuteTime": {
     "end_time": "2021-08-23T05:17:12.751981Z",
     "start_time": "2021-08-23T05:15:23.121Z"
    }
   },
   "outputs": [],
   "source": [
    "y_pred_RSCV_CatB = model_CatB_random.predict(X_test)"
   ]
  },
  {
   "cell_type": "code",
   "execution_count": null,
   "metadata": {
    "ExecuteTime": {
     "end_time": "2021-08-23T05:17:12.752979Z",
     "start_time": "2021-08-23T05:15:23.125Z"
    }
   },
   "outputs": [],
   "source": [
    "RSCV_CatB_confusion_matrix = confusion_matrix(y_test, y_pred_RSCV_CatB).ravel()\n",
    "RSCV_CatB_confusion_matrix"
   ]
  },
  {
   "cell_type": "code",
   "execution_count": null,
   "metadata": {
    "ExecuteTime": {
     "end_time": "2021-08-23T05:17:12.752979Z",
     "start_time": "2021-08-23T05:15:23.128Z"
    }
   },
   "outputs": [],
   "source": [
    "plot_confusion_matrix(model_CatB_random, X_test, y_test)  \n",
    "plt.grid(False)\n",
    "plt.show() "
   ]
  },
  {
   "cell_type": "code",
   "execution_count": null,
   "metadata": {
    "ExecuteTime": {
     "end_time": "2021-08-23T05:17:12.753976Z",
     "start_time": "2021-08-23T05:15:23.131Z"
    }
   },
   "outputs": [],
   "source": [
    "\n",
    "accuracy_score(y_test, y_pred_RSCV_CatB)"
   ]
  },
  {
   "cell_type": "code",
   "execution_count": null,
   "metadata": {
    "ExecuteTime": {
     "end_time": "2021-08-23T05:17:12.753976Z",
     "start_time": "2021-08-23T05:15:23.134Z"
    }
   },
   "outputs": [],
   "source": [
    "\n",
    "print(\"Classification Report: \\n\", classification_report(y_test, y_pred_RSCV_CatB)) "
   ]
  },
  {
   "cell_type": "code",
   "execution_count": null,
   "metadata": {
    "ExecuteTime": {
     "end_time": "2021-08-23T05:17:12.754973Z",
     "start_time": "2021-08-23T05:15:23.138Z"
    }
   },
   "outputs": [],
   "source": [
    "from sklearn import metrics\n",
    "y_pred_proba = model_CatB_random.predict_proba(X_test)[::,1]\n",
    "fpr, tpr, _ = metrics.roc_curve(y_test,  y_pred_proba)\n",
    "auc = metrics.roc_auc_score(y_test, y_pred_proba)\n",
    "\n",
    "import matplotlib.pyplot as plt \n",
    "plt.plot(fpr,tpr,label=\"data 1, auc=\"+str(auc))\n",
    "plt.legend(loc=4)\n",
    "plt.show()"
   ]
  },
  {
   "cell_type": "code",
   "execution_count": null,
   "metadata": {},
   "outputs": [],
   "source": []
  },
  {
   "cell_type": "code",
   "execution_count": null,
   "metadata": {},
   "outputs": [],
   "source": []
  },
  {
   "cell_type": "code",
   "execution_count": null,
   "metadata": {},
   "outputs": [],
   "source": []
  },
  {
   "cell_type": "markdown",
   "metadata": {},
   "source": [
    "### StackedEnsemble"
   ]
  },
  {
   "cell_type": "markdown",
   "metadata": {},
   "source": [
    "#### Modelling\n"
   ]
  },
  {
   "cell_type": "code",
   "execution_count": null,
   "metadata": {
    "ExecuteTime": {
     "end_time": "2021-08-23T05:17:12.755970Z",
     "start_time": "2021-08-23T05:15:23.591Z"
    }
   },
   "outputs": [],
   "source": [
    "from sklearn.ensemble import StackingClassifier\n",
    "estimators = [\n",
    "('cb', cb.CatBoostClassifier()),\n",
    "('lgbm', lgbm.LGBMClassifier())]\n",
    "\n",
    "stacked_clf = StackingClassifier(estimators=estimators, final_estimator=LogisticRegression())\n",
    "\n",
    "stacked_clf.fit(X_train, y_train)"
   ]
  },
  {
   "cell_type": "code",
   "execution_count": null,
   "metadata": {
    "ExecuteTime": {
     "end_time": "2021-08-23T05:17:12.755970Z",
     "start_time": "2021-08-23T05:15:23.595Z"
    }
   },
   "outputs": [],
   "source": [
    "y_pred_stacked_clf = stacked_clf.predict(X_test)"
   ]
  },
  {
   "cell_type": "code",
   "execution_count": null,
   "metadata": {
    "ExecuteTime": {
     "end_time": "2021-08-23T05:17:12.756968Z",
     "start_time": "2021-08-23T05:15:23.600Z"
    }
   },
   "outputs": [],
   "source": [
    "stacked_clf_confusion_matrix = confusion_matrix(y_test, y_pred_stacked_clf).ravel()\n",
    "stacked_clf_confusion_matrix"
   ]
  },
  {
   "cell_type": "code",
   "execution_count": null,
   "metadata": {
    "ExecuteTime": {
     "end_time": "2021-08-23T05:17:12.756968Z",
     "start_time": "2021-08-23T05:15:23.604Z"
    }
   },
   "outputs": [],
   "source": [
    "plot_confusion_matrix(stacked_clf, X_test, y_test)\n",
    "plt.grid(False)\n",
    "plt.show()  "
   ]
  },
  {
   "cell_type": "code",
   "execution_count": null,
   "metadata": {
    "ExecuteTime": {
     "end_time": "2021-08-23T05:17:12.757965Z",
     "start_time": "2021-08-23T05:15:23.608Z"
    }
   },
   "outputs": [],
   "source": [
    "metric_stacked_clf = {}\n",
    "metric_stacked_clf['model_name'] = 'Stacked Classifier'\n",
    "metric_stacked_clf['TN'] = stacked_clf_confusion_matrix[0]\n",
    "metric_stacked_clf['FP'] = stacked_clf_confusion_matrix[1]\n",
    "metric_stacked_clf['FN'] = stacked_clf_confusion_matrix[2]\n",
    "metric_stacked_clf['TP'] = stacked_clf_confusion_matrix[3]\n",
    "\n",
    "metric_stacked_clf['model'] = stacked_clf"
   ]
  },
  {
   "cell_type": "code",
   "execution_count": null,
   "metadata": {
    "ExecuteTime": {
     "end_time": "2021-08-23T05:17:12.757965Z",
     "start_time": "2021-08-23T05:15:23.613Z"
    }
   },
   "outputs": [],
   "source": [
    "metric_stacked_clf"
   ]
  },
  {
   "cell_type": "code",
   "execution_count": null,
   "metadata": {},
   "outputs": [],
   "source": []
  },
  {
   "cell_type": "code",
   "execution_count": null,
   "metadata": {},
   "outputs": [],
   "source": []
  },
  {
   "cell_type": "code",
   "execution_count": null,
   "metadata": {},
   "outputs": [],
   "source": []
  },
  {
   "cell_type": "markdown",
   "metadata": {},
   "source": [
    "#### Hyper-parameter Tuning"
   ]
  },
  {
   "cell_type": "markdown",
   "metadata": {},
   "source": [
    "#### Evaluation Metrics"
   ]
  },
  {
   "cell_type": "markdown",
   "metadata": {},
   "source": [
    "##### Accuracy"
   ]
  },
  {
   "cell_type": "code",
   "execution_count": null,
   "metadata": {
    "ExecuteTime": {
     "end_time": "2021-08-23T05:17:12.758963Z",
     "start_time": "2021-08-23T05:15:24.287Z"
    }
   },
   "outputs": [],
   "source": [
    "accuracy_score(y_test, y_pred_stacked_clf)"
   ]
  },
  {
   "cell_type": "markdown",
   "metadata": {},
   "source": [
    "##### Misclassification Rate"
   ]
  },
  {
   "cell_type": "code",
   "execution_count": null,
   "metadata": {
    "ExecuteTime": {
     "end_time": "2021-08-23T05:17:12.759960Z",
     "start_time": "2021-08-23T05:15:24.455Z"
    }
   },
   "outputs": [],
   "source": [
    "print(\"Classification Report: \\n\", classification_report(y_test, y_pred_stacked_clf)) "
   ]
  },
  {
   "cell_type": "markdown",
   "metadata": {},
   "source": [
    "##### Sensitivity"
   ]
  },
  {
   "cell_type": "code",
   "execution_count": null,
   "metadata": {},
   "outputs": [],
   "source": []
  },
  {
   "cell_type": "markdown",
   "metadata": {},
   "source": [
    "##### Specificity"
   ]
  },
  {
   "cell_type": "code",
   "execution_count": null,
   "metadata": {},
   "outputs": [],
   "source": []
  },
  {
   "cell_type": "markdown",
   "metadata": {},
   "source": [
    "##### F1 Score"
   ]
  },
  {
   "cell_type": "code",
   "execution_count": null,
   "metadata": {},
   "outputs": [],
   "source": []
  },
  {
   "cell_type": "markdown",
   "metadata": {},
   "source": [
    "##### ROC and AUC – Area Under the Curve"
   ]
  },
  {
   "cell_type": "code",
   "execution_count": null,
   "metadata": {
    "ExecuteTime": {
     "end_time": "2021-08-23T05:17:12.759960Z",
     "start_time": "2021-08-23T05:15:25.308Z"
    }
   },
   "outputs": [],
   "source": [
    "y_pred_proba = stacked_clf.predict_proba(X_test)[::,1]\n",
    "fpr, tpr, _ = metrics.roc_curve(y_test,  y_pred_proba)\n",
    "auc = metrics.roc_auc_score(y_test, y_pred_proba)\n",
    "\n",
    "import matplotlib.pyplot as plt \n",
    "plt.plot(fpr,tpr,label=\"data 1, auc=\"+str(auc))\n",
    "plt.legend(loc=4)\n",
    "plt.show()"
   ]
  },
  {
   "cell_type": "code",
   "execution_count": null,
   "metadata": {},
   "outputs": [],
   "source": []
  },
  {
   "cell_type": "code",
   "execution_count": null,
   "metadata": {},
   "outputs": [],
   "source": []
  },
  {
   "cell_type": "code",
   "execution_count": null,
   "metadata": {
    "ExecuteTime": {
     "end_time": "2021-08-19T06:20:03.747297Z",
     "start_time": "2021-08-19T06:20:03.739318Z"
    }
   },
   "outputs": [],
   "source": []
  },
  {
   "cell_type": "code",
   "execution_count": null,
   "metadata": {
    "ExecuteTime": {
     "end_time": "2021-08-23T05:17:12.760958Z",
     "start_time": "2021-08-23T05:15:25.323Z"
    }
   },
   "outputs": [],
   "source": [
    "# Use the random grid to search for best hyperparameters\n",
    "# First create the base model to tune\n",
    "model_DT_RSCV = DecisionTreeClassifier()\n",
    "# Random search of parameters, using 3 fold cross validation, \n",
    "# search across 100 different combinations, and use all available cores\n",
    "model_DT_random = RandomizedSearchCV(estimator = model_DT_RSCV, param_distributions = random_grid, n_iter = 100, cv = 3, verbose=2, random_state=42, n_jobs = -1)\n",
    "# Fit the random search model\n",
    "model_DT_random.fit(X_train, y_train)"
   ]
  },
  {
   "cell_type": "code",
   "execution_count": null,
   "metadata": {
    "ExecuteTime": {
     "end_time": "2021-08-23T05:17:12.760958Z",
     "start_time": "2021-08-23T05:15:25.329Z"
    }
   },
   "outputs": [],
   "source": [
    "y_pred_RSCV_DT = model_DT_random.predict(X_test)"
   ]
  },
  {
   "cell_type": "code",
   "execution_count": null,
   "metadata": {
    "ExecuteTime": {
     "end_time": "2021-08-23T05:17:12.761955Z",
     "start_time": "2021-08-23T05:15:25.335Z"
    }
   },
   "outputs": [],
   "source": [
    "RSCV_DT_confusion_matrix = confusion_matrix(y_test, y_pred_RSCV_DT).ravel()\n",
    "RSCV_DT_confusion_matrix"
   ]
  },
  {
   "cell_type": "code",
   "execution_count": null,
   "metadata": {
    "ExecuteTime": {
     "end_time": "2021-08-23T05:17:12.761955Z",
     "start_time": "2021-08-23T05:15:25.340Z"
    }
   },
   "outputs": [],
   "source": [
    "plot_confusion_matrix(model_DT_random, X_test, y_test)  \n",
    "plt.grid(False)\n",
    "plt.show() "
   ]
  },
  {
   "cell_type": "code",
   "execution_count": null,
   "metadata": {
    "ExecuteTime": {
     "end_time": "2021-08-23T05:17:12.762952Z",
     "start_time": "2021-08-23T05:15:25.345Z"
    }
   },
   "outputs": [],
   "source": [
    "\n",
    "accuracy_score(y_test, y_pred_RSCV_DT)"
   ]
  },
  {
   "cell_type": "code",
   "execution_count": null,
   "metadata": {
    "ExecuteTime": {
     "end_time": "2021-08-23T05:17:12.762952Z",
     "start_time": "2021-08-23T05:15:25.350Z"
    }
   },
   "outputs": [],
   "source": [
    "\n",
    "print(\"Classification Report: \\n\", classification_report(y_test, y_pred_RSCV_DT)) "
   ]
  },
  {
   "cell_type": "code",
   "execution_count": null,
   "metadata": {
    "ExecuteTime": {
     "end_time": "2021-08-23T05:17:12.763950Z",
     "start_time": "2021-08-23T05:15:25.353Z"
    }
   },
   "outputs": [],
   "source": [
    "from sklearn import metrics\n",
    "y_pred_proba = model_DT_random.predict_proba(X_test)[::,1]\n",
    "fpr, tpr, _ = metrics.roc_curve(y_test,  y_pred_proba)\n",
    "auc = metrics.roc_auc_score(y_test, y_pred_proba)\n",
    "\n",
    "import matplotlib.pyplot as plt \n",
    "plt.plot(fpr,tpr,label=\"data 1, auc=\"+str(auc))\n",
    "plt.legend(loc=4)\n",
    "plt.show()"
   ]
  },
  {
   "cell_type": "code",
   "execution_count": null,
   "metadata": {},
   "outputs": [],
   "source": []
  },
  {
   "cell_type": "markdown",
   "metadata": {},
   "source": [
    "### Neural Network Classifier using Tensorflow"
   ]
  },
  {
   "cell_type": "code",
   "execution_count": null,
   "metadata": {
    "ExecuteTime": {
     "end_time": "2021-08-23T05:17:12.763950Z",
     "start_time": "2021-08-23T05:15:25.565Z"
    }
   },
   "outputs": [],
   "source": [
    "import tensorflow as tf\n",
    "from tensorflow.keras.models import Sequential, Model\n",
    "from tensorflow.keras.layers import Dense, Dropout, BatchNormalization\n",
    "from tensorflow.keras.optimizers import Adam\n",
    "from tensorflow.keras.metrics import AUC"
   ]
  },
  {
   "cell_type": "code",
   "execution_count": null,
   "metadata": {
    "ExecuteTime": {
     "end_time": "2021-08-23T05:17:12.764947Z",
     "start_time": "2021-08-23T05:15:25.568Z"
    }
   },
   "outputs": [],
   "source": [
    "X_train = np.array(X_train).astype(np.float32)\n",
    "X_test = np.array(X_test).astype(np.float32)\n",
    "y_train = np.array(y_train).astype(np.float32)\n",
    "y_test = np.array(y_test).astype(np.float32)"
   ]
  },
  {
   "cell_type": "code",
   "execution_count": null,
   "metadata": {
    "ExecuteTime": {
     "end_time": "2021-08-23T05:17:12.764947Z",
     "start_time": "2021-08-23T05:15:25.571Z"
    }
   },
   "outputs": [],
   "source": [
    "def evaluate_nn(true, pred, train=True):\n",
    "    if train:\n",
    "        clf_report = pd.DataFrame(classification_report(true, pred, output_dict=True))\n",
    "        print(\"Train Result:\\n================================================\")\n",
    "        print(f\"Accuracy Score: {accuracy_score(true, pred) * 100:.2f}%\")\n",
    "        print(\"_______________________________________________\")\n",
    "        print(f\"CLASSIFICATION REPORT:\\n{clf_report}\")\n",
    "        print(\"_______________________________________________\")\n",
    "        print(f\"Confusion Matrix: \\n {confusion_matrix(true, pred)}\\n\")\n",
    "        \n",
    "    elif train==False:\n",
    "        clf_report = pd.DataFrame(classification_report(true, pred, output_dict=True))\n",
    "        print(\"Test Result:\\n================================================\")        \n",
    "        print(f\"Accuracy Score: {accuracy_score(true, pred) * 100:.2f}%\")\n",
    "        print(\"_______________________________________________\")\n",
    "        print(f\"CLASSIFICATION REPORT:\\n{clf_report}\")\n",
    "        print(\"_______________________________________________\")\n",
    "        print(f\"Confusion Matrix: \\n {confusion_matrix(true, pred)}\\n\")\n",
    "        \n",
    "def plot_learning_evolution(r):\n",
    "    plt.figure(figsize=(12, 8))\n",
    "    \n",
    "    plt.subplot(2, 2, 1)\n",
    "    plt.plot(r.history['loss'], label='Loss')\n",
    "    plt.plot(r.history['val_loss'], label='val_Loss')\n",
    "    plt.title('Loss evolution during trainig')\n",
    "    plt.legend()\n",
    "\n",
    "    plt.subplot(2, 2, 2)\n",
    "    plt.plot(r.history['AUC'], label='AUC')\n",
    "    plt.plot(r.history['val_AUC'], label='val_AUC')\n",
    "    plt.title('AUC score evolution during trainig')\n",
    "    plt.legend();\n",
    "\n",
    "def nn_model(num_columns, num_labels, hidden_units, dropout_rates, learning_rate):\n",
    "    inp = tf.keras.layers.Input(shape=(num_columns, ))\n",
    "    x = BatchNormalization()(inp)\n",
    "    x = Dropout(dropout_rates[0])(x)\n",
    "    for i in range(len(hidden_units)):\n",
    "        x = Dense(hidden_units[i], activation='relu')(x)\n",
    "        x = BatchNormalization()(x)\n",
    "        x = Dropout(dropout_rates[i + 1])(x)\n",
    "    x = Dense(num_labels, activation='sigmoid')(x)\n",
    "  \n",
    "    model = Model(inputs=inp, outputs=x)\n",
    "    model.compile(optimizer=Adam(learning_rate), loss='binary_crossentropy', metrics=[AUC(name='AUC')])\n",
    "    return model"
   ]
  },
  {
   "cell_type": "code",
   "execution_count": null,
   "metadata": {
    "ExecuteTime": {
     "end_time": "2021-08-23T05:17:12.765944Z",
     "start_time": "2021-08-23T05:15:25.574Z"
    }
   },
   "outputs": [],
   "source": [
    "num_columns = X_train.shape[1]\n",
    "num_labels = 1\n",
    "hidden_units = [150, 150, 150]\n",
    "dropout_rates = [0.1, 0, 0.1, 0]\n",
    "learning_rate = 1e-3\n",
    "\n",
    "\n",
    "model = nn_model(\n",
    "    num_columns=num_columns, \n",
    "    num_labels=num_labels,\n",
    "    hidden_units=hidden_units,\n",
    "    dropout_rates=dropout_rates,\n",
    "    learning_rate=learning_rate\n",
    ")\n",
    "r = model.fit(\n",
    "    X_train, y_train,\n",
    "    validation_data=(X_test, y_test),\n",
    "    epochs=15,\n",
    "    batch_size=32\n",
    ")"
   ]
  },
  {
   "cell_type": "code",
   "execution_count": null,
   "metadata": {
    "ExecuteTime": {
     "end_time": "2021-08-23T05:17:12.766941Z",
     "start_time": "2021-08-23T05:15:25.577Z"
    }
   },
   "outputs": [],
   "source": [
    "plot_learning_evolution(r)"
   ]
  },
  {
   "cell_type": "code",
   "execution_count": null,
   "metadata": {
    "ExecuteTime": {
     "end_time": "2021-08-23T05:17:12.766941Z",
     "start_time": "2021-08-23T05:15:25.581Z"
    }
   },
   "outputs": [],
   "source": [
    "y_train_pred = model.predict(X_train)\n",
    "evaluate_nn(y_train, y_train_pred.round(), train=True)"
   ]
  },
  {
   "cell_type": "code",
   "execution_count": null,
   "metadata": {
    "ExecuteTime": {
     "end_time": "2021-08-23T05:17:12.767939Z",
     "start_time": "2021-08-23T05:15:25.585Z"
    }
   },
   "outputs": [],
   "source": [
    "y_test_pred = model.predict(X_test)\n",
    "evaluate_nn(y_test, y_test_pred.round(), train=False)"
   ]
  },
  {
   "cell_type": "markdown",
   "metadata": {},
   "source": [
    "#### Modelling\n",
    "#### Hyper-parameter Tuning"
   ]
  },
  {
   "cell_type": "markdown",
   "metadata": {},
   "source": [
    "#### Evaluation Metrics"
   ]
  },
  {
   "cell_type": "markdown",
   "metadata": {},
   "source": [
    "##### Accuracy"
   ]
  },
  {
   "cell_type": "markdown",
   "metadata": {},
   "source": [
    "##### Misclassification Rate"
   ]
  },
  {
   "cell_type": "markdown",
   "metadata": {},
   "source": [
    "##### Sensitivity"
   ]
  },
  {
   "cell_type": "markdown",
   "metadata": {},
   "source": [
    "##### Specificity"
   ]
  },
  {
   "cell_type": "markdown",
   "metadata": {},
   "source": [
    "##### F1 Score"
   ]
  },
  {
   "cell_type": "markdown",
   "metadata": {},
   "source": [
    "##### ROC and AUC – Area Under the Curve"
   ]
  },
  {
   "cell_type": "code",
   "execution_count": null,
   "metadata": {},
   "outputs": [],
   "source": []
  },
  {
   "cell_type": "markdown",
   "metadata": {},
   "source": [
    "### Adaboost "
   ]
  },
  {
   "cell_type": "code",
   "execution_count": null,
   "metadata": {
    "ExecuteTime": {
     "end_time": "2021-08-23T05:17:12.767939Z",
     "start_time": "2021-08-23T05:15:29.599Z"
    }
   },
   "outputs": [],
   "source": [
    "from sklearn.ensemble import AdaBoostClassifier\n",
    "\n",
    "model_adab = AdaBoostClassifier(n_estimators=100, random_state=0)"
   ]
  },
  {
   "cell_type": "code",
   "execution_count": null,
   "metadata": {
    "ExecuteTime": {
     "end_time": "2021-08-23T05:17:12.768936Z",
     "start_time": "2021-08-23T05:15:29.603Z"
    }
   },
   "outputs": [],
   "source": [
    "\n",
    "model_adab.fit(X_train, y_train)"
   ]
  },
  {
   "cell_type": "code",
   "execution_count": null,
   "metadata": {
    "ExecuteTime": {
     "end_time": "2021-08-23T05:17:12.768936Z",
     "start_time": "2021-08-23T05:15:29.607Z"
    }
   },
   "outputs": [],
   "source": [
    "y_pred_adab = model_adab.predict(X_test)"
   ]
  },
  {
   "cell_type": "code",
   "execution_count": null,
   "metadata": {
    "ExecuteTime": {
     "end_time": "2021-08-23T05:17:12.769933Z",
     "start_time": "2021-08-23T05:15:29.610Z"
    }
   },
   "outputs": [],
   "source": [
    "adab_confusion_matrix = confusion_matrix(y_test, y_pred_adab).ravel()\n",
    "adab_confusion_matrix"
   ]
  },
  {
   "cell_type": "code",
   "execution_count": null,
   "metadata": {
    "ExecuteTime": {
     "end_time": "2021-08-23T05:17:12.769933Z",
     "start_time": "2021-08-23T05:15:29.614Z"
    }
   },
   "outputs": [],
   "source": [
    "plot_confusion_matrix(model_adab, X_test, y_test) \n",
    "plt.grid(False)\n",
    "plt.show()  "
   ]
  },
  {
   "cell_type": "code",
   "execution_count": null,
   "metadata": {
    "ExecuteTime": {
     "end_time": "2021-08-23T05:17:12.770931Z",
     "start_time": "2021-08-23T05:15:29.618Z"
    }
   },
   "outputs": [],
   "source": [
    "metric_adab = {}\n",
    "metric_adab['model_name'] = 'Adaboost'\n",
    "metric_adab['TN'] = adab_confusion_matrix[0]\n",
    "metric_adab['FP'] = adab_confusion_matrix[1]\n",
    "metric_adab['FN'] = adab_confusion_matrix[2]\n",
    "metric_adab['TP'] = adab_confusion_matrix[3]\n",
    "\n",
    "metric_adab['model'] = model_adab"
   ]
  },
  {
   "cell_type": "code",
   "execution_count": null,
   "metadata": {
    "ExecuteTime": {
     "end_time": "2021-08-23T05:17:12.771928Z",
     "start_time": "2021-08-23T05:15:29.622Z"
    }
   },
   "outputs": [],
   "source": [
    "accuracy_score(y_test, y_pred_adab)"
   ]
  },
  {
   "cell_type": "code",
   "execution_count": null,
   "metadata": {
    "ExecuteTime": {
     "end_time": "2021-08-23T05:17:12.771928Z",
     "start_time": "2021-08-23T05:15:29.625Z"
    }
   },
   "outputs": [],
   "source": [
    "print(\"Classification Report: \\n\", classification_report(y_test, y_pred_adab)) "
   ]
  },
  {
   "cell_type": "code",
   "execution_count": null,
   "metadata": {
    "ExecuteTime": {
     "end_time": "2021-08-23T05:17:12.772925Z",
     "start_time": "2021-08-23T05:15:29.629Z"
    }
   },
   "outputs": [],
   "source": [
    "y_pred_proba = model_adab.predict_proba(X_test)[::,1]\n",
    "fpr, tpr, _ = metrics.roc_curve(y_test,  y_pred_proba)\n",
    "auc = metrics.roc_auc_score(y_test, y_pred_proba)\n",
    "\n",
    "import matplotlib.pyplot as plt \n",
    "plt.plot(fpr,tpr,label=\"data 1, auc=\"+str(auc))\n",
    "plt.legend(loc=4)\n",
    "plt.show()"
   ]
  },
  {
   "cell_type": "code",
   "execution_count": null,
   "metadata": {},
   "outputs": [],
   "source": []
  },
  {
   "cell_type": "code",
   "execution_count": null,
   "metadata": {},
   "outputs": [],
   "source": []
  },
  {
   "cell_type": "raw",
   "metadata": {
    "ExecuteTime": {
     "end_time": "2021-08-19T06:20:03.747297Z",
     "start_time": "2021-08-19T06:20:03.739318Z"
    }
   },
   "source": [
    "\n",
    "# Number of trees in random forest\n",
    "#n_estimators = [int(x) for x in np.linspace(start = 200, stop = 2000, num = 10)]\n",
    "# Number of features to consider at every split\n",
    "max_features = ['auto', 'sqrt']\n",
    "# Maximum number of levels in tree\n",
    "max_depth = [int(x) for x in np.linspace(10, 110, num = 11)]\n",
    "max_depth.append(None)\n",
    "# Minimum number of samples required to split a node\n",
    "min_samples_split = [2, 5, 10]\n",
    "# Minimum number of samples required at each leaf node\n",
    "min_samples_leaf = [1, 2, 4]\n",
    "# Method of selecting samples for training each tree\n",
    "#bootstrap = [True, False]\n",
    "# Create the random grid\n",
    "random_grid = {'max_features': max_features,\n",
    "               'max_depth': max_depth,\n",
    "               'min_samples_split': min_samples_split,\n",
    "               'min_samples_leaf': min_samples_leaf}\n",
    "#'n_estimators': n_estimators,\n",
    "#'bootstrap': bootstrap\n",
    "# pprint(random_grid)\n",
    "# {'bootstrap': [True, False],\n",
    "#  'max_depth': [10, 20, 30, 40, 50, 60, 70, 80, 90, 100, None],\n",
    "#  'max_features': ['auto', 'sqrt'],\n",
    "#  'min_samples_leaf': [1, 2, 4],\n",
    "#  'min_samples_split': [2, 5, 10],\n",
    "#  'n_estimators': [200, 400, 600, 800, 1000, 1200, 1400, 1600, 1800, 2000]}"
   ]
  },
  {
   "cell_type": "code",
   "execution_count": null,
   "metadata": {
    "ExecuteTime": {
     "end_time": "2021-08-23T05:17:12.772925Z",
     "start_time": "2021-08-23T05:15:29.870Z"
    }
   },
   "outputs": [],
   "source": [
    " \n",
    "\n",
    "parameters_adab = {'base_estimator__max_depth':[i for i in range(2,11,2)],\n",
    "              'base_estimator__min_samples_leaf':[i for i in range(2,25,2)],\n",
    "              'n_estimators':[10,50,100, 200, 250,500, 1000],\n",
    "              'learning_rate':[0.01,0.1]}\n",
    "\n",
    "# clf = GridSearchCV(abc, parameters,verbose=3,scoring='f1',n_jobs=-1)\n",
    "# clf.fit(X_train,y_train)"
   ]
  },
  {
   "cell_type": "code",
   "execution_count": null,
   "metadata": {
    "ExecuteTime": {
     "end_time": "2021-08-23T05:17:12.773922Z",
     "start_time": "2021-08-23T05:15:29.874Z"
    }
   },
   "outputs": [],
   "source": [
    "# Use the random grid to search for best hyperparameters\n",
    "# First create the base model to tune\n",
    "model_AdaB_RSCV = AdaBoostClassifier(base_estimator=DecisionTreeClassifier())\n",
    "# Random search of parameters, using 3 fold cross validation, \n",
    "# search across 100 different combinations, and use all available cores\n",
    "model_AdaB_random = RandomizedSearchCV(estimator = model_AdaB_RSCV, param_distributions = parameters_adab, scoring = 'roc_auc', n_iter = 100, cv = 3, verbose=2, random_state=42, n_jobs = -1)\n",
    "# Fit the random search model\n",
    "model_AdaB_random.fit(X_train, y_train)"
   ]
  },
  {
   "cell_type": "code",
   "execution_count": null,
   "metadata": {
    "ExecuteTime": {
     "end_time": "2021-08-23T05:17:12.774920Z",
     "start_time": "2021-08-23T05:15:29.878Z"
    }
   },
   "outputs": [],
   "source": [
    "y_pred_RSCV_AdaB = model_AdaB_random.predict(X_test)"
   ]
  },
  {
   "cell_type": "code",
   "execution_count": null,
   "metadata": {
    "ExecuteTime": {
     "end_time": "2021-08-23T05:17:12.774920Z",
     "start_time": "2021-08-23T05:15:29.882Z"
    }
   },
   "outputs": [],
   "source": [
    "RSCV_AdaB_confusion_matrix = confusion_matrix(y_test, y_pred_RSCV_AdaB).ravel()\n",
    "RSCV_AdaB_confusion_matrix"
   ]
  },
  {
   "cell_type": "code",
   "execution_count": null,
   "metadata": {
    "ExecuteTime": {
     "end_time": "2021-08-23T05:17:12.775917Z",
     "start_time": "2021-08-23T05:15:29.885Z"
    }
   },
   "outputs": [],
   "source": [
    "plot_confusion_matrix(model_AdaB_random, X_test, y_test)  \n",
    "plt.grid(False)\n",
    "plt.show() "
   ]
  },
  {
   "cell_type": "code",
   "execution_count": null,
   "metadata": {
    "ExecuteTime": {
     "end_time": "2021-08-23T05:17:12.775917Z",
     "start_time": "2021-08-23T05:15:29.888Z"
    }
   },
   "outputs": [],
   "source": [
    "\n",
    "accuracy_score(y_test, y_pred_RSCV_AdaB)"
   ]
  },
  {
   "cell_type": "code",
   "execution_count": null,
   "metadata": {
    "ExecuteTime": {
     "end_time": "2021-08-23T05:17:12.776914Z",
     "start_time": "2021-08-23T05:15:29.892Z"
    }
   },
   "outputs": [],
   "source": [
    "\n",
    "print(\"Classification Report: \\n\", classification_report(y_test, y_pred_RSCV_AdaB)) "
   ]
  },
  {
   "cell_type": "code",
   "execution_count": null,
   "metadata": {
    "ExecuteTime": {
     "end_time": "2021-08-23T05:17:12.776914Z",
     "start_time": "2021-08-23T05:15:29.895Z"
    }
   },
   "outputs": [],
   "source": [
    "from sklearn import metrics\n",
    "y_pred_proba = model_AdaB_random.predict_proba(X_test)[::,1]\n",
    "fpr, tpr, _ = metrics.roc_curve(y_test,  y_pred_proba)\n",
    "auc = metrics.roc_auc_score(y_test, y_pred_proba)\n",
    "\n",
    "import matplotlib.pyplot as plt \n",
    "plt.plot(fpr,tpr,label=\"data 1, auc=\"+str(auc))\n",
    "plt.legend(loc=4)\n",
    "plt.show()"
   ]
  },
  {
   "cell_type": "code",
   "execution_count": null,
   "metadata": {},
   "outputs": [],
   "source": []
  },
  {
   "cell_type": "markdown",
   "metadata": {},
   "source": [
    "### ExtraTreesClassifier "
   ]
  },
  {
   "cell_type": "code",
   "execution_count": null,
   "metadata": {},
   "outputs": [],
   "source": []
  },
  {
   "cell_type": "code",
   "execution_count": null,
   "metadata": {
    "ExecuteTime": {
     "end_time": "2021-08-23T05:17:12.777912Z",
     "start_time": "2021-08-23T05:15:30.206Z"
    }
   },
   "outputs": [],
   "source": [
    "from sklearn.ensemble import ExtraTreesClassifier\n",
    "\n",
    "model_ETC = ExtraTreesClassifier(n_estimators=100, random_state=0)"
   ]
  },
  {
   "cell_type": "code",
   "execution_count": null,
   "metadata": {
    "ExecuteTime": {
     "end_time": "2021-08-23T05:17:12.777912Z",
     "start_time": "2021-08-23T05:15:30.211Z"
    }
   },
   "outputs": [],
   "source": [
    "\n",
    "model_ETC.fit(X_train, y_train)"
   ]
  },
  {
   "cell_type": "code",
   "execution_count": null,
   "metadata": {
    "ExecuteTime": {
     "end_time": "2021-08-23T05:17:12.778909Z",
     "start_time": "2021-08-23T05:15:30.217Z"
    }
   },
   "outputs": [],
   "source": [
    "y_pred_ETC = model_ETC.predict(X_test)"
   ]
  },
  {
   "cell_type": "code",
   "execution_count": null,
   "metadata": {
    "ExecuteTime": {
     "end_time": "2021-08-23T05:17:12.778909Z",
     "start_time": "2021-08-23T05:15:30.222Z"
    }
   },
   "outputs": [],
   "source": [
    "ETC_confusion_matrix = confusion_matrix(y_test, y_pred_ETC).ravel()\n",
    "ETC_confusion_matrix"
   ]
  },
  {
   "cell_type": "code",
   "execution_count": null,
   "metadata": {
    "ExecuteTime": {
     "end_time": "2021-08-23T05:17:12.779906Z",
     "start_time": "2021-08-23T05:15:30.226Z"
    }
   },
   "outputs": [],
   "source": [
    "plot_confusion_matrix(model_ETC, X_test, y_test) \n",
    "plt.grid(False)\n",
    "plt.show()  "
   ]
  },
  {
   "cell_type": "code",
   "execution_count": null,
   "metadata": {
    "ExecuteTime": {
     "end_time": "2021-08-23T05:17:12.780904Z",
     "start_time": "2021-08-23T05:15:30.230Z"
    }
   },
   "outputs": [],
   "source": [
    "metric_ETC = {}\n",
    "metric_ETC['model_name'] = 'ExtraTreesClassifier'\n",
    "metric_ETC['TN'] = ETC_confusion_matrix[0]\n",
    "metric_ETC['FP'] = ETC_confusion_matrix[1]\n",
    "metric_ETC['FN'] = ETC_confusion_matrix[2]\n",
    "metric_ETC['TP'] = ETC_confusion_matrix[3]\n",
    "\n",
    "metric_ETC['model'] = model_ETC"
   ]
  },
  {
   "cell_type": "code",
   "execution_count": null,
   "metadata": {
    "ExecuteTime": {
     "end_time": "2021-08-23T05:17:12.781901Z",
     "start_time": "2021-08-23T05:15:30.234Z"
    }
   },
   "outputs": [],
   "source": [
    "accuracy_score(y_test, y_pred_ETC)"
   ]
  },
  {
   "cell_type": "code",
   "execution_count": null,
   "metadata": {
    "ExecuteTime": {
     "end_time": "2021-08-23T05:17:12.781901Z",
     "start_time": "2021-08-23T05:15:30.239Z"
    }
   },
   "outputs": [],
   "source": [
    "print(\"Classification Report: \\n\", classification_report(y_test, y_pred_ETC)) "
   ]
  },
  {
   "cell_type": "code",
   "execution_count": null,
   "metadata": {
    "ExecuteTime": {
     "end_time": "2021-08-23T05:17:12.782899Z",
     "start_time": "2021-08-23T05:15:30.243Z"
    }
   },
   "outputs": [],
   "source": [
    "y_pred_proba = model_ETC.predict_proba(X_test)[::,1]\n",
    "fpr, tpr, _ = metrics.roc_curve(y_test,  y_pred_proba)\n",
    "auc = metrics.roc_auc_score(y_test, y_pred_proba)\n",
    "\n",
    "import matplotlib.pyplot as plt \n",
    "plt.plot(fpr,tpr,label=\"data 1, auc=\"+str(auc))\n",
    "plt.legend(loc=4)\n",
    "plt.show()"
   ]
  },
  {
   "cell_type": "code",
   "execution_count": null,
   "metadata": {},
   "outputs": [],
   "source": []
  },
  {
   "cell_type": "code",
   "execution_count": null,
   "metadata": {
    "ExecuteTime": {
     "end_time": "2021-08-23T05:17:12.783896Z",
     "start_time": "2021-08-23T05:15:30.249Z"
    }
   },
   "outputs": [],
   "source": [
    "model_ETC.get_params() "
   ]
  },
  {
   "cell_type": "code",
   "execution_count": null,
   "metadata": {
    "ExecuteTime": {
     "end_time": "2021-08-23T05:17:12.783896Z",
     "start_time": "2021-08-23T05:15:30.252Z"
    }
   },
   "outputs": [],
   "source": [
    "parameters_ETC = {'n_estimators':[10,50,100, 200, 250,500, 1000],\n",
    "                  'max_depth': [1,2,5,3,5,8,10,16],\n",
    "                  'min_samples_leaf':[i for i in range(2,25,2)]\n",
    "                 \n",
    "                 }\n",
    "\n",
    "# parameters_ETC = {'base_estimator__max_depth':[i for i in range(2,11,2)],\n",
    "#               'base_estimator__min_samples_leaf':[i for i in range(2,25,2)],\n",
    "#               'n_estimators':[10,50,100, 200, 250,500, 1000],\n",
    "#               'learning_rate':[0.01,0.1]}\n",
    "\n",
    "# clf = GridSearchCV(abc, parameters,verbose=3,scoring='f1',n_jobs=-1)\n",
    "# clf.fit(X_train,y_train)"
   ]
  },
  {
   "cell_type": "code",
   "execution_count": null,
   "metadata": {
    "ExecuteTime": {
     "end_time": "2021-08-23T05:17:12.784893Z",
     "start_time": "2021-08-23T05:15:30.256Z"
    }
   },
   "outputs": [],
   "source": [
    "# Use the random grid to search for best hyperparameters\n",
    "# First create the base model to tune\n",
    "model_ETC_RSCV = ExtraTreesClassifier(random_state=42)\n",
    "# Random search of parameters, using 3 fold cross validation, \n",
    "# search across 100 different combinations, and use all available cores\n",
    "model_ETC_random = RandomizedSearchCV(estimator = model_ETC_RSCV, param_distributions = parameters_ETC, scoring = 'roc_auc', n_iter = 100, cv = 3, verbose=2, random_state=42, n_jobs = -1)\n",
    "# Fit the random search model\n",
    "model_ETC_random.fit(X_train, y_train)"
   ]
  },
  {
   "cell_type": "code",
   "execution_count": null,
   "metadata": {
    "ExecuteTime": {
     "end_time": "2021-08-23T05:17:12.784893Z",
     "start_time": "2021-08-23T05:15:30.260Z"
    }
   },
   "outputs": [],
   "source": [
    "y_pred_RSCV_ETC = model_ETC_random.predict(X_test)"
   ]
  },
  {
   "cell_type": "code",
   "execution_count": null,
   "metadata": {
    "ExecuteTime": {
     "end_time": "2021-08-23T05:17:12.785891Z",
     "start_time": "2021-08-23T05:15:30.264Z"
    }
   },
   "outputs": [],
   "source": [
    "RSCV_ETC_confusion_matrix = confusion_matrix(y_test, y_pred_RSCV_ETC).ravel()\n",
    "RSCV_ETC_confusion_matrix"
   ]
  },
  {
   "cell_type": "code",
   "execution_count": null,
   "metadata": {
    "ExecuteTime": {
     "end_time": "2021-08-23T05:17:12.786888Z",
     "start_time": "2021-08-23T05:15:30.268Z"
    }
   },
   "outputs": [],
   "source": [
    "plot_confusion_matrix(model_ETC_random, X_test, y_test)  \n",
    "plt.grid(False)\n",
    "plt.show() "
   ]
  },
  {
   "cell_type": "code",
   "execution_count": null,
   "metadata": {
    "ExecuteTime": {
     "end_time": "2021-08-23T05:17:12.786888Z",
     "start_time": "2021-08-23T05:15:30.272Z"
    }
   },
   "outputs": [],
   "source": [
    "\n",
    "accuracy_score(y_test, y_pred_RSCV_ETC)"
   ]
  },
  {
   "cell_type": "code",
   "execution_count": null,
   "metadata": {
    "ExecuteTime": {
     "end_time": "2021-08-23T05:17:12.787885Z",
     "start_time": "2021-08-23T05:15:30.276Z"
    }
   },
   "outputs": [],
   "source": [
    "\n",
    "print(\"Classification Report: \\n\", classification_report(y_test, y_pred_RSCV_ETC)) "
   ]
  },
  {
   "cell_type": "code",
   "execution_count": null,
   "metadata": {
    "ExecuteTime": {
     "end_time": "2021-08-23T05:17:12.787885Z",
     "start_time": "2021-08-23T05:15:30.280Z"
    }
   },
   "outputs": [],
   "source": [
    "from sklearn import metrics\n",
    "y_pred_proba = model_ETC_random.predict_proba(X_test)[::,1]\n",
    "fpr, tpr, _ = metrics.roc_curve(y_test,  y_pred_proba)\n",
    "auc = metrics.roc_auc_score(y_test, y_pred_proba)\n",
    "\n",
    "import matplotlib.pyplot as plt \n",
    "plt.plot(fpr,tpr,label=\"data 1, auc=\"+str(auc))\n",
    "plt.legend(loc=4)\n",
    "plt.show()"
   ]
  },
  {
   "cell_type": "code",
   "execution_count": null,
   "metadata": {},
   "outputs": [],
   "source": []
  },
  {
   "cell_type": "code",
   "execution_count": null,
   "metadata": {},
   "outputs": [],
   "source": []
  },
  {
   "cell_type": "raw",
   "metadata": {
    "ExecuteTime": {
     "end_time": "2021-08-19T02:44:47.513739Z",
     "start_time": "2021-08-19T02:44:38.265463Z"
    }
   },
   "source": []
  },
  {
   "cell_type": "raw",
   "metadata": {
    "ExecuteTime": {
     "end_time": "2021-08-19T02:44:47.513739Z",
     "start_time": "2021-08-19T02:44:38.265463Z"
    }
   },
   "source": []
  },
  {
   "cell_type": "code",
   "execution_count": null,
   "metadata": {},
   "outputs": [],
   "source": []
  },
  {
   "cell_type": "markdown",
   "metadata": {},
   "source": [
    "### GradientBoostingClassifier "
   ]
  },
  {
   "cell_type": "code",
   "execution_count": null,
   "metadata": {},
   "outputs": [],
   "source": []
  },
  {
   "cell_type": "code",
   "execution_count": null,
   "metadata": {
    "ExecuteTime": {
     "end_time": "2021-08-23T05:17:12.788882Z",
     "start_time": "2021-08-23T05:15:30.872Z"
    }
   },
   "outputs": [],
   "source": [
    "from sklearn.ensemble import GradientBoostingClassifier\n",
    "\n",
    "model_GBC = GradientBoostingClassifier(n_estimators=100, learning_rate=1.0, max_depth=1, random_state=0)"
   ]
  },
  {
   "cell_type": "code",
   "execution_count": null,
   "metadata": {
    "ExecuteTime": {
     "end_time": "2021-08-23T05:17:12.789880Z",
     "start_time": "2021-08-23T05:15:30.880Z"
    }
   },
   "outputs": [],
   "source": [
    "\n",
    "model_GBC.fit(X_train, y_train)"
   ]
  },
  {
   "cell_type": "code",
   "execution_count": null,
   "metadata": {
    "ExecuteTime": {
     "end_time": "2021-08-23T05:17:12.789880Z",
     "start_time": "2021-08-23T05:15:30.887Z"
    }
   },
   "outputs": [],
   "source": [
    "y_pred_GBC = model_GBC.predict(X_test)"
   ]
  },
  {
   "cell_type": "code",
   "execution_count": null,
   "metadata": {
    "ExecuteTime": {
     "end_time": "2021-08-23T05:17:12.790877Z",
     "start_time": "2021-08-23T05:15:30.892Z"
    }
   },
   "outputs": [],
   "source": [
    "GBC_confusion_matrix = confusion_matrix(y_test, y_pred_GBC).ravel()\n",
    "GBC_confusion_matrix"
   ]
  },
  {
   "cell_type": "code",
   "execution_count": null,
   "metadata": {
    "ExecuteTime": {
     "end_time": "2021-08-23T05:17:12.790877Z",
     "start_time": "2021-08-23T05:15:30.897Z"
    }
   },
   "outputs": [],
   "source": [
    "plot_confusion_matrix(model_GBC, X_test, y_test) \n",
    "plt.grid(False)\n",
    "plt.show()  "
   ]
  },
  {
   "cell_type": "code",
   "execution_count": null,
   "metadata": {
    "ExecuteTime": {
     "end_time": "2021-08-23T05:17:12.791874Z",
     "start_time": "2021-08-23T05:15:30.901Z"
    }
   },
   "outputs": [],
   "source": [
    "metric_GBC = {}\n",
    "metric_GBC['model_name'] = 'GradientBoostingClassifier'\n",
    "metric_GBC['TN'] = GBC_confusion_matrix[0]\n",
    "metric_GBC['FP'] = GBC_confusion_matrix[1]\n",
    "metric_GBC['FN'] = GBC_confusion_matrix[2]\n",
    "metric_GBC['TP'] = GBC_confusion_matrix[3]\n",
    "\n",
    "metric_GBC['model'] = model_GBC"
   ]
  },
  {
   "cell_type": "code",
   "execution_count": null,
   "metadata": {
    "ExecuteTime": {
     "end_time": "2021-08-23T05:17:12.791874Z",
     "start_time": "2021-08-23T05:15:30.905Z"
    }
   },
   "outputs": [],
   "source": [
    "accuracy_score(y_test, y_pred_GBC)"
   ]
  },
  {
   "cell_type": "code",
   "execution_count": null,
   "metadata": {
    "ExecuteTime": {
     "end_time": "2021-08-23T05:17:12.792872Z",
     "start_time": "2021-08-23T05:15:30.909Z"
    }
   },
   "outputs": [],
   "source": [
    "print(\"Classification Report: \\n\", classification_report(y_test, y_pred_GBC)) "
   ]
  },
  {
   "cell_type": "code",
   "execution_count": null,
   "metadata": {
    "ExecuteTime": {
     "end_time": "2021-08-23T05:17:12.793869Z",
     "start_time": "2021-08-23T05:15:30.912Z"
    }
   },
   "outputs": [],
   "source": [
    "y_pred_proba = model_GBC.predict_proba(X_test)[::,1]\n",
    "fpr, tpr, _ = metrics.roc_curve(y_test,  y_pred_proba)\n",
    "auc = metrics.roc_auc_score(y_test, y_pred_proba)\n",
    "\n",
    "import matplotlib.pyplot as plt \n",
    "plt.plot(fpr,tpr,label=\"data 1, auc=\"+str(auc))\n",
    "plt.legend(loc=4)\n",
    "plt.show()"
   ]
  },
  {
   "cell_type": "code",
   "execution_count": null,
   "metadata": {},
   "outputs": [],
   "source": []
  },
  {
   "cell_type": "code",
   "execution_count": null,
   "metadata": {
    "ExecuteTime": {
     "end_time": "2021-08-23T05:17:12.793869Z",
     "start_time": "2021-08-23T05:15:30.918Z"
    }
   },
   "outputs": [],
   "source": [
    "model_GBC.get_params()  "
   ]
  },
  {
   "cell_type": "code",
   "execution_count": null,
   "metadata": {
    "ExecuteTime": {
     "end_time": "2021-08-23T05:17:12.794867Z",
     "start_time": "2021-08-23T05:15:30.921Z"
    }
   },
   "outputs": [],
   "source": [
    "\n",
    "# Number of trees in random forest\n",
    "#n_estimators = [int(x) for x in np.linspace(start = 200, stop = 2000, num = 10)]\n",
    "# # Number of features to consider at every split\n",
    "# max_features = ['auto', 'sqrt']\n",
    "# # Maximum number of levels in tree\n",
    "# max_depth = [int(x) for x in np.linspace(10, 110, num = 11)]\n",
    "# max_depth.append(None)\n",
    "# # Minimum number of samples required to split a node\n",
    "# min_samples_split = [2, 5, 10]\n",
    "# # Minimum number of samples required at each leaf node\n",
    "# min_samples_leaf = [1, 2, 4]\n",
    "# # Method of selecting samples for training each tree\n",
    "# #bootstrap = [True, False]\n",
    "# # Create the random grid\n",
    "# random_grid = {'max_features': max_features,\n",
    "#                'max_depth': max_depth,\n",
    "#                'min_samples_split': min_samples_split,\n",
    "#                'min_samples_leaf': min_samples_leaf}\n",
    "#'n_estimators': n_estimators,\n",
    "#'bootstrap': bootstrap\n",
    "# pprint(random_grid)\n",
    "params_GBC = {'max_depth': [10, 20, 30, 40, 50, 60, 70, 80, 90, 100],\n",
    "              'max_features': ['auto', 'sqrt'],\n",
    "              'min_samples_leaf': [1, 2, 4],\n",
    "              'min_samples_split': [2, 5, 10],\n",
    "              'n_estimators': [100, 200, 400, 600, 800, 1000],\n",
    "              'learning_rate': [0.01, 0.02, 0.05, 0.1, 0.2, 0.3, 0.5,1.0]}\n",
    "              "
   ]
  },
  {
   "cell_type": "code",
   "execution_count": null,
   "metadata": {
    "ExecuteTime": {
     "end_time": "2021-08-23T05:17:12.795864Z",
     "start_time": "2021-08-23T05:15:30.924Z"
    }
   },
   "outputs": [],
   "source": [
    "# Use the random grid to search for best hyperparameters\n",
    "# First create the base model to tune\n",
    "model_GBC_RSCV = GradientBoostingClassifier()\n",
    "# Random search of parameters, using 3 fold cross validation, \n",
    "# search across 100 different combinations, and use all available cores\n",
    "model_GBC_random = RandomizedSearchCV(estimator = model_GBC_RSCV, param_distributions = params_GBC, n_iter = 100, cv = 3, verbose=2, random_state=42, n_jobs = -1)\n",
    "# Fit the random search model\n",
    "model_GBC_random.fit(X_train, y_train)"
   ]
  },
  {
   "cell_type": "code",
   "execution_count": null,
   "metadata": {
    "ExecuteTime": {
     "end_time": "2021-08-23T05:17:12.795864Z",
     "start_time": "2021-08-23T05:15:30.927Z"
    }
   },
   "outputs": [],
   "source": [
    "y_pred_RSCV_GBC = model_GBC_random.predict(X_test)"
   ]
  },
  {
   "cell_type": "code",
   "execution_count": null,
   "metadata": {
    "ExecuteTime": {
     "end_time": "2021-08-23T05:17:12.796862Z",
     "start_time": "2021-08-23T05:15:30.931Z"
    }
   },
   "outputs": [],
   "source": [
    "RSCV_GBC_confusion_matrix = confusion_matrix(y_test, y_pred_RSCV_GBC).ravel()\n",
    "RSCV_GBC_confusion_matrix"
   ]
  },
  {
   "cell_type": "code",
   "execution_count": null,
   "metadata": {
    "ExecuteTime": {
     "end_time": "2021-08-23T05:17:12.797858Z",
     "start_time": "2021-08-23T05:15:30.935Z"
    }
   },
   "outputs": [],
   "source": [
    "plot_confusion_matrix(model_GBC_random, X_test, y_test)  \n",
    "plt.grid(False)\n",
    "plt.show() "
   ]
  },
  {
   "cell_type": "code",
   "execution_count": null,
   "metadata": {
    "ExecuteTime": {
     "end_time": "2021-08-23T05:17:12.797858Z",
     "start_time": "2021-08-23T05:15:30.940Z"
    }
   },
   "outputs": [],
   "source": [
    "\n",
    "accuracy_score(y_test, y_pred_RSCV_GBC)"
   ]
  },
  {
   "cell_type": "code",
   "execution_count": null,
   "metadata": {
    "ExecuteTime": {
     "end_time": "2021-08-23T05:17:12.798856Z",
     "start_time": "2021-08-23T05:15:30.945Z"
    }
   },
   "outputs": [],
   "source": [
    "\n",
    "print(\"Classification Report: \\n\", classification_report(y_test, y_pred_RSCV_GBC)) "
   ]
  },
  {
   "cell_type": "code",
   "execution_count": null,
   "metadata": {
    "ExecuteTime": {
     "end_time": "2021-08-23T05:17:12.798856Z",
     "start_time": "2021-08-23T05:15:30.950Z"
    }
   },
   "outputs": [],
   "source": [
    "from sklearn import metrics\n",
    "y_pred_proba = model_GBC_random.predict_proba(X_test)[::,1]\n",
    "fpr, tpr, _ = metrics.roc_curve(y_test,  y_pred_proba)\n",
    "auc = metrics.roc_auc_score(y_test, y_pred_proba)\n",
    "\n",
    "import matplotlib.pyplot as plt \n",
    "plt.plot(fpr,tpr,label=\"data 1, auc=\"+str(auc))\n",
    "plt.legend(loc=4)\n",
    "plt.show()"
   ]
  },
  {
   "cell_type": "code",
   "execution_count": null,
   "metadata": {},
   "outputs": [],
   "source": []
  },
  {
   "cell_type": "markdown",
   "metadata": {},
   "source": [
    "### BaggingClassifier"
   ]
  },
  {
   "cell_type": "code",
   "execution_count": null,
   "metadata": {},
   "outputs": [],
   "source": []
  },
  {
   "cell_type": "code",
   "execution_count": null,
   "metadata": {
    "ExecuteTime": {
     "end_time": "2021-08-23T05:17:12.799853Z",
     "start_time": "2021-08-23T05:15:31.273Z"
    }
   },
   "outputs": [],
   "source": [
    "from sklearn.ensemble import BaggingClassifier\n",
    "from sklearn.svm import SVC\n",
    "\n",
    "model_BagC = BaggingClassifier(base_estimator=SVC(), n_estimators=10, random_state=0)"
   ]
  },
  {
   "cell_type": "code",
   "execution_count": null,
   "metadata": {
    "ExecuteTime": {
     "end_time": "2021-08-23T05:17:12.799853Z",
     "start_time": "2021-08-23T05:15:31.277Z"
    }
   },
   "outputs": [],
   "source": [
    "\n",
    "model_BagC.fit(X_train, y_train)"
   ]
  },
  {
   "cell_type": "code",
   "execution_count": null,
   "metadata": {
    "ExecuteTime": {
     "end_time": "2021-08-23T05:17:12.800850Z",
     "start_time": "2021-08-23T05:15:31.282Z"
    }
   },
   "outputs": [],
   "source": [
    "y_pred_BagC = model_BagC.predict(X_test)"
   ]
  },
  {
   "cell_type": "code",
   "execution_count": null,
   "metadata": {
    "ExecuteTime": {
     "end_time": "2021-08-23T05:17:12.801848Z",
     "start_time": "2021-08-23T05:15:31.286Z"
    }
   },
   "outputs": [],
   "source": [
    "BagC_confusion_matrix = confusion_matrix(y_test, y_pred_BagC).ravel()\n",
    "BagC_confusion_matrix"
   ]
  },
  {
   "cell_type": "code",
   "execution_count": null,
   "metadata": {
    "ExecuteTime": {
     "end_time": "2021-08-23T05:17:12.801848Z",
     "start_time": "2021-08-23T05:15:31.290Z"
    }
   },
   "outputs": [],
   "source": [
    "plot_confusion_matrix(model_BagC, X_test, y_test) \n",
    "plt.grid(False)\n",
    "plt.show()  "
   ]
  },
  {
   "cell_type": "code",
   "execution_count": null,
   "metadata": {
    "ExecuteTime": {
     "end_time": "2021-08-23T05:17:12.802845Z",
     "start_time": "2021-08-23T05:15:31.293Z"
    }
   },
   "outputs": [],
   "source": [
    "metric_BagC = {}\n",
    "metric_BagC['model_name'] = 'BaggingClassifier'\n",
    "metric_BagC['TN'] = BagC_confusion_matrix[0]\n",
    "metric_BagC['FP'] = BagC_confusion_matrix[1]\n",
    "metric_BagC['FN'] = BagC_confusion_matrix[2]\n",
    "metric_BagC['TP'] = BagC_confusion_matrix[3]\n",
    "\n",
    "metric_BagC['model'] = model_BagC"
   ]
  },
  {
   "cell_type": "code",
   "execution_count": null,
   "metadata": {
    "ExecuteTime": {
     "end_time": "2021-08-23T05:17:12.802845Z",
     "start_time": "2021-08-23T05:15:31.297Z"
    }
   },
   "outputs": [],
   "source": [
    "accuracy_score(y_test, y_pred_BagC)"
   ]
  },
  {
   "cell_type": "code",
   "execution_count": null,
   "metadata": {
    "ExecuteTime": {
     "end_time": "2021-08-23T05:17:12.803843Z",
     "start_time": "2021-08-23T05:15:31.302Z"
    }
   },
   "outputs": [],
   "source": [
    "print(\"Classification Report: \\n\", classification_report(y_test, y_pred_BagC)) "
   ]
  },
  {
   "cell_type": "code",
   "execution_count": null,
   "metadata": {
    "ExecuteTime": {
     "end_time": "2021-08-23T05:17:12.803843Z",
     "start_time": "2021-08-23T05:15:31.306Z"
    }
   },
   "outputs": [],
   "source": [
    "y_pred_proba = model_BagC.predict_proba(X_test)[::,1]\n",
    "fpr, tpr, _ = metrics.roc_curve(y_test,  y_pred_proba)\n",
    "auc = metrics.roc_auc_score(y_test, y_pred_proba)\n",
    "\n",
    "import matplotlib.pyplot as plt \n",
    "plt.plot(fpr,tpr,label=\"data 1, auc=\"+str(auc))\n",
    "plt.legend(loc=4)\n",
    "plt.show()"
   ]
  },
  {
   "cell_type": "code",
   "execution_count": null,
   "metadata": {},
   "outputs": [],
   "source": []
  },
  {
   "cell_type": "code",
   "execution_count": null,
   "metadata": {},
   "outputs": [],
   "source": []
  },
  {
   "cell_type": "raw",
   "metadata": {
    "ExecuteTime": {
     "end_time": "2021-08-19T06:20:03.747297Z",
     "start_time": "2021-08-19T06:20:03.739318Z"
    }
   },
   "source": [
    "\n",
    "# Number of trees in random forest\n",
    "#n_estimators = [int(x) for x in np.linspace(start = 200, stop = 2000, num = 10)]\n",
    "# Number of features to consider at every split\n",
    "max_features = ['auto', 'sqrt']\n",
    "# Maximum number of levels in tree\n",
    "max_depth = [int(x) for x in np.linspace(10, 110, num = 11)]\n",
    "max_depth.append(None)\n",
    "# Minimum number of samples required to split a node\n",
    "min_samples_split = [2, 5, 10]\n",
    "# Minimum number of samples required at each leaf node\n",
    "min_samples_leaf = [1, 2, 4]\n",
    "# Method of selecting samples for training each tree\n",
    "#bootstrap = [True, False]\n",
    "# Create the random grid\n",
    "random_grid = {'max_features': max_features,\n",
    "               'max_depth': max_depth,\n",
    "               'min_samples_split': min_samples_split,\n",
    "               'min_samples_leaf': min_samples_leaf}\n",
    "#'n_estimators': n_estimators,\n",
    "#'bootstrap': bootstrap\n",
    "# pprint(random_grid)\n",
    "# {'bootstrap': [True, False],\n",
    "#  'max_depth': [10, 20, 30, 40, 50, 60, 70, 80, 90, 100, None],\n",
    "#  'max_features': ['auto', 'sqrt'],\n",
    "#  'min_samples_leaf': [1, 2, 4],\n",
    "#  'min_samples_split': [2, 5, 10],\n",
    "#  'n_estimators': [200, 400, 600, 800, 1000, 1200, 1400, 1600, 1800, 2000]}"
   ]
  },
  {
   "cell_type": "raw",
   "metadata": {
    "ExecuteTime": {
     "end_time": "2021-08-20T09:00:19.044875Z",
     "start_time": "2021-08-19T06:20:06.091746Z"
    }
   },
   "source": [
    "# Use the random grid to search for best hyperparameters\n",
    "# First create the base model to tune\n",
    "model_DT_RSCV = DecisionTreeClassifier()\n",
    "# Random search of parameters, using 3 fold cross validation, \n",
    "# search across 100 different combinations, and use all available cores\n",
    "model_DT_random = RandomizedSearchCV(estimator = model_DT_RSCV, param_distributions = random_grid, n_iter = 100, cv = 3, verbose=2, random_state=42, n_jobs = -1)\n",
    "# Fit the random search model\n",
    "model_DT_random.fit(X_train, y_train)"
   ]
  },
  {
   "cell_type": "raw",
   "metadata": {
    "ExecuteTime": {
     "end_time": "2021-08-20T09:00:20.264626Z",
     "start_time": "2021-08-20T09:00:19.047851Z"
    }
   },
   "source": [
    "y_pred_RSCV_DT = model_DT_random.predict(X_test)"
   ]
  },
  {
   "cell_type": "raw",
   "metadata": {
    "ExecuteTime": {
     "end_time": "2021-08-20T09:00:20.311124Z",
     "start_time": "2021-08-20T09:00:20.265624Z"
    }
   },
   "source": [
    "RSCV_DT_confusion_matrix = confusion_matrix(y_test, y_pred_RSCV_DT).ravel()\n",
    "RSCV_DT_confusion_matrix"
   ]
  },
  {
   "cell_type": "raw",
   "metadata": {
    "ExecuteTime": {
     "end_time": "2021-08-20T09:00:21.652848Z",
     "start_time": "2021-08-20T09:00:20.312124Z"
    }
   },
   "source": [
    "plot_confusion_matrix(model_DT_random, X_test, y_test)  \n",
    "plt.grid(False)\n",
    "plt.show() "
   ]
  },
  {
   "cell_type": "raw",
   "metadata": {
    "ExecuteTime": {
     "end_time": "2021-08-20T09:00:21.668855Z",
     "start_time": "2021-08-20T09:00:21.653857Z"
    }
   },
   "source": [
    "\n",
    "accuracy_score(y_test, y_pred_RSCV_DT)"
   ]
  },
  {
   "cell_type": "raw",
   "metadata": {
    "ExecuteTime": {
     "end_time": "2021-08-20T09:00:21.716024Z",
     "start_time": "2021-08-20T09:00:21.670814Z"
    }
   },
   "source": [
    "\n",
    "print(\"Classification Report: \\n\", classification_report(y_test, y_pred_RSCV_DT)) "
   ]
  },
  {
   "cell_type": "raw",
   "metadata": {
    "ExecuteTime": {
     "end_time": "2021-08-20T09:00:23.045074Z",
     "start_time": "2021-08-20T09:00:21.717022Z"
    }
   },
   "source": [
    "from sklearn import metrics\n",
    "y_pred_proba = model_DT_random.predict_proba(X_test)[::,1]\n",
    "fpr, tpr, _ = metrics.roc_curve(y_test,  y_pred_proba)\n",
    "auc = metrics.roc_auc_score(y_test, y_pred_proba)\n",
    "\n",
    "import matplotlib.pyplot as plt \n",
    "plt.plot(fpr,tpr,label=\"data 1, auc=\"+str(auc))\n",
    "plt.legend(loc=4)\n",
    "plt.show()"
   ]
  },
  {
   "cell_type": "code",
   "execution_count": null,
   "metadata": {},
   "outputs": [],
   "source": []
  },
  {
   "cell_type": "code",
   "execution_count": null,
   "metadata": {},
   "outputs": [],
   "source": []
  },
  {
   "cell_type": "markdown",
   "metadata": {},
   "source": [
    "## Comparison of Evaluation metrics of different algorithms"
   ]
  },
  {
   "cell_type": "code",
   "execution_count": null,
   "metadata": {
    "ExecuteTime": {
     "end_time": "2021-08-23T05:17:12.804840Z",
     "start_time": "2021-08-23T05:15:32.195Z"
    }
   },
   "outputs": [],
   "source": [
    "model_RF.get_params() "
   ]
  },
  {
   "cell_type": "code",
   "execution_count": null,
   "metadata": {
    "ExecuteTime": {
     "end_time": "2021-08-23T05:17:12.805837Z",
     "start_time": "2021-08-23T05:15:32.201Z"
    }
   },
   "outputs": [],
   "source": [
    "model_DT.get_params()  "
   ]
  },
  {
   "cell_type": "code",
   "execution_count": null,
   "metadata": {
    "ExecuteTime": {
     "end_time": "2021-08-23T05:17:12.805837Z",
     "start_time": "2021-08-23T05:15:32.206Z"
    }
   },
   "outputs": [],
   "source": [
    "model_cb.get_all_params() "
   ]
  },
  {
   "cell_type": "code",
   "execution_count": null,
   "metadata": {
    "ExecuteTime": {
     "end_time": "2021-08-23T05:17:12.806835Z",
     "start_time": "2021-08-23T05:15:32.212Z"
    }
   },
   "outputs": [],
   "source": [
    "from sklearn.model_selection import RandomizedSearchCV\n",
    "# Number of trees in random forest\n",
    "n_estimators = [int(x) for x in np.linspace(start = 200, stop = 2000, num = 10)]\n",
    "# Number of features to consider at every split\n",
    "max_features = ['auto', 'sqrt']\n",
    "# Maximum number of levels in tree\n",
    "max_depth = [int(x) for x in np.linspace(10, 110, num = 11)]\n",
    "max_depth.append(None)\n",
    "# Minimum number of samples required to split a node\n",
    "min_samples_split = [2, 5, 10]\n",
    "# Minimum number of samples required at each leaf node\n",
    "min_samples_leaf = [1, 2, 4]\n",
    "# Method of selecting samples for training each tree\n",
    "bootstrap = [True, False]\n",
    "# Create the random grid\n",
    "random_grid = {'n_estimators': n_estimators,\n",
    "               'max_features': max_features,\n",
    "               'max_depth': max_depth,\n",
    "               'min_samples_split': min_samples_split,\n",
    "               'min_samples_leaf': min_samples_leaf,\n",
    "               'bootstrap': bootstrap}\n",
    "pprint(random_grid)\n",
    "{'bootstrap': [True, False],\n",
    " 'max_depth': [10, 20, 30, 40, 50, 60, 70, 80, 90, 100, None],\n",
    " 'max_features': ['auto', 'sqrt'],\n",
    " 'min_samples_leaf': [1, 2, 4],\n",
    " 'min_samples_split': [2, 5, 10],\n",
    " 'n_estimators': [200, 400, 600, 800, 1000, 1200, 1400, 1600, 1800, 2000]}"
   ]
  },
  {
   "cell_type": "code",
   "execution_count": null,
   "metadata": {
    "ExecuteTime": {
     "end_time": "2021-08-23T05:17:12.806835Z",
     "start_time": "2021-08-23T05:15:32.217Z"
    }
   },
   "outputs": [],
   "source": [
    "# Use the random grid to search for best hyperparameters\n",
    "# First create the base model to tune\n",
    "rf = RandomForestRegressor()\n",
    "# Random search of parameters, using 3 fold cross validation, \n",
    "# search across 100 different combinations, and use all available cores\n",
    "rf_random = RandomizedSearchCV(estimator = rf, param_distributions = random_grid, n_iter = 100, cv = 3, verbose=2, random_state=42, n_jobs = -1)\n",
    "# Fit the random search model\n",
    "rf_random.fit(train_features, train_labels)"
   ]
  },
  {
   "cell_type": "code",
   "execution_count": null,
   "metadata": {},
   "outputs": [],
   "source": []
  }
 ],
 "metadata": {
  "kernelspec": {
   "display_name": "Python 3",
   "language": "python",
   "name": "python3"
  },
  "language_info": {
   "codemirror_mode": {
    "name": "ipython",
    "version": 3
   },
   "file_extension": ".py",
   "mimetype": "text/x-python",
   "name": "python",
   "nbconvert_exporter": "python",
   "pygments_lexer": "ipython3",
   "version": "3.8.5"
  },
  "toc": {
   "base_numbering": 1,
   "nav_menu": {},
   "number_sections": true,
   "sideBar": true,
   "skip_h1_title": true,
   "title_cell": "Table of Contents",
   "title_sidebar": "Contents",
   "toc_cell": false,
   "toc_position": {
    "height": "calc(100% - 180px)",
    "left": "10px",
    "top": "150px",
    "width": "357.017px"
   },
   "toc_section_display": true,
   "toc_window_display": true
  }
 },
 "nbformat": 4,
 "nbformat_minor": 4
}
